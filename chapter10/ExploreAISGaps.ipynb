{
 "cells": [
  {
   "cell_type": "code",
   "execution_count": 1,
   "id": "532c744a",
   "metadata": {},
   "outputs": [],
   "source": [
    "import matplotlib.pyplot as plt\n",
    "import pandas as pd\n",
    "import psycopg as pg\n",
    "import numpy as np"
   ]
  },
  {
   "cell_type": "code",
   "execution_count": 2,
   "id": "519dcba5",
   "metadata": {},
   "outputs": [],
   "source": [
    "# Connect to PostgreSQL database using psycopg3\n",
    "connection = pg.connect(\n",
    "    host=\"localhost\",  # or your database host\n",
    "    port=\"5432\",\n",
    "    dbname=\"Vessels\",\n",
    "    user=\"postgres\",\n",
    "    password=\"postgres\"  # Replace with your actual password\n",
    ")\n"
   ]
  },
  {
   "cell_type": "code",
   "execution_count": 3,
   "id": "9b109fc7",
   "metadata": {},
   "outputs": [],
   "source": [
    "# Query to generate the binary bitmap directly from the database\n",
    "query = \"\"\"\n",
    "WITH time_intervals AS (\n",
    "    -- Generate a series of 10-minute intervals for the entire day\n",
    "    SELECT generate_series(\n",
    "        '2024-03-01 00:00:00'::timestamp,\n",
    "        '2024-03-01 23:59:59'::timestamp,\n",
    "        '10 minute'::interval\n",
    "    ) AS time_bin\n",
    "),\n",
    "observations AS (\n",
    "    -- Get distinct MMSI and corresponding observation times\n",
    "    SELECT MMSI, date_bin('10 minutes', T, TIMESTAMP '2024-03-01 00:00:00'::timestamp) AS observation_bin\n",
    "    FROM AISInputTarget\n",
    "    WHERE T >= '2024-03-01 00:00:00' AND T <= '2024-03-01 23:59:59'\n",
    ")\n",
    "-- Create the matrix where each cell represents whether an observation exists (0) or is empty (1)\n",
    "SELECT mmsi_ids.MMSI, time_intervals.time_bin,\n",
    "    COUNT(observations.observation_bin) > 0 AS has_observations\n",
    "FROM\n",
    "    (SELECT DISTINCT MMSI FROM AISInput) AS mmsi_ids\n",
    "    CROSS JOIN time_intervals\n",
    "    LEFT JOIN observations ON mmsi_ids.MMSI = observations.MMSI AND time_intervals.time_bin = observations.observation_bin\n",
    "GROUP BY mmsi_ids.\n",
    "MMSI, time_intervals.time_bin;\n",
    "\"\"\""
   ]
  },
  {
   "cell_type": "code",
   "execution_count": 4,
   "id": "c7dc3ccb",
   "metadata": {},
   "outputs": [
    {
     "name": "stderr",
     "output_type": "stream",
     "text": [
      "/var/folders/0l/vnw0n9616ns_8tqvv2nzbzjh0000gn/T/ipykernel_31383/3663969895.py:2: UserWarning: pandas only supports SQLAlchemy connectable (engine/connection) or database string URI or sqlite3 DBAPI2 connection. Other DBAPI2 objects are not tested. Please consider using SQLAlchemy.\n",
      "  df = pd.read_sql_query(query, connection)\n"
     ]
    }
   ],
   "source": [
    "# Load the data into a pandas DataFrame\n",
    "df = pd.read_sql_query(query, connection)\n",
    "\n",
    "# Close the connection\n",
    "connection.close()"
   ]
  },
  {
   "cell_type": "code",
   "execution_count": 5,
   "id": "002cc45c",
   "metadata": {},
   "outputs": [
    {
     "data": {
      "text/html": [
       "<div>\n",
       "<style scoped>\n",
       "    .dataframe tbody tr th:only-of-type {\n",
       "        vertical-align: middle;\n",
       "    }\n",
       "\n",
       "    .dataframe tbody tr th {\n",
       "        vertical-align: top;\n",
       "    }\n",
       "\n",
       "    .dataframe thead th {\n",
       "        text-align: right;\n",
       "    }\n",
       "</style>\n",
       "<table border=\"1\" class=\"dataframe\">\n",
       "  <thead>\n",
       "    <tr style=\"text-align: right;\">\n",
       "      <th></th>\n",
       "      <th>mmsi</th>\n",
       "      <th>time_bin</th>\n",
       "      <th>has_observations</th>\n",
       "    </tr>\n",
       "  </thead>\n",
       "  <tbody>\n",
       "    <tr>\n",
       "      <th>0</th>\n",
       "      <td>174</td>\n",
       "      <td>2024-03-01 00:00:00</td>\n",
       "      <td>False</td>\n",
       "    </tr>\n",
       "    <tr>\n",
       "      <th>1</th>\n",
       "      <td>174</td>\n",
       "      <td>2024-03-01 00:10:00</td>\n",
       "      <td>False</td>\n",
       "    </tr>\n",
       "    <tr>\n",
       "      <th>2</th>\n",
       "      <td>174</td>\n",
       "      <td>2024-03-01 00:20:00</td>\n",
       "      <td>False</td>\n",
       "    </tr>\n",
       "    <tr>\n",
       "      <th>3</th>\n",
       "      <td>174</td>\n",
       "      <td>2024-03-01 00:30:00</td>\n",
       "      <td>False</td>\n",
       "    </tr>\n",
       "    <tr>\n",
       "      <th>4</th>\n",
       "      <td>174</td>\n",
       "      <td>2024-03-01 00:40:00</td>\n",
       "      <td>False</td>\n",
       "    </tr>\n",
       "    <tr>\n",
       "      <th>...</th>\n",
       "      <td>...</td>\n",
       "      <td>...</td>\n",
       "      <td>...</td>\n",
       "    </tr>\n",
       "    <tr>\n",
       "      <th>456331</th>\n",
       "      <td>1058600528</td>\n",
       "      <td>2024-03-01 23:10:00</td>\n",
       "      <td>False</td>\n",
       "    </tr>\n",
       "    <tr>\n",
       "      <th>456332</th>\n",
       "      <td>1058600528</td>\n",
       "      <td>2024-03-01 23:20:00</td>\n",
       "      <td>False</td>\n",
       "    </tr>\n",
       "    <tr>\n",
       "      <th>456333</th>\n",
       "      <td>1058600528</td>\n",
       "      <td>2024-03-01 23:30:00</td>\n",
       "      <td>False</td>\n",
       "    </tr>\n",
       "    <tr>\n",
       "      <th>456334</th>\n",
       "      <td>1058600528</td>\n",
       "      <td>2024-03-01 23:40:00</td>\n",
       "      <td>False</td>\n",
       "    </tr>\n",
       "    <tr>\n",
       "      <th>456335</th>\n",
       "      <td>1058600528</td>\n",
       "      <td>2024-03-01 23:50:00</td>\n",
       "      <td>False</td>\n",
       "    </tr>\n",
       "  </tbody>\n",
       "</table>\n",
       "<p>456336 rows × 3 columns</p>\n",
       "</div>"
      ],
      "text/plain": [
       "              mmsi            time_bin  has_observations\n",
       "0              174 2024-03-01 00:00:00             False\n",
       "1              174 2024-03-01 00:10:00             False\n",
       "2              174 2024-03-01 00:20:00             False\n",
       "3              174 2024-03-01 00:30:00             False\n",
       "4              174 2024-03-01 00:40:00             False\n",
       "...            ...                 ...               ...\n",
       "456331  1058600528 2024-03-01 23:10:00             False\n",
       "456332  1058600528 2024-03-01 23:20:00             False\n",
       "456333  1058600528 2024-03-01 23:30:00             False\n",
       "456334  1058600528 2024-03-01 23:40:00             False\n",
       "456335  1058600528 2024-03-01 23:50:00             False\n",
       "\n",
       "[456336 rows x 3 columns]"
      ]
     },
     "execution_count": 5,
     "metadata": {},
     "output_type": "execute_result"
    }
   ],
   "source": [
    "df"
   ]
  },
  {
   "cell_type": "code",
   "execution_count": 8,
   "id": "99fa4e76",
   "metadata": {},
   "outputs": [
    {
     "data": {
      "image/png": "[encoded data removed]",
      "text/plain": [
       "<Figure size 1500x500 with 1 Axes>"
      ]
     },
     "metadata": {},
     "output_type": "display_data"
    }
   ],
   "source": [
    "# Pivot the DataFrame to create a matrix for visualization\n",
    "pivot_df = df.pivot(index='mmsi', columns='time_bin', values='has_observations')\n",
    "\n",
    "# Convert the pivot table to a numpy array (matrix)\n",
    "bitmap_matrix = pivot_df.to_numpy()\n",
    "\n",
    "# Create the plot\n",
    "plt.figure(figsize=(15, 5))\n",
    "\n",
    "# Use a binary colormap: red for 1 (empty), green for 0 (observed)\n",
    "cmap = plt.cm.get_cmap('RdYlGn', 2)  # Red-Yellow-Green colormap, reduced to two colors: Green for data, Red for no-data\n",
    "plt.imshow(bitmap_matrix, aspect='auto', cmap=cmap, interpolation='none')\n",
    "\n",
    "# Set font properties\n",
    "font = {'family': 'Arial',\n",
    "        'size': 18,\n",
    "        'color': 'black'}\n",
    "\n",
    "# Add title and labels with custom fonts\n",
    "plt.title('', fontdict=font)  # Title left blank as per original code\n",
    "plt.xlabel('Timestamp', fontdict=font)\n",
    "plt.ylabel('MMSI', fontdict=font)\n",
    "\n",
    "# Customize x-axis labels for better readability\n",
    "n_ticks = 12  # Number of ticks to show on x-axis\n",
    "timestamps = pivot_df.columns\n",
    "plt.xticks(np.linspace(0, len(timestamps) - 1, n_ticks), \n",
    "           pd.to_datetime(timestamps[::len(timestamps)//n_ticks]).strftime('%H:%M'), fontdict=font)\n",
    "\n",
    "# Suppress y-axis labels to avoid overcrowding\n",
    "plt.gca().yaxis.set_visible(False)\n",
    "\n",
    "# Add an axis title for MMSI\n",
    "plt.text(-5, 0, 'MMSI', va='center', ha='center', fontdict=font)\n",
    "\n",
    "# Show the colorbar to indicate binary observation\n",
    "#plt.colorbar(label=\"Observation Status\", ticks=[0, 1])\n",
    "#plt.clim(0, 1)  # Set limits for binary color scaling\n",
    "\n",
    "# Save the heatmap as a PDF with zero margins\n",
    "plt.savefig(\"/Users/avaisman/tmp/PythonNotebooks/Figs/ais_binary_heatmap.pdf\", bbox_inches='tight', pad_inches=0)\n",
    "\n",
    "# Show the plot\n",
    "plt.tight_layout()\n",
    "plt.show()"
   ]
  },
  {
   "cell_type": "code",
   "execution_count": null,
   "id": "25d35897",
   "metadata": {},
   "outputs": [],
   "source": []
  }
 ],
 "metadata": {
  "kernelspec": {
   "display_name": "Python 3 (ipykernel)",
   "language": "python",
   "name": "python3"
  },
  "language_info": {
   "codemirror_mode": {
    "name": "ipython",
    "version": 3
   },
   "file_extension": ".py",
   "mimetype": "text/x-python",
   "name": "python",
   "nbconvert_exporter": "python",
   "pygments_lexer": "ipython3",
   "version": "3.11.5"
  }
 },
 "nbformat": 4,
 "nbformat_minor": 5
}
