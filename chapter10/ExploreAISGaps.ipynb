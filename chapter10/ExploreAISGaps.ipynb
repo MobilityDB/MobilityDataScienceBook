{
 "cells": [
  {
   "cell_type": "code",
   "execution_count": null,
   "id": "532c744a",
   "metadata": {},
   "outputs": [],
   "source": [
    "import matplotlib.pyplot as plt\n",
    "import pandas as pd\n",
    "import psycopg as pg\n",
    "import numpy as np"
   ]
  },
  {
   "cell_type": "code",
   "execution_count": null,
   "id": "519dcba5",
   "metadata": {},
   "outputs": [],
   "source": [
    "# Connect to PostgreSQL database using psycopg3\n",
    "connection = pg.connect(\n",
    "    host=\"localhost\",  # or your database host\n",
    "    port=\"5432\",\n",
    "    dbname=\"mobility_analytics_chapter\",\n",
    "    user=\"postgres\",\n",
    "    password=\"password\"  # Replace with your actual password\n",
    ")\n"
   ]
  },
  {
   "cell_type": "code",
   "execution_count": null,
   "id": "9b109fc7",
   "metadata": {},
   "outputs": [],
   "source": [
    "# Query to generate the binary bitmap directly from the database\n",
    "query = \"\"\"\n",
    "WITH time_intervals AS (\n",
    "    -- Generate a series of 10-minute intervals for the entire day\n",
    "    SELECT generate_series(\n",
    "        '2024-03-01 00:00:00'::timestamp,\n",
    "        '2024-03-01 23:59:59'::timestamp,\n",
    "        '10 minute'::interval\n",
    "    ) AS time_bin\n",
    "),\n",
    "observations AS (\n",
    "    -- Get distinct MMSI and corresponding observation times\n",
    "    SELECT MMSI, date_bin('10 minutes', T, TIMESTAMP '2024-03-01 00:00:00'::timestamp) AS observation_bin\n",
    "    FROM AISInputTarget\n",
    "    WHERE T >= '2024-03-01 00:00:00' AND T <= '2024-03-01 23:59:59'\n",
    ")\n",
    "-- Create the matrix where each cell represents whether an observation exists (0) or is empty (1)\n",
    "SELECT mmsi_ids.MMSI, time_intervals.time_bin,\n",
    "    COUNT(observations.observation_bin) > 0 AS has_observations\n",
    "FROM\n",
    "    (SELECT DISTINCT MMSI FROM AISInput) AS mmsi_ids\n",
    "    CROSS JOIN time_intervals\n",
    "    LEFT JOIN observations ON mmsi_ids.MMSI = observations.MMSI AND time_intervals.time_bin = observations.observation_bin\n",
    "GROUP BY mmsi_ids.\n",
    "MMSI, time_intervals.time_bin;\n",
    "\"\"\""
   ]
  },
  {
   "cell_type": "code",
   "execution_count": null,
   "id": "c7dc3ccb",
   "metadata": {},
   "outputs": [],
   "source": [
    "# Load the data into a pandas DataFrame\n",
    "df = pd.read_sql_query(query, connection)\n",
    "\n",
    "# Close the connection\n",
    "connection.close()"
   ]
  },
  {
   "cell_type": "code",
   "execution_count": null,
   "id": "002cc45c",
   "metadata": {},
   "outputs": [],
   "source": [
    "df"
   ]
  },
  {
   "cell_type": "code",
   "execution_count": null,
   "id": "25d35897",
   "metadata": {
    "scrolled": false
   },
   "outputs": [],
   "source": [
    "# Sample DataFrame creation (replace with your actual data)\n",
    "# df = pd.DataFrame(...) # Your original dataframe here\n",
    "\n",
    "# Pivot the DataFrame to create a matrix for visualization\n",
    "pivot_df = df.pivot(index='mmsi', columns='time_bin', values='has_observations')\n",
    "\n",
    "# Convert the pivot table to a numpy array (matrix)\n",
    "bitmap_matrix = pivot_df.to_numpy()\n",
    "\n",
    "# Create the plot\n",
    "plt.figure(figsize=(15, 5))\n",
    "\n",
    "# Use a binary colormap: red for 1 (empty), green for 0 (observed)\n",
    "cmap = plt.cm.get_cmap('RdYlGn', 2)  # Red-Yellow-Green colormap with two discrete colors\n",
    "plt.imshow(bitmap_matrix, aspect='auto', cmap=cmap, interpolation='none')\n",
    "\n",
    "# Set font properties\n",
    "font = {'family': 'Liberation Serif',\n",
    "        'size': 18,\n",
    "        'color': 'black'}\n",
    "\n",
    "# Add labels with custom fonts\n",
    "plt.xlabel('Timestamp', fontdict=font)\n",
    "plt.ylabel('MMSI', fontdict=font)\n",
    "\n",
    "# Customize x-axis labels for readability\n",
    "n_ticks = 12  # Number of ticks to show on x-axis\n",
    "timestamps = pivot_df.columns\n",
    "plt.xticks(np.linspace(0, len(timestamps) - 1, n_ticks), \n",
    "           pd.to_datetime(timestamps[::len(timestamps)//n_ticks]).strftime('%H:%M'), fontdict=font)\n",
    "\n",
    "# Suppress y-axis labels to avoid overcrowding\n",
    "plt.gca().yaxis.set_visible(False)\n",
    "\n",
    "# Add an axis title for MMSI outside the y-axis\n",
    "plt.text(-5, 0, 'MMSI', va='center', ha='center', fontdict=font, rotation=90)\n",
    "\n",
    "# Save the heatmap as a PDF with zero margins\n",
    "plt.savefig(\"AISGaps.pdf\", format='pdf', bbox_inches='tight', pad_inches=0)\n",
    "\n",
    "# Display the plot in a viewer\n",
    "plt.show()\n"
   ]
  }
 ],
 "metadata": {
  "kernelspec": {
   "display_name": "Python (book)",
   "language": "python",
   "name": "book"
  },
  "language_info": {
   "codemirror_mode": {
    "name": "ipython",
    "version": 3
   },
   "file_extension": ".py",
   "mimetype": "text/x-python",
   "name": "python",
   "nbconvert_exporter": "python",
   "pygments_lexer": "ipython3",
   "version": "3.12.2"
  }
 },
 "nbformat": 4,
 "nbformat_minor": 5
}
