{
 "cells": [
  {
   "cell_type": "code",
   "execution_count": 5,
   "id": "d55983bb",
   "metadata": {},
   "outputs": [
    {
     "name": "stdout",
     "output_type": "stream",
     "text": [
      "Collecting psycopg\n",
      "  Downloading psycopg-3.2.3-py3-none-any.whl.metadata (4.3 kB)\n",
      "Requirement already satisfied: pandas in /home/mahmoud/miniconda3/envs/book/lib/python3.12/site-packages (2.2.2)\n",
      "Requirement already satisfied: matplotlib in /home/mahmoud/miniconda3/envs/book/lib/python3.12/site-packages (3.8.4)\n",
      "Requirement already satisfied: typing-extensions>=4.6 in /home/mahmoud/miniconda3/envs/book/lib/python3.12/site-packages (from psycopg) (4.12.2)\n",
      "Requirement already satisfied: numpy>=1.26.0 in /home/mahmoud/miniconda3/envs/book/lib/python3.12/site-packages (from pandas) (1.26.4)\n",
      "Requirement already satisfied: python-dateutil>=2.8.2 in /home/mahmoud/miniconda3/envs/book/lib/python3.12/site-packages (from pandas) (2.9.0)\n",
      "Requirement already satisfied: pytz>=2020.1 in /home/mahmoud/miniconda3/envs/book/lib/python3.12/site-packages (from pandas) (2024.1)\n",
      "Requirement already satisfied: tzdata>=2022.7 in /home/mahmoud/miniconda3/envs/book/lib/python3.12/site-packages (from pandas) (2024.1)\n",
      "Requirement already satisfied: contourpy>=1.0.1 in /home/mahmoud/miniconda3/envs/book/lib/python3.12/site-packages (from matplotlib) (1.2.0)\n",
      "Requirement already satisfied: cycler>=0.10 in /home/mahmoud/miniconda3/envs/book/lib/python3.12/site-packages (from matplotlib) (0.12.1)\n",
      "Requirement already satisfied: fonttools>=4.22.0 in /home/mahmoud/miniconda3/envs/book/lib/python3.12/site-packages (from matplotlib) (4.51.0)\n",
      "Requirement already satisfied: kiwisolver>=1.3.1 in /home/mahmoud/miniconda3/envs/book/lib/python3.12/site-packages (from matplotlib) (1.4.5)\n",
      "Requirement already satisfied: packaging>=20.0 in /home/mahmoud/miniconda3/envs/book/lib/python3.12/site-packages (from matplotlib) (24.0)\n",
      "Requirement already satisfied: pillow>=8 in /home/mahmoud/miniconda3/envs/book/lib/python3.12/site-packages (from matplotlib) (10.3.0)\n",
      "Requirement already satisfied: pyparsing>=2.3.1 in /home/mahmoud/miniconda3/envs/book/lib/python3.12/site-packages (from matplotlib) (3.1.2)\n",
      "Requirement already satisfied: six>=1.5 in /home/mahmoud/miniconda3/envs/book/lib/python3.12/site-packages (from python-dateutil>=2.8.2->pandas) (1.16.0)\n",
      "Downloading psycopg-3.2.3-py3-none-any.whl (197 kB)\n",
      "\u001b[2K   \u001b[38;2;114;156;31m━━━━━━━━━━━━━━━━━━━━━━━━━━━━━━━━━━━━━━━━\u001b[0m \u001b[32m197.9/197.9 kB\u001b[0m \u001b[31m2.6 MB/s\u001b[0m eta \u001b[36m0:00:00\u001b[0m MB/s\u001b[0m eta \u001b[36m0:00:01\u001b[0m\n",
      "\u001b[?25hInstalling collected packages: psycopg\n",
      "Successfully installed psycopg-3.2.3\n",
      "Note: you may need to restart the kernel to use updated packages.\n"
     ]
    }
   ],
   "source": [
    "pip install psycopg pandas matplotlib"
   ]
  },
  {
   "cell_type": "code",
   "execution_count": 22,
   "id": "002cc45c",
   "metadata": {},
   "outputs": [
    {
     "name": "stderr",
     "output_type": "stream",
     "text": [
      "/tmp/ipykernel_191433/2611251391.py:43: UserWarning: pandas only supports SQLAlchemy connectable (engine/connection) or database string URI or sqlite3 DBAPI2 connection. Other DBAPI2 objects are not tested. Please consider using SQLAlchemy.\n",
      "  df = pd.read_sql_query(query, connection)\n"
     ]
    }
   ],
   "source": [
    "import matplotlib.pyplot as plt\n",
    "import pandas as pd\n",
    "import psycopg as pg\n",
    "import numpy as np\n",
    "\n",
    "# Connect to PostgreSQL database using psycopg3\n",
    "connection = pg.connect(\n",
    "    host=\"localhost\",  # or your database host\n",
    "    port=\"5432\",\n",
    "    dbname=\"aisanalysis\",\n",
    "    user=\"postgres\",\n",
    "    password=\"your_pass\"  # Replace with your actual password\n",
    ")\n",
    "\n",
    "# Query to generate the binary bitmap directly from the database\n",
    "query = \"\"\"\n",
    "WITH time_intervals AS (\n",
    "    -- Generate a series of 10-minute intervals for the entire day\n",
    "    SELECT generate_series(\n",
    "        '2024-03-01 00:00:00'::timestamp,\n",
    "        '2024-03-01 23:59:59'::timestamp,\n",
    "        '10 minute'::interval\n",
    "    ) AS time_bin\n",
    "),\n",
    "observations AS (\n",
    "    -- Get distinct MMSI and corresponding observation times\n",
    "    SELECT MMSI, date_bin('10 minutes', T, TIMESTAMP '2024-03-01 00:00:00'::timestamp) AS observation_bin\n",
    "    FROM AISInputTarget\n",
    "    WHERE T >= '2024-03-01 00:00:00' AND T <= '2024-03-01 23:59:59'\n",
    ")\n",
    "-- Create the matrix where each cell represents whether an observation exists (0) or is empty (1)\n",
    "SELECT mmsi_ids.MMSI, time_intervals.time_bin,\n",
    "    COUNT(observations.observation_bin) > 0 AS has_observations\n",
    "FROM\n",
    "    (SELECT DISTINCT MMSI FROM AISInput) AS mmsi_ids\n",
    "    CROSS JOIN time_intervals\n",
    "    LEFT JOIN observations ON mmsi_ids.MMSI = observations.MMSI AND time_intervals.time_bin = observations.observation_bin\n",
    "GROUP BY mmsi_ids.\n",
    "MMSI, time_intervals.time_bin;\n",
    "\"\"\"\n",
    "\n",
    "# Load the data into a pandas DataFrame\n",
    "df = pd.read_sql_query(query, connection)\n",
    "\n",
    "# Close the connection\n",
    "connection.close()"
   ]
  },
  {
   "cell_type": "code",
   "execution_count": 30,
   "id": "99fa4e76",
   "metadata": {},
   "outputs": [
    {
     "name": "stderr",
     "output_type": "stream",
     "text": [
      "/tmp/ipykernel_191433/414527670.py:11: MatplotlibDeprecationWarning: The get_cmap function was deprecated in Matplotlib 3.7 and will be removed two minor releases later. Use ``matplotlib.colormaps[name]`` or ``matplotlib.colormaps.get_cmap(obj)`` instead.\n",
      "  cmap = plt.cm.get_cmap('RdYlGn', 2)  # Red-Yellow-Green colormap, reduced to two colors: Green for data, Red for no-data\n"
     ]
    },
    {
     "data": {
      "image/png": "[encoded data removed]",
      "text/plain": [
       "<Figure size 1500x500 with 1 Axes>"
      ]
     },
     "metadata": {},
     "output_type": "display_data"
    }
   ],
   "source": [
    "\n",
    "# Pivot the DataFrame to create a matrix for visualization\n",
    "pivot_df = df.pivot(index='mmsi', columns='time_bin', values='has_observations')\n",
    "\n",
    "# Convert the pivot table to a numpy array (matrix)\n",
    "bitmap_matrix = pivot_df.to_numpy()\n",
    "\n",
    "# Create the plot\n",
    "plt.figure(figsize=(15, 5))\n",
    "\n",
    "# Use a binary colormap: red for 1 (empty), green for 0 (observed)\n",
    "cmap = plt.cm.get_cmap('RdYlGn', 2)  # Red-Yellow-Green colormap, reduced to two colors: Green for data, Red for no-data\n",
    "plt.imshow(bitmap_matrix, aspect='auto', cmap=cmap, interpolation='none')\n",
    "\n",
    "# Set font properties\n",
    "font = {'family': 'Liberation Serif',\n",
    "        'size': 18,\n",
    "        'color': 'black'}\n",
    "\n",
    "# Add title and labels with custom fonts\n",
    "plt.title('', fontdict=font)  # Title left blank as per original code\n",
    "plt.xlabel('Timestamp', fontdict=font)\n",
    "plt.ylabel('MMSI', fontdict=font)\n",
    "\n",
    "# Customize x-axis labels for better readability\n",
    "n_ticks = 12  # Number of ticks to show on x-axis\n",
    "timestamps = pivot_df.columns\n",
    "plt.xticks(np.linspace(0, len(timestamps) - 1, n_ticks), \n",
    "           pd.to_datetime(timestamps[::len(timestamps)//n_ticks]).strftime('%H:%M'), fontdict=font)\n",
    "\n",
    "# Suppress y-axis labels to avoid overcrowding\n",
    "plt.gca().yaxis.set_visible(False)\n",
    "\n",
    "# Add an axis title for MMSI\n",
    "plt.text(-5, 0, 'MMSI', va='center', ha='center', fontdict=font)\n",
    "\n",
    "# Show the colorbar to indicate binary observation\n",
    "#plt.colorbar(label=\"Observation Status\", ticks=[0, 1])\n",
    "#plt.clim(0, 1)  # Set limits for binary color scaling\n",
    "\n",
    "# Save the heatmap as a PDF with zero margins\n",
    "plt.savefig(\"ais_binary_heatmap.pdf\", bbox_inches='tight', pad_inches=0)\n",
    "\n",
    "# Show the plot\n",
    "plt.tight_layout()\n",
    "plt.show()"
   ]
  }
 ],
 "metadata": {
  "kernelspec": {
   "display_name": "Python (book)",
   "language": "python",
   "name": "book"
  },
  "language_info": {
   "codemirror_mode": {
    "name": "ipython",
    "version": 3
   },
   "file_extension": ".py",
   "mimetype": "text/x-python",
   "name": "python",
   "nbconvert_exporter": "python",
   "pygments_lexer": "ipython3",
   "version": "3.12.2"
  }
 },
 "nbformat": 4,
 "nbformat_minor": 5
}
