{
 "cells": [
  {
   "cell_type": "code",
   "execution_count": 1,
   "id": "43312946",
   "metadata": {},
   "outputs": [],
   "source": [
    "import altair as alt"
   ]
  },
  {
   "cell_type": "code",
   "execution_count": 2,
   "id": "2dae9cf6",
   "metadata": {},
   "outputs": [
    {
     "data": {
      "text/plain": [
       "'5.4.1'"
      ]
     },
     "execution_count": 2,
     "metadata": {},
     "output_type": "execute_result"
    }
   ],
   "source": [
    "alt.__version__"
   ]
  },
  {
   "cell_type": "code",
   "execution_count": 33,
   "id": "1225186e",
   "metadata": {},
   "outputs": [],
   "source": [
    "import warnings\n",
    "warnings.simplefilter(action='ignore', category=FutureWarning)\n",
    "\n",
    "import pandas as pd\n",
    "\n",
    "data = {\n",
    "    'Interval': ['1m', '2m', '5m', '10m'],\n",
    "    'NoSamplesTP': [2401927, 1286053, 542615, 280572],\n",
    "    'NoSamplesTS': [3336696, 1667782, 666307, 332286]\n",
    "}\n",
    "\n",
    "df = pd.DataFrame(data)\n",
    "\n",
    "df_melted = df.melt(id_vars=['Interval'], var_name='variable', value_name='value')\n"
   ]
  },
  {
   "cell_type": "code",
   "execution_count": 36,
   "id": "5e4bad4d",
   "metadata": {},
   "outputs": [
    {
     "data": {
      "text/html": [
       "\n",
       "<style>\n",
       "  #altair-viz-9a58bf08852449bba29d9a377d6450c9.vega-embed {\n",
       "    width: 100%;\n",
       "    display: flex;\n",
       "  }\n",
       "\n",
       "  #altair-viz-9a58bf08852449bba29d9a377d6450c9.vega-embed details,\n",
       "  #altair-viz-9a58bf08852449bba29d9a377d6450c9.vega-embed details summary {\n",
       "    position: relative;\n",
       "  }\n",
       "</style>\n",
       "<div id=\"altair-viz-9a58bf08852449bba29d9a377d6450c9\"></div>\n",
       "<script type=\"text/javascript\">\n",
       "  var VEGA_DEBUG = (typeof VEGA_DEBUG == \"undefined\") ? {} : VEGA_DEBUG;\n",
       "  (function(spec, embedOpt){\n",
       "    let outputDiv = document.currentScript.previousElementSibling;\n",
       "    if (outputDiv.id !== \"altair-viz-9a58bf08852449bba29d9a377d6450c9\") {\n",
       "      outputDiv = document.getElementById(\"altair-viz-9a58bf08852449bba29d9a377d6450c9\");\n",
       "    }\n",
       "    const paths = {\n",
       "      \"vega\": \"https://cdn.jsdelivr.net/npm/vega@5?noext\",\n",
       "      \"vega-lib\": \"https://cdn.jsdelivr.net/npm/vega-lib?noext\",\n",
       "      \"vega-lite\": \"https://cdn.jsdelivr.net/npm/vega-lite@5.20.1?noext\",\n",
       "      \"vega-embed\": \"https://cdn.jsdelivr.net/npm/vega-embed@6?noext\",\n",
       "    };\n",
       "\n",
       "    function maybeLoadScript(lib, version) {\n",
       "      var key = `${lib.replace(\"-\", \"\")}_version`;\n",
       "      return (VEGA_DEBUG[key] == version) ?\n",
       "        Promise.resolve(paths[lib]) :\n",
       "        new Promise(function(resolve, reject) {\n",
       "          var s = document.createElement('script');\n",
       "          document.getElementsByTagName(\"head\")[0].appendChild(s);\n",
       "          s.async = true;\n",
       "          s.onload = () => {\n",
       "            VEGA_DEBUG[key] = version;\n",
       "            return resolve(paths[lib]);\n",
       "          };\n",
       "          s.onerror = () => reject(`Error loading script: ${paths[lib]}`);\n",
       "          s.src = paths[lib];\n",
       "        });\n",
       "    }\n",
       "\n",
       "    function showError(err) {\n",
       "      outputDiv.innerHTML = `<div class=\"error\" style=\"color:red;\">${err}</div>`;\n",
       "      throw err;\n",
       "    }\n",
       "\n",
       "    function displayChart(vegaEmbed) {\n",
       "      vegaEmbed(outputDiv, spec, embedOpt)\n",
       "        .catch(err => showError(`Javascript Error: ${err.message}<br>This usually means there's a typo in your chart specification. See the javascript console for the full traceback.`));\n",
       "    }\n",
       "\n",
       "    if(typeof define === \"function\" && define.amd) {\n",
       "      requirejs.config({paths});\n",
       "      require([\"vega-embed\"], displayChart, err => showError(`Error loading script: ${err.message}`));\n",
       "    } else {\n",
       "      maybeLoadScript(\"vega\", \"5\")\n",
       "        .then(() => maybeLoadScript(\"vega-lite\", \"5.20.1\"))\n",
       "        .then(() => maybeLoadScript(\"vega-embed\", \"6\"))\n",
       "        .catch(showError)\n",
       "        .then(() => displayChart(vegaEmbed));\n",
       "    }\n",
       "  })({\"config\": {\"view\": {\"continuousWidth\": 300, \"continuousHeight\": 300}, \"axis\": {\"labelFontSize\": 9, \"labelFontStyle\": \"Arial\", \"labelFontWeight\": \"normal\", \"titleFontSize\": 12, \"titleFontStyle\": \"Arial\", \"titleFontWeight\": \"normal\"}}, \"data\": {\"name\": \"data-7424dd4bc2cee55542f555881380a455\"}, \"mark\": {\"type\": \"bar\"}, \"encoding\": {\"color\": {\"field\": \"variable\", \"legend\": {\"titleFontWeight\": \"normal\", \"titleFontSize\": 10, \"titleFontStyle\": \"Arial\", \"labelFontWeight\": \"normal\", \"labelFontStyle\": \"Arial\", \"labelFontSize\": 9}, \"title\": \"Sampling Method\", \"type\": \"nominal\"}, \"x\": {\"axis\": {\"labelAngle\": 0}, \"field\": \"Interval\", \"sort\": [\"1m\", \"2m\", \"5m\", \"10m\"], \"type\": \"ordinal\"}, \"xOffset\": {\"field\": \"variable\", \"type\": \"nominal\"}, \"y\": {\"field\": \"value\", \"title\": \"Number of Samples\", \"type\": \"quantitative\"}}, \"height\": 200, \"width\": 330, \"$schema\": \"https://vega.github.io/schema/vega-lite/v5.20.1.json\", \"datasets\": {\"data-7424dd4bc2cee55542f555881380a455\": [{\"Interval\": \"1m\", \"variable\": \"NoSamplesTP\", \"value\": 2401927}, {\"Interval\": \"2m\", \"variable\": \"NoSamplesTP\", \"value\": 1286053}, {\"Interval\": \"5m\", \"variable\": \"NoSamplesTP\", \"value\": 542615}, {\"Interval\": \"10m\", \"variable\": \"NoSamplesTP\", \"value\": 280572}, {\"Interval\": \"1m\", \"variable\": \"NoSamplesTS\", \"value\": 3336696}, {\"Interval\": \"2m\", \"variable\": \"NoSamplesTS\", \"value\": 1667782}, {\"Interval\": \"5m\", \"variable\": \"NoSamplesTS\", \"value\": 666307}, {\"Interval\": \"10m\", \"variable\": \"NoSamplesTS\", \"value\": 332286}]}}, {\"mode\": \"vega-lite\"});\n",
       "</script>"
      ],
      "text/plain": [
       "alt.Chart(...)"
      ]
     },
     "execution_count": 36,
     "metadata": {},
     "output_type": "execute_result"
    }
   ],
   "source": [
    "alt.Chart(df_melted).mark_bar().encode(\n",
    "    x=alt.X('Interval:O', axis=alt.Axis(labelAngle=0), sort=['1m', '2m', '5m', '10m']),\n",
    "    y=alt.Y('value:Q', title=\"Number of Samples\"),\n",
    "    xOffset=\"variable:N\",\n",
    "    color=alt.Color(\"variable:N\", title=\"Sampling Method\").legend(titleFontWeight='normal',  \n",
    "                                    titleFontSize=10, titleFontStyle='Arial',labelFontWeight='normal', labelFontStyle='Arial',\n",
    "                                    labelFontSize=9),\n",
    ").properties(width=330, height=200).configure_axis(\n",
    "    labelFontSize=9,\n",
    "    titleFontSize=12,\n",
    "    labelFontWeight='normal',\n",
    "    titleFontWeight='normal',\n",
    "    labelFontStyle='Arial',\n",
    "    titleFontStyle='Arial' \n",
    "#  font='Arial') \n",
    ")\n"
   ]
  },
  {
   "cell_type": "code",
   "execution_count": 30,
   "id": "8a6b4d12",
   "metadata": {},
   "outputs": [],
   "source": [
    "data1 = {\n",
    "    'Distance': ['10m', '50m', '100m'],\n",
    "    'DP': [196175, 69796, 48417],\n",
    "    'DP-SED': [641647, 138889,76540]\n",
    "}\n",
    " \n",
    "df1 = pd.DataFrame(data1)\n",
    "\n",
    "df1_melted = df1.melt(id_vars=['Distance'], var_name='variable', value_name='value')\n",
    "\n",
    "\n"
   ]
  },
  {
   "cell_type": "code",
   "execution_count": 35,
   "id": "e5d916e9",
   "metadata": {},
   "outputs": [
    {
     "data": {
      "text/html": [
       "\n",
       "<style>\n",
       "  #altair-viz-8cd1e59e18f54b379feffde6505b75f0.vega-embed {\n",
       "    width: 100%;\n",
       "    display: flex;\n",
       "  }\n",
       "\n",
       "  #altair-viz-8cd1e59e18f54b379feffde6505b75f0.vega-embed details,\n",
       "  #altair-viz-8cd1e59e18f54b379feffde6505b75f0.vega-embed details summary {\n",
       "    position: relative;\n",
       "  }\n",
       "</style>\n",
       "<div id=\"altair-viz-8cd1e59e18f54b379feffde6505b75f0\"></div>\n",
       "<script type=\"text/javascript\">\n",
       "  var VEGA_DEBUG = (typeof VEGA_DEBUG == \"undefined\") ? {} : VEGA_DEBUG;\n",
       "  (function(spec, embedOpt){\n",
       "    let outputDiv = document.currentScript.previousElementSibling;\n",
       "    if (outputDiv.id !== \"altair-viz-8cd1e59e18f54b379feffde6505b75f0\") {\n",
       "      outputDiv = document.getElementById(\"altair-viz-8cd1e59e18f54b379feffde6505b75f0\");\n",
       "    }\n",
       "    const paths = {\n",
       "      \"vega\": \"https://cdn.jsdelivr.net/npm/vega@5?noext\",\n",
       "      \"vega-lib\": \"https://cdn.jsdelivr.net/npm/vega-lib?noext\",\n",
       "      \"vega-lite\": \"https://cdn.jsdelivr.net/npm/vega-lite@5.20.1?noext\",\n",
       "      \"vega-embed\": \"https://cdn.jsdelivr.net/npm/vega-embed@6?noext\",\n",
       "    };\n",
       "\n",
       "    function maybeLoadScript(lib, version) {\n",
       "      var key = `${lib.replace(\"-\", \"\")}_version`;\n",
       "      return (VEGA_DEBUG[key] == version) ?\n",
       "        Promise.resolve(paths[lib]) :\n",
       "        new Promise(function(resolve, reject) {\n",
       "          var s = document.createElement('script');\n",
       "          document.getElementsByTagName(\"head\")[0].appendChild(s);\n",
       "          s.async = true;\n",
       "          s.onload = () => {\n",
       "            VEGA_DEBUG[key] = version;\n",
       "            return resolve(paths[lib]);\n",
       "          };\n",
       "          s.onerror = () => reject(`Error loading script: ${paths[lib]}`);\n",
       "          s.src = paths[lib];\n",
       "        });\n",
       "    }\n",
       "\n",
       "    function showError(err) {\n",
       "      outputDiv.innerHTML = `<div class=\"error\" style=\"color:red;\">${err}</div>`;\n",
       "      throw err;\n",
       "    }\n",
       "\n",
       "    function displayChart(vegaEmbed) {\n",
       "      vegaEmbed(outputDiv, spec, embedOpt)\n",
       "        .catch(err => showError(`Javascript Error: ${err.message}<br>This usually means there's a typo in your chart specification. See the javascript console for the full traceback.`));\n",
       "    }\n",
       "\n",
       "    if(typeof define === \"function\" && define.amd) {\n",
       "      requirejs.config({paths});\n",
       "      require([\"vega-embed\"], displayChart, err => showError(`Error loading script: ${err.message}`));\n",
       "    } else {\n",
       "      maybeLoadScript(\"vega\", \"5\")\n",
       "        .then(() => maybeLoadScript(\"vega-lite\", \"5.20.1\"))\n",
       "        .then(() => maybeLoadScript(\"vega-embed\", \"6\"))\n",
       "        .catch(showError)\n",
       "        .then(() => displayChart(vegaEmbed));\n",
       "    }\n",
       "  })({\"config\": {\"view\": {\"continuousWidth\": 300, \"continuousHeight\": 300}, \"axis\": {\"domain\": false, \"labelFontSize\": 9, \"labelFontStyle\": \"Arial\", \"labelFontWeight\": \"normal\", \"titleFontSize\": 12, \"titleFontStyle\": \"Arial\", \"titleFontWeight\": \"normal\"}}, \"data\": {\"name\": \"data-ecade3999e9a1d2fe193b1cd8e6b3a76\"}, \"mark\": {\"type\": \"bar\"}, \"encoding\": {\"color\": {\"field\": \"variable\", \"legend\": {\"titleFontWeight\": \"normal\", \"titleFontSize\": 10, \"titleFontStyle\": \"Arial\", \"labelFontWeight\": \"normal\", \"labelFontStyle\": \"Arial\", \"labelFontSize\": 9}, \"title\": \"Simplification Method\", \"type\": \"nominal\"}, \"x\": {\"axis\": {\"labelAngle\": 0}, \"field\": \"Distance\", \"sort\": [\"10\", \"20\", \"50\"], \"type\": \"ordinal\"}, \"xOffset\": {\"field\": \"variable\", \"type\": \"nominal\"}, \"y\": {\"field\": \"value\", \"title\": \"Number of Samples\", \"type\": \"quantitative\"}}, \"height\": 200, \"width\": 330, \"$schema\": \"https://vega.github.io/schema/vega-lite/v5.20.1.json\", \"datasets\": {\"data-ecade3999e9a1d2fe193b1cd8e6b3a76\": [{\"Distance\": \"10m\", \"variable\": \"DP\", \"value\": 196175}, {\"Distance\": \"50m\", \"variable\": \"DP\", \"value\": 69796}, {\"Distance\": \"100m\", \"variable\": \"DP\", \"value\": 48417}, {\"Distance\": \"10m\", \"variable\": \"DP-SED\", \"value\": 641647}, {\"Distance\": \"50m\", \"variable\": \"DP-SED\", \"value\": 138889}, {\"Distance\": \"100m\", \"variable\": \"DP-SED\", \"value\": 76540}]}}, {\"mode\": \"vega-lite\"});\n",
       "</script>"
      ],
      "text/plain": [
       "alt.Chart(...)"
      ]
     },
     "execution_count": 35,
     "metadata": {},
     "output_type": "execute_result"
    }
   ],
   "source": [
    "alt.Chart(df1_melted).mark_bar().encode(\n",
    "    x=alt.X('Distance:O', axis=alt.Axis(labelAngle=0), sort=['10', '20', '50']),\n",
    "    y=alt.Y('value:Q', title=\"Number of Samples\"),\n",
    "    xOffset=\"variable:N\",\n",
    "    color=alt.Color(\"variable:N\", title=\"Simplification Method\").legend(titleFontWeight='normal',  \n",
    "                                    titleFontSize=10, titleFontStyle='Arial',labelFontWeight='normal', labelFontStyle='Arial',\n",
    "                                    labelFontSize=9),\n",
    ").properties(width=330, height=200).configure_axis(\n",
    "    domain=False,\n",
    "    labelFontSize=9,\n",
    "    titleFontSize=12,\n",
    "    labelFontWeight='normal',\n",
    "    titleFontWeight='normal',\n",
    "    labelFontStyle='Arial',\n",
    "    titleFontStyle='Arial' \n",
    "#  font='Arial') \n",
    ")\n"
   ]
  },
  {
   "cell_type": "markdown",
   "id": "aae72de0",
   "metadata": {},
   "source": []
  }
 ],
 "metadata": {
  "kernelspec": {
   "display_name": "Python 3 (ipykernel)",
   "language": "python",
   "name": "python3"
  },
  "language_info": {
   "codemirror_mode": {
    "name": "ipython",
    "version": 3
   },
   "file_extension": ".py",
   "mimetype": "text/x-python",
   "name": "python",
   "nbconvert_exporter": "python",
   "pygments_lexer": "ipython3",
   "version": "3.11.5"
  }
 },
 "nbformat": 4,
 "nbformat_minor": 5
}
