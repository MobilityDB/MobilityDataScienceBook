{
 "cells": [
  {
   "cell_type": "code",
   "execution_count": null,
   "id": "86cf36cb",
   "metadata": {},
   "outputs": [],
   "source": [
    "pip install -U kaleido"
   ]
  },
  {
   "cell_type": "code",
   "execution_count": null,
   "id": "ddcfe84e-f18c-4119-85c5-05e6a6f4cd6f",
   "metadata": {},
   "outputs": [],
   "source": [
    "#Library Imports\n",
    "import dash\n",
    "from dash import dcc, html, Input, Output, State\n",
    "import plotly.graph_objs as go\n",
    "import pandas as pd\n",
    "import plotly.io as pio\n",
    "from io import BytesIO\n",
    "from sqlalchemy import create_engine\n",
    "\n",
    "\n",
    "#Database Connection Setup\n",
    "username = 'postgres'\n",
    "password = 'password'\n",
    "database = 'data_cleaning_chapter'\n",
    "host = 'localhost'\n",
    "database_url = f'postgresql://{username}:{password}@{host}/{database}'\n",
    "engine = create_engine(database_url)"
   ]
  },
  {
   "cell_type": "code",
   "execution_count": null,
   "id": "db2ed422-05dc-428e-b558-91545b64ae56",
   "metadata": {},
   "outputs": [],
   "source": [
    "query = '''\n",
    "SELECT MMSI, t AS Timestamp, SOG, COG, Heading\n",
    "FROM AISInputSample\n",
    "WHERE MMSI IN  (246541000, 636018799,311001076,304111000, 211269660, 219014579,219019011,259896000)  \n",
    "ORDER BY MMSI, t;\n",
    "'''\n",
    "df = pd.read_sql_query(query, engine)\n",
    "df['timestamp'] = pd.to_datetime(df['timestamp'], format='%d/%m/%Y %H:%M:%S')\n",
    "df"
   ]
  },
  {
   "cell_type": "code",
   "execution_count": null,
   "id": "9971135c-ce2a-45d5-b6e4-0c48ad4cef11",
   "metadata": {},
   "outputs": [],
   "source": [
    "app = dash.Dash(__name__)\n",
    "app.layout = html.Div([\n",
    "  dcc.Dropdown(\n",
    "    id='mmsi-dropdown',\n",
    "    options=[{'label': i, 'value': i} for i in df['mmsi'].unique()],\n",
    "    value=df['mmsi'].unique()[0] ),\n",
    "    dcc.Graph(id='time-series-plot'),\n",
    "    html.Button(\"Download as PDF\", id=\"download-btn\"),\n",
    "    # pdf vector figures for the book\n",
    "    dcc.Download(id=\"download-pdf\") \n",
    "])"
   ]
  },
  {
   "cell_type": "code",
   "execution_count": null,
   "id": "638916df-2c72-4702-a5e6-62678f522a1b",
   "metadata": {},
   "outputs": [],
   "source": [
    "@app.callback(\n",
    "  Output('time-series-plot', 'figure'),\n",
    "  [Input('mmsi-dropdown', 'value')] )\n",
    "def update_graph(selected_mmsi):\n",
    "  filtered_df = df[df['mmsi'] == selected_mmsi]\n",
    "  scaled_sog = filtered_df['sog'] * 5\n",
    "  return {\n",
    "    'data': [\n",
    "      go.Scatter(\n",
    "        x=filtered_df['timestamp'], y=scaled_sog,\n",
    "          mode='lines', name='Scaled SOG (x5)' ),\n",
    "      go.Scatter(\n",
    "        x=filtered_df['timestamp'], y=filtered_df['cog'],\n",
    "          mode='lines', name='COG' ),\n",
    "      go.Scatter(\n",
    "        x=filtered_df['timestamp'], y=filtered_df['heading'],\n",
    "          mode='lines', name='Heading' ) ],\n",
    "        'layout': go.Layout(\n",
    "            xaxis_title='Timestamp',\n",
    "            yaxis_title='Value',\n",
    "            margin={'l': 80, 'b': 140, 't': 50, 'r': 10},\n",
    "            font=dict(\n",
    "                family=\"Times New Roman\",\n",
    "                size=18,\n",
    "                color= \"black\"\n",
    "            ),\n",
    "            autosize=False,\n",
    "            width=950,\n",
    "            height=400,\n",
    "            hovermode='closest',\n",
    "            transition={'duration': 500} ) }\n"
   ]
  },
  {
   "cell_type": "code",
   "execution_count": null,
   "id": "1c8cf413",
   "metadata": {},
   "outputs": [],
   "source": [
    "# pdf vector figures for the book\n",
    "@app.callback(\n",
    "    Output(\"download-pdf\", \"data\"),\n",
    "    Input(\"download-btn\", \"n_clicks\"),\n",
    "    State(\"time-series-plot\", \"figure\"),\n",
    "    prevent_initial_call=True\n",
    ")\n",
    "def download_pdf(n_clicks, fig):\n",
    "    pdf_bytes = BytesIO()\n",
    "    # Write image as a single-page PDF using Kaleido\n",
    "    pio.write_image(fig, pdf_bytes, format=\"pdf\", engine=\"kaleido\", \n",
    "                    width=980, height=410)  # Match figure size exactly\n",
    "    pdf_bytes.seek(0)\n",
    "    return dcc.send_bytes(pdf_bytes.read(), \"plot.pdf\")"
   ]
  },
  {
   "cell_type": "code",
   "execution_count": null,
   "id": "b2534fbe-1756-4475-ba60-a813f4589bd3",
   "metadata": {
    "scrolled": false
   },
   "outputs": [],
   "source": [
    "if __name__ == '__main__':\n",
    "  app.run_server(debug=True)"
   ]
  },
  {
   "cell_type": "code",
   "execution_count": null,
   "id": "5f6227f2-a897-4a77-adfd-6ed0d88fb9c3",
   "metadata": {},
   "outputs": [],
   "source": [
    "# Define the window size for smoothing\n",
    "window_size = 10  # Higer values result in a smoother singal\n",
    "# Apply rolling mean\n",
    "df['sog_mean_smoothed'] = df['sog'].rolling(window=window_size, center=True).mean()\n",
    "df['sog_median_smoothed'] = df['sog'].rolling(window=window_size, center=True).median()\n",
    "df['cog_mean_smoothed'] = df['cog'].rolling(window=window_size, center=True).mean()\n",
    "df['cog_median_smoothed'] = df['cog'].rolling(window=window_size, center=True).median()\n",
    "df['heading_mean_smoothed'] = df['heading'].rolling(window=window_size, center=True).mean()\n",
    "df['heading_median_smoothed'] = df['heading'].rolling(window=window_size, center=True).median()\n"
   ]
  },
  {
   "cell_type": "code",
   "execution_count": null,
   "id": "9934ef06-2bb6-4297-b1e9-5ca77a230e94",
   "metadata": {},
   "outputs": [],
   "source": [
    "app = dash.Dash(__name__)\n",
    "# App layout\n",
    "app.layout = html.Div([\n",
    "dcc.Dropdown(\n",
    "  id='mmsi-dropdown',\n",
    "  options=[{'label': i, 'value': i} for i in df['mmsi'].unique()],\n",
    "    value=df['mmsi'].unique()[0] ),\n",
    "    dcc.Graph(id='time-series-plot'),\n",
    "    html.Button(\"Download as PDF\", id=\"download-btn\"),\n",
    "    dcc.Download(id=\"download-pdf\")])"
   ]
  },
  {
   "cell_type": "code",
   "execution_count": null,
   "id": "0b80bab5-2cf6-4042-9313-f1e444949aa1",
   "metadata": {},
   "outputs": [],
   "source": [
    "# Initialize Dash app\\n\",\n",
    "app = dash.Dash(__name__)\n",
    "# App layout\n",
    "app.layout = html.Div([\n",
    "html.Div([\n",
    "  dcc.Dropdown(\n",
    "   id='mmsi-dropdown',\n",
    "   options=[{'label': i, 'value': i} for i in df['mmsi'].unique()],\n",
    "   value=df['mmsi'].unique()[0],\n",
    "  style={'width': '48%', 'display': 'inline-block'}\\\n",
    "  ),\n",
    "  dcc.Dropdown(\n",
    "     id='signal-dropdown',\n",
    "      options=[\n",
    "      {'label': 'SOG', 'value': 'sog'},\n",
    "      {'label': 'COG', 'value': 'cog'},\n",
    "      {'label': 'Heading', 'value': 'heading'}\n",
    "       ],\n",
    "      value='sog',\n",
    "      style={'width': '48%', 'float': 'right', 'display': 'inline-block'}\n",
    "       ),\n",
    "      ]),\n",
    "    dcc.Graph(id='time-series-plot'),\n",
    "    html.Button(\"Download as PDF\", id=\"download-btn\"),\n",
    "    dcc.Download(id=\"download-pdf\")\n",
    "    ])"
   ]
  },
  {
   "cell_type": "code",
   "execution_count": null,
   "id": "9f00fe90-66de-4773-960a-10895802edd2",
   "metadata": {},
   "outputs": [],
   "source": [
    "@app.callback(\n",
    "    Output('time-series-plot', 'figure'),\n",
    "    [Input('mmsi-dropdown', 'value'), Input('signal-dropdown', 'value')]\n",
    "    )\n",
    "def update_graph(selected_mmsi, selected_signal):\n",
    " filtered_df = df[df['mmsi'] == selected_mmsi]\n",
    "# Assuming 'mean_smoothed' and 'median_smoothed' suffixes for your smoothed data columns\n",
    " mean_col = f'{selected_signal}_mean_smoothed'\n",
    " median_col = f'{selected_signal}_median_smoothed'\n",
    " return {\n",
    "'data': [\n",
    " go.Scatter(\n",
    "     x=filtered_df['timestamp'],\n",
    "     y=filtered_df[selected_signal],\n",
    "     mode='lines',\n",
    "     name=selected_signal.upper()\n",
    "  ),\n",
    "   go.Scatter(\n",
    "    x=filtered_df['timestamp'],\n",
    "    y=filtered_df[mean_col],\n",
    "    mode='lines',\n",
    "    name=f'{selected_signal.upper()} Mean Smoothed'\n",
    "    ),\n",
    "    go.Scatter(\n",
    "    x=filtered_df['timestamp'],\n",
    "    y=filtered_df[median_col],\n",
    "    mode='lines',\n",
    "    name=f'{selected_signal.upper()} Median Smoothed'\n",
    "    )\n",
    "    ],\n",
    "    'layout': go.Layout(\n",
    "      xaxis_title='Timestamp',\n",
    "      yaxis_title=selected_signal.upper(),\n",
    "      margin={'l': 80, 'b': 140, 't': 50, 'r': 10},\n",
    "     font=dict(\n",
    "     family=\"Times New Roman\",\n",
    "     size=18,\n",
    "     color= \"black\"\n",
    "     ),\n",
    "    autosize=False,\n",
    "    width=950,\n",
    "    height=400,\n",
    "    hovermode='closest') \n",
    " }\n",
    "    "
   ]
  },
  {
   "cell_type": "code",
   "execution_count": null,
   "id": "a336aa9d",
   "metadata": {},
   "outputs": [],
   "source": [
    "@app.callback(\n",
    "    Output(\"download-pdf\", \"data\"),\n",
    "    Input(\"download-btn\", \"n_clicks\"),\n",
    "    State(\"time-series-plot\", \"figure\"),\n",
    "    prevent_initial_call=True\n",
    ")\n",
    "def download_pdf(n_clicks, fig):\n",
    "    pdf_bytes = BytesIO()\n",
    "    # Write image as a single-page PDF using Kaleido\n",
    "    pio.write_image(fig, pdf_bytes, format=\"pdf\", engine=\"kaleido\", width=980, height=410)\n",
    "    pdf_bytes.seek(0)\n",
    "    return dcc.send_bytes(pdf_bytes.read(), \"plot.pdf\")"
   ]
  },
  {
   "cell_type": "code",
   "execution_count": null,
   "id": "2bacdfe6-0272-46a8-9eee-7149ec35cf46",
   "metadata": {
    "scrolled": false
   },
   "outputs": [],
   "source": [
    "if __name__ == '__main__':\n",
    "  app.run_server(debug=True, port=8051)"
   ]
  },
  {
   "cell_type": "code",
   "execution_count": null,
   "id": "6ddf30d6-9a11-4e6c-a1b6-7edbf242db5e",
   "metadata": {},
   "outputs": [],
   "source": [
    "def detect_outliers(data, column):\n",
    "  Q1 = data[column].quantile(0.25)\n",
    "  Q3 = data[column].quantile(0.75)\n",
    "  IQR = Q3 - Q1\n",
    "  lower_bound = Q1 - 1.5 * IQR\n",
    "  upper_bound = Q3 + 1.5 * IQR\n",
    "  # Return a boolean Series where True indicates the presence of an outlier\n",
    "  return (data[column] < lower_bound) | (data[column] > upper_bound)\n",
    "df['sog_outliers'] = detect_outliers(df, 'sog')\n",
    "df['cog_outliers'] = detect_outliers(df, 'cog')\n",
    "df['heading_outliers'] = detect_outliers(df, 'heading')"
   ]
  },
  {
   "cell_type": "code",
   "execution_count": null,
   "id": "254d356e-f8aa-44fd-8a49-8b971ee6a99b",
   "metadata": {},
   "outputs": [],
   "source": [
    "df"
   ]
  }
 ],
 "metadata": {
  "kernelspec": {
   "display_name": "Python (book)",
   "language": "python",
   "name": "book"
  },
  "language_info": {
   "codemirror_mode": {
    "name": "ipython",
    "version": 3
   },
   "file_extension": ".py",
   "mimetype": "text/x-python",
   "name": "python",
   "nbconvert_exporter": "python",
   "pygments_lexer": "ipython3",
   "version": "3.12.2"
  }
 },
 "nbformat": 4,
 "nbformat_minor": 5
}
