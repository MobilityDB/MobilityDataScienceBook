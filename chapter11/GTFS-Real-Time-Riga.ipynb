{
 "cells": [
  {
   "cell_type": "code",
   "execution_count": null,
   "id": "4bb15fae",
   "metadata": {},
   "outputs": [],
   "source": [
    "pip install gtfs-realtime-bindings requests pandas plotly pyarrow "
   ]
  },
  {
   "cell_type": "code",
   "execution_count": null,
   "id": "2894db87",
   "metadata": {},
   "outputs": [],
   "source": [
    "pip install pyarrow==10.0.1"
   ]
  },
  {
   "cell_type": "code",
   "execution_count": null,
   "id": "6006dfe1",
   "metadata": {},
   "outputs": [],
   "source": [
    "#pip install pyarrow \n",
    "#Not working for Mac M1"
   ]
  },
  {
   "cell_type": "code",
   "execution_count": 18,
   "id": "9e830cbc",
   "metadata": {},
   "outputs": [],
   "source": [
    "import requests\n",
    "import pandas as pd\n",
    "import time\n",
    "from google.transit import gtfs_realtime_pb2"
   ]
  },
  {
   "cell_type": "code",
   "execution_count": 19,
   "id": "858e43b8",
   "metadata": {},
   "outputs": [],
   "source": [
    "import pyarrow as pa\n",
    "import pyarrow.parquet as pq"
   ]
  },
  {
   "cell_type": "code",
   "execution_count": 20,
   "id": "1e9be94e",
   "metadata": {},
   "outputs": [],
   "source": [
    "# 11.4. GTFS-Realtime URL for Riga\n",
    "# Section 11.4.1. - Ingesting GTFS Realtime Feed - Part 1\n",
    "\n",
    "GTFS_REALTIME_URL = \"https://saraksti.rigassatiksme.lv/gtfs_realtime.pb\"\n",
    "\n",
    "# Function to fetch GTFS-Realtime data\n",
    "def fetch_gtfs_realtime_data(url):\n",
    "    \"\"\"\n",
    "    Fetches the GTFS-Realtime data from the given URL with SSL verification disabled.\n",
    "    \n",
    "    Parameters:\n",
    "    - url: The GTFS-Realtime endpoint URL\n",
    "    \n",
    "    Returns:\n",
    "    - feed: Parsed GTFS-Realtime protobuf feed\n",
    "    \"\"\"\n",
    "    feed = gtfs_realtime_pb2.FeedMessage()\n",
    "    \n",
    "    try:\n",
    "        # Disable SSL verification\n",
    "        response = requests.get(url, verify=False)\n",
    "        response.raise_for_status()  # Check for HTTP errors\n",
    "\n",
    "        # Parse the protobuf data\n",
    "        feed.ParseFromString(response.content)\n",
    "        \n",
    "    except requests.exceptions.RequestException as e:\n",
    "        print(f\"Error fetching GTFS-Realtime data: {e}\")\n",
    "        return None\n",
    "    \n",
    "    return feed"
   ]
  },
  {
   "cell_type": "code",
   "execution_count": 21,
   "id": "183546d5",
   "metadata": {},
   "outputs": [],
   "source": [
    "# Section 11.4.1. - Part 2 - Function to extract vehicle positions \n",
    "\n",
    "def extract_vehicle_positions(feed):\n",
    "    \"\"\"\n",
    "    Extracts vehicle positions from the GTFS-Realtime feed.\n",
    "    \n",
    "    Parameters:\n",
    "    - feed: Parsed GTFS-Realtime protobuf feed\n",
    "    \n",
    "    Returns:\n",
    "    - List of dictionaries containing vehicle positions and trip information\n",
    "    \"\"\"\n",
    "    vehicle_position = []\n",
    "    for entity in feed.entity:\n",
    "        if entity.HasField('vehicle'):\n",
    "            vehicle = entity.vehicle\n",
    "            vehicle_position.append({\n",
    "                \"id\": entity.id,\n",
    "                \"trip_id\": vehicle.trip.trip_id,\n",
    "                \"schedule_relationship\": vehicle.trip.schedule_relationship,\n",
    "                \"latitude\": vehicle.position.latitude,\n",
    "                \"longitude\": vehicle.position.longitude,\n",
    "                \"bearing\": vehicle.position.bearing,\n",
    "                \"speed\": vehicle.position.speed * 3.6,  # Speed in km/h\n",
    "                \"current_status\": vehicle.current_status,\n",
    "                \"timestamp\": vehicle.timestamp,\n",
    "                \"stop_id\": vehicle.stop_id,\n",
    "                \"vehicle_id\": vehicle.vehicle.id,\n",
    "                \"vehicle_label\": vehicle.vehicle.label,\n",
    "                \"vehicle_license_plate\": vehicle.vehicle.license_plate       \n",
    "            })\n",
    "    return vehicle_position"
   ]
  },
  {
   "cell_type": "code",
   "execution_count": null,
   "id": "e7b2308c",
   "metadata": {},
   "outputs": [],
   "source": [
    "# Section 11.4.2. Parquet Files and DuckDB for Mobility Data\n",
    "# Function to collect vehicle positions for a specific duration and save into a Parquet File\n",
    "\n",
    "def collect_vehicle_positions(duration_minutes, interval_seconds):\n",
    "    \"\"\"\n",
    "    Collects vehicle positions from the GTFS-Realtime endpoint at regular intervals.\n",
    "    \n",
    "    Parameters:\n",
    "    - duration_minutes: Duration of the collection period in minutes\n",
    "    - interval_seconds: Interval between successive API calls in seconds\n",
    "    \n",
    "    Returns:\n",
    "    - A DataFrame containing all collected vehicle positions\n",
    "    \"\"\"\n",
    "    collected_data = []\n",
    "    end_time = time.time() + duration_minutes * 60  # Convert minutes to seconds\n",
    "\n",
    "    while time.time() < end_time:\n",
    "        # Fetch the GTFS-Realtime data\n",
    "        feed = fetch_gtfs_realtime_data(GTFS_REALTIME_URL)\n",
    "\n",
    "        # If feed is fetched, extract vehicle positions\n",
    "        if feed:\n",
    "            vehicle_positions = extract_vehicle_positions(feed)\n",
    "            if vehicle_positions:\n",
    "                collected_data.extend(vehicle_positions)  # Add the new data to the list\n",
    "                print(f\"Collected {len(vehicle_positions)} vehicle positions.\")\n",
    "            else:\n",
    "                print(\"No vehicle positions found in the feed.\")\n",
    "        else:\n",
    "            print(\"Failed to fetch the GTFS-Realtime feed.\")\n",
    "        \n",
    "        # Wait for the specified interval before making the next request\n",
    "        time.sleep(interval_seconds)\n",
    "    \n",
    "    # Convert the collected data into a DataFrame\n",
    "    df = pd.DataFrame(collected_data)\n",
    "    return df\n",
    "\n",
    "# Function to save DataFrame to a Parquet file\n",
    "def save_to_parquet(df, file_name):\n",
    "    \"\"\"\n",
    "    Saves the collected vehicle data to a Parquet file.\n",
    "    \n",
    "    Parameters:\n",
    "    - df: The DataFrame containing the vehicle positions data\n",
    "    - file_name: The name of the output Parquet file\n",
    "    \"\"\"\n",
    "    if not df.empty:\n",
    "        table = pa.Table.from_pandas(df)\n",
    "        pq.write_table(table, file_name)\n",
    "        print(f\"Data successfully saved to {file_name}\")\n",
    "    else:\n",
    "        print(\"No data to save.\")\n",
    "        \n",
    "        \n",
    "\n",
    "# Main script\n",
    "if __name__ == \"__main__\":\n",
    "    # Parameters\n",
    "    DURATION_MINUTES = 60  # Collect data for 1 hour\n",
    "    INTERVAL_SECONDS = 10   # Call the endpoint every 10 seconds\n",
    "\n",
    "    # Collect vehicle positions over the specified duration\n",
    "    print(f\"Starting data collection for {DURATION_MINUTES} minutes, querying every {INTERVAL_SECONDS} seconds...\")\n",
    "    vehicle_positions_df = collect_vehicle_positions(DURATION_MINUTES, INTERVAL_SECONDS)\n",
    "\n",
    "    # Save the data to a Parquet file\n",
    "    output_file = \"riga_vehicle_positions_test.parquet\"\n",
    "    save_to_parquet(vehicle_positions_df, output_file)"
   ]
  },
  {
   "cell_type": "code",
   "execution_count": null,
   "id": "c4bf396b",
   "metadata": {},
   "outputs": [],
   "source": [
    "#Section 11.4.3. Querying and Visualizing Vehicle Trajectories with Parquet Files and DuckDB\n",
    "\n",
    "import duckdb\n",
    "import pandas as pd\n",
    "import plotly.express as px\n",
    "\n",
    "\n",
    "# Path to the Parquet file\n",
    "parquet_file = \"/Users/avaisman/tmp/PythonNotebooks/riga_vehicle_positions.parquet\"\n",
    "\n",
    "# Function to load the parquet file and query the trajectory of Tram 1\n",
    "def query_tram1_trajectory(parquet_file):\n",
    "    \"\"\"\n",
    "    Queries the trajectory of Tram 1 from the parquet file using DuckDB.\n",
    "    \n",
    "    Parameters:\n",
    "    - parquet_file: Path to the Parquet file\n",
    "    \n",
    "    Returns:\n",
    "    - DataFrame containing the trajectory of Tram 1\n",
    "    \"\"\"\n",
    "    # Connect to DuckDB in-memory database\n",
    "    con = duckdb.connect()\n",
    "\n",
    "    # Load the parquet file and query for Tram 1 (Assuming Tram 1 is identified by route_id or trip_id)\n",
    "    # Adjust the condition to match the identifier for Tram 1\n",
    "    query = f\"\"\"\n",
    "    SELECT * \n",
    "    FROM parquet_scan('{parquet_file}')\n",
    "    WHERE trip_id LIKE '%TRAM1-%'  -- Adjust based on actual trip_id or route_id for Tram 1\n",
    "    ORDER BY timestamp\n",
    "    \"\"\"\n",
    "    \n",
    "    # Execute the query and return the result as a pandas DataFrame\n",
    "    df = con.execute(query).fetchdf()\n",
    "\n",
    "    # Close the connection\n",
    "    con.close()\n",
    "    \n",
    "    return df\n",
    "\n",
    "# Function to visualize the trajectory of Tram 1\n",
    "def visualize_tram1_trajectory(df):\n",
    "    \"\"\"\n",
    "    Visualizes the trajectory of Tram 1 using Plotly.\n",
    "    \n",
    "    Parameters:\n",
    "    - df: DataFrame containing the trajectory of Tram 1\n",
    "    \"\"\"\n",
    "    if df.empty:\n",
    "        print(\"No data available for Tram 1.\")\n",
    "        return\n",
    "    \n",
    "    fig = px.scatter_mapbox(df, lat=\"latitude\", lon=\"longitude\", \n",
    "                            hover_name=\"vehicle_id\", \n",
    "                            hover_data=[\"trip_id\", \"speed\"],\n",
    "                            color=\"timestamp\", \n",
    "                            color_continuous_scale=\"Viridis\",\n",
    "                            title=\"Trajectory of Tram 1\",\n",
    "                            zoom=12)\n",
    "\n",
    "    fig.update_layout(mapbox_style=\"open-street-map\", mapbox_zoom=12, mapbox_center={\"lat\": 56.9496, \"lon\": 24.1052})\n",
    "    fig.update_layout(margin={\"r\":0,\"t\":0,\"l\":0,\"b\":0})\n",
    "    \n",
    "    fig.show()\n",
    "\n",
    "# Main script\n",
    "if __name__ == \"__main__\":\n",
    "    # Load and query the trajectory of Tram 1\n",
    "    tram1_df = query_tram1_trajectory(parquet_file)\n",
    "    \n",
    "    if not tram1_df.empty:\n",
    "        # Visualize the trajectory of Tram 1\n",
    "        visualize_tram1_trajectory(tram1_df)\n",
    "    else:\n",
    "        print(\"No data found for Tram 1.\")"
   ]
  },
  {
   "cell_type": "code",
   "execution_count": null,
   "id": "87777c94",
   "metadata": {},
   "outputs": [],
   "source": [
    "## 11.4.4 Querying and Visualizing Vehicle Trajectories with PostgreSQL\n",
    "\n",
    "import pandas as pd\n",
    "import psycopg2\n",
    "from psycopg2 import sql\n",
    "\n",
    "# PostgreSQL connection details\n",
    "db_host = \"localhost\"\n",
    "db_port = \"5432\"\n",
    "db_user = \"postgres\"\n",
    "db_pass = \"postgres\"\n",
    "db_name = \"UrbanMobility\"\n",
    "\n",
    "\n",
    "# Function to connect to the PostgreSQL database\n",
    "def connect_to_postgres():\n",
    "    \"\"\"\n",
    "    Establishes a connection to the PostgreSQL database.\n",
    "    \n",
    "    Returns:\n",
    "    - conn: The PostgreSQL connection object\n",
    "    - cur: The cursor object for executing SQL queries\n",
    "    \"\"\"\n",
    "    try:\n",
    "        conn = psycopg2.connect(\n",
    "            host=db_host,\n",
    "            port=db_port,\n",
    "            dbname=db_name,\n",
    "            user=db_user,\n",
    "            password=db_pass\n",
    "        )\n",
    "        cur = conn.cursor()\n",
    "        return conn, cur\n",
    "    except Exception as e:\n",
    "        print(f\"Error connecting to PostgreSQL: {e}\")\n",
    "        return None, None\n",
    "\n",
    "# Function to create the 'vehiclePosition' table in PostgreSQL\n",
    "\n",
    "def create_vehicle_position_table(cur):\n",
    "    \"\"\"\n",
    "    Creates the 'vehiclePosition' table in PostgreSQL if it doesn't exist.\n",
    "    \n",
    "    Parameters:\n",
    "    - cur: The cursor object for executing SQL queries\n",
    "    \"\"\"\n",
    "    create_table_query = \"\"\"\n",
    "    CREATE TABLE IF NOT EXISTS vehiclePosition (\n",
    "        id TEXT,\n",
    "        trip_id TEXT,\n",
    "        schedule_relationship TEXT,\n",
    "        latitude FLOAT8,\n",
    "        longitude FLOAT8,\n",
    "        bearing FLOAT8,\n",
    "        speed FLOAT8,  -- Speed in kilometers per hour (km/h)\n",
    "        current_status TEXT,\n",
    "        timestamp BIGINT,\n",
    "        stop_id TEXT,\n",
    "        vehicle_id TEXT,\n",
    "        vehicle_label TEXT,\n",
    "        vehicle_license_plate TEXT\n",
    "    );\n",
    "    \"\"\"\n",
    "    cur.execute(create_table_query)\n",
    "\n",
    "# Function to load the Parquet file into a Pandas DataFrame\n",
    "def load_parquet_file(parquet_file):\n",
    "    \"\"\"\n",
    "    Loads the Parquet file into a Pandas DataFrame.\n",
    "    \n",
    "    Parameters:\n",
    "    - parquet_file: Path to the Parquet file\n",
    "    \n",
    "    Returns:\n",
    "    - df: DataFrame containing the vehicle positions data\n",
    "    \"\"\"\n",
    "    try:\n",
    "        df = pd.read_parquet(parquet_file)\n",
    "        return df\n",
    "    except Exception as e:\n",
    "        print(f\"Error loading Parquet file: {e}\")\n",
    "        return pd.DataFrame()\n",
    "\n",
    "# Function to insert the DataFrame data into the PostgreSQL 'vehiclePosition' table\n",
    "def insert_data_to_postgres(df, cur, conn):\n",
    "    \"\"\"\n",
    "    Inserts the data from the DataFrame into the PostgreSQL 'vehiclePosition' table.\n",
    "    \n",
    "    Parameters:\n",
    "    - df: The DataFrame containing the vehicle positions data\n",
    "    - cur: The cursor object for executing SQL queries\n",
    "    - conn: The PostgreSQL connection object\n",
    "    \"\"\"\n",
    "    insert_query = \"\"\"\n",
    "    INSERT INTO vehiclePosition (id, trip_id, schedule_relationship, latitude, longitude, bearing, speed,\n",
    "                                 current_status, timestamp, stop_id, vehicle_id, vehicle_label, vehicle_license_plate)\n",
    "    VALUES (%s, %s, %s, %s, %s, %s, %s, %s, %s, %s, %s, %s, %s);\n",
    "    \"\"\"\n",
    "    \n",
    "    # Iterate over the DataFrame rows and insert them into the database\n",
    "    for _, row in df.iterrows():\n",
    "        cur.execute(insert_query, (\n",
    "            row['id'],\n",
    "            row['trip_id'],\n",
    "            row['schedule_relationship'],\n",
    "            row['latitude'],\n",
    "            row['longitude'],\n",
    "            row['bearing'],\n",
    "            row['speed'],\n",
    "            row['current_status'],\n",
    "            row['timestamp'],\n",
    "            row['stop_id'],\n",
    "            row['vehicle_id'],\n",
    "            row['vehicle_label'],\n",
    "            row['vehicle_license_plate']\n",
    "        ))\n",
    "    \n",
    "    # Commit the transaction\n",
    "    conn.commit()\n",
    "\n",
    "# Main script\n",
    "if __name__ == \"__main__\":\n",
    "    # Step 1: Connect to PostgreSQL\n",
    "    conn, cur = connect_to_postgres()\n",
    "    if conn is None or cur is None:\n",
    "        print(\"Failed to connect to the PostgreSQL database.\")\n",
    "        exit()\n",
    "    \n",
    "    # Step 2: Create the 'vehiclePosition' table if it doesn't exist\n",
    "    print(\"Creating 'vehiclePosition' table if it doesn't exist...\")\n",
    "    create_vehicle_position_table(cur)\n",
    "    \n",
    "    # Step 3: Load the Parquet file into a DataFrame\n",
    "    print(\"Loading Parquet file...\")\n",
    "    vehicle_positions_df = load_parquet_file(parquet_file)\n",
    "    \n",
    "    if not vehicle_positions_df.empty:\n",
    "        print(f\"Loaded {len(vehicle_positions_df)} rows from the Parquet file.\")\n",
    "        \n",
    "        # Step 4: Insert the data into the PostgreSQL 'vehiclePosition' table\n",
    "        print(\"Inserting data into PostgreSQL...\")\n",
    "        insert_data_to_postgres(vehicle_positions_df, cur, conn)\n",
    "        print(\"Data insertion complete.\")\n",
    "    else:\n",
    "        print(\"No data found in the Parquet file.\")\n",
    "    \n",
    "    # Step 5: Close the PostgreSQL connection\n",
    "    cur.close()\n",
    "    conn.close()\n",
    "    print(\"PostgreSQL connection closed.\")"
   ]
  },
  {
   "cell_type": "code",
   "execution_count": null,
   "id": "0d7bddb4",
   "metadata": {},
   "outputs": [],
   "source": [
    "# Section 11.4.4. Dash Visualizations\n",
    "\n",
    "import dash\n",
    "from dash import dcc, html\n",
    "from dash.dependencies import Input, Output\n",
    "import pandas as pd\n",
    "import psycopg2\n",
    "import plotly.express as px\n",
    "import dash_bootstrap_components as dbc\n",
    "\n",
    "\n",
    "# Function to connect to the PostgreSQL database\n",
    "def connect_to_postgres():\n",
    "    try:\n",
    "        conn = psycopg2.connect(\n",
    "            host=db_host,\n",
    "            port=db_port,\n",
    "            dbname=db_name,\n",
    "            user=db_user,\n",
    "            password=db_pass\n",
    "        )\n",
    "        cur = conn.cursor()\n",
    "        return conn, cur\n",
    "    except Exception as e:\n",
    "        print(f\"Error connecting to PostgreSQL: {e}\")\n",
    "        return None, None\n",
    "\n",
    "# Function to fetch available trip_ids from PostgreSQL\n",
    "def fetch_trip_ids():\n",
    "    conn, cur = connect_to_postgres()\n",
    "    if conn is None or cur is None:\n",
    "        return []\n",
    "\n",
    "    trip_id_query = \"SELECT DISTINCT trip_id FROM vehiclePosition;\"\n",
    "    cur.execute(trip_id_query)\n",
    "    trip_ids = [row[0] for row in cur.fetchall()]\n",
    "    cur.close()\n",
    "    conn.close()\n",
    "    \n",
    "    return trip_ids\n",
    "\n",
    "# Function to fetch vehicle positions for a specific trip_id\n",
    "def fetch_vehicle_positions(trip_id):\n",
    "    conn, cur = connect_to_postgres()\n",
    "    if conn is None or cur is None:\n",
    "        return pd.DataFrame()\n",
    "\n",
    "    query = \"\"\"\n",
    "    SELECT latitude, longitude, vehicle_id, speed, timestamp\n",
    "    FROM vehiclePosition\n",
    "    WHERE trip_id = %s\n",
    "    ORDER BY timestamp;\n",
    "    \"\"\"\n",
    "    \n",
    "    cur.execute(query, (trip_id,))\n",
    "    vehicle_positions = pd.DataFrame(cur.fetchall(), columns=['latitude', 'longitude', 'vehicle_id', 'speed', 'timestamp'])\n",
    "    cur.close()\n",
    "    conn.close()\n",
    "    \n",
    "    return vehicle_positions\n",
    "\n",
    "# Dash app layout\n",
    "app = dash.Dash(__name__, external_stylesheets=[dbc.themes.BOOTSTRAP])\n",
    "\n",
    "# Get initial trip_ids to populate the dropdown\n",
    "trip_ids = fetch_trip_ids()\n",
    "\n",
    "# Set default trip_id (first one in the list)\n",
    "initial_trip_id = trip_ids[0] if trip_ids else None\n",
    "\n",
    "app.layout = dbc.Container([\n",
    "    html.H1(\"Vehicle Position Visualization\"),\n",
    "    \n",
    "    # Dropdown for selecting trip_id\n",
    "    dcc.Dropdown(\n",
    "        id=\"trip-dropdown\",\n",
    "        options=[{'label': trip_id, 'value': trip_id} for trip_id in trip_ids],\n",
    "        value=initial_trip_id,  # Default to the first trip_id\n",
    "        clearable=False,\n",
    "        style={\"width\": \"80%\"}\n",
    "    ),\n",
    "    \n",
    "    # Graph to display vehicle positions\n",
    "    dcc.Graph(id=\"vehicle-map\")\n",
    "])\n",
    "\n",
    "# Callback to update map based on selected trip_id\n",
    "@app.callback(\n",
    "    Output(\"vehicle-map\", \"figure\"),\n",
    "    Input(\"trip-dropdown\", \"value\")\n",
    ")\n",
    "def update_map(trip_id):\n",
    "    if trip_id is None:\n",
    "        return px.scatter_mapbox()  # Empty map if no trip_id is selected\n",
    "\n",
    "    # Fetch vehicle positions for the selected trip_id\n",
    "    vehicle_positions_df = fetch_vehicle_positions(trip_id)\n",
    "    \n",
    "    if vehicle_positions_df.empty:\n",
    "        return px.scatter_mapbox()  # Return empty map if no data\n",
    "\n",
    "    # Create a map visualization using Plotly\n",
    "    fig = px.scatter_mapbox(vehicle_positions_df, \n",
    "                            lat=\"latitude\", lon=\"longitude\", \n",
    "                            hover_name=\"vehicle_id\", \n",
    "                            hover_data=[\"speed\", \"timestamp\"],\n",
    "                            title=f\"Vehicle Positions for {trip_id}\",\n",
    "                            zoom=12)\n",
    "    fig.update_traces(marker=dict(size=10, color='red'))  # Increase the size and set color to red\n",
    "        \n",
    "    fig.update_layout(mapbox_style=\"open-street-map\", \n",
    "                      mapbox_center={\"lat\": vehicle_positions_df[\"latitude\"].mean(), \n",
    "                                     \"lon\": vehicle_positions_df[\"longitude\"].mean()},\n",
    "                      margin={\"r\":0,\"t\":0,\"l\":0,\"b\":0})\n",
    "    \n",
    "    return fig\n",
    "\n",
    "# Main function to run the Dash app\n",
    "if __name__ == \"__main__\":\n",
    "    app.run_server(debug=True, port=8050)"
   ]
  },
  {
   "cell_type": "code",
   "execution_count": null,
   "id": "b6ed6eb9",
   "metadata": {},
   "outputs": [],
   "source": [
    "## 11.5.2. Speed Analysis Over Network Segments\n",
    "\n",
    "\n",
    "import psycopg2\n",
    "import geopandas as gpd\n",
    "import folium as fl\n",
    "from folium.features import GeoJson, GeoJsonTooltip\n",
    "import branca.colormap as cm\n",
    "\n",
    "\n",
    "# SQL query to get the average speed per segment and geometry\n",
    "sql_query = \"\"\"\n",
    "SELECT\n",
    "    AVG(s.distance_m / EXTRACT(EPOCH FROM (ts.end_time_actual - ts.start_time_actual)) * 3.6) AS speedKMH,\n",
    "    s.geometry,\n",
    "    ts.start_stop_id,\n",
    "    ts.end_stop_id\n",
    "    FROM tripSegments ts\n",
    "JOIN segments s\n",
    "ON ts.start_stop_id = s.start_stop_id AND ts.end_stop_id = s.end_stop_id\n",
    "WHERE ts.start_time_actual IS NOT NULL\n",
    "  AND EXTRACT(EPOCH FROM (ts.end_time_actual - ts.start_time_actual)) > 0\n",
    "GROUP BY s.geometry, ts.start_stop_id, ts.end_stop_id;\n",
    "\"\"\"\n",
    "\n",
    "# Function to fetch data from PostgreSQL and return a GeoDataFrame\n",
    "def fetch_segment_speed_data():\n",
    "    \"\"\"\n",
    "    Connects to PostgreSQL and fetches the average speed per segment.\n",
    "\n",
    "    Returns:\n",
    "    - GeoDataFrame containing the segments, speedKMH, and geometries.\n",
    "    \"\"\"\n",
    "    conn = psycopg2.connect(host=db_host, port=db_port, dbname=db_name, user=db_user, password=db_pass)\n",
    "    \n",
    "    # Load the data into a GeoDataFrame\n",
    "    gdf = gpd.GeoDataFrame.from_postgis(sql_query, conn, geom_col='geometry')\n",
    "    \n",
    "    conn.close()\n",
    "    return gdf\n",
    "\n",
    "# Function to create a color map based on speed\n",
    "def create_colormap(min_speed, max_speed):\n",
    "    \"\"\"\n",
    "    Creates a colormap from white (low speed) to red (high speed).\n",
    "\n",
    "    Parameters:\n",
    "    - min_speed: The minimum speed for the color gradient.\n",
    "    - max_speed: The maximum speed for the color gradient.\n",
    "\n",
    "    Returns:\n",
    "    - A colormap function.\n",
    "    \"\"\"\n",
    "    return cm.LinearColormap(['red', 'white'], vmin=min_speed, vmax=max_speed) #faster segments are more white and slower segments are more red\n",
    "\n",
    "# Function to visualize the speed per segment using folium and GeoJSON\n",
    "def visualize_speed_map(gdf, cutoff=35):\n",
    "    \"\"\"\n",
    "    Visualizes the average speed per segment on a folium map using GeoJSON.\n",
    "\n",
    "    Parameters:\n",
    "    - gdf: GeoDataFrame containing the segment geometries and speedKMH.\n",
    "    - cutoff: The maximum speed for the color gradient. Speeds above this are capped at the cutoff.\n",
    "    \n",
    "    Returns:\n",
    "    - A folium map with segments color-coded by speedKMH.\n",
    "    \"\"\"\n",
    "    # Create a folium map centered around the area\n",
    "    transport_map = fl.Map(location=[56.9496, 24.1052], zoom_start=12)\n",
    "\n",
    "    # Create a colormap for speed values\n",
    "    min_speed = gdf['speedkmh'].min()\n",
    "    max_speed = min(gdf['speedkmh'].max(), cutoff)  # Apply cutoff to the maximum speed\n",
    "    colormap = create_colormap(min_speed, max_speed)\n",
    "\n",
    "    # Add each segment to the map\n",
    "    for _, segment in gdf.iterrows():\n",
    "        # Apply cutoff to the speed\n",
    "        speed_kmh = min(segment['speedkmh'], cutoff)\n",
    "\n",
    "        # Get color based on speed\n",
    "        color = colormap(speed_kmh)\n",
    "\n",
    "        # Convert the geometry to GeoJSON with associated properties\n",
    "        geo_json = GeoJson(\n",
    "            data={\n",
    "                \"type\": \"Feature\",\n",
    "                \"geometry\": segment['geometry'].__geo_interface__,\n",
    "                \"properties\": {\n",
    "                    \"speedkmh\": round(segment['speedkmh'], 2),\n",
    "                    \"from_stop_id\": segment['start_stop_id'],\n",
    "                    \"to_stop_id\": segment['end_stop_id']\n",
    "                }\n",
    "            },\n",
    "            style_function=lambda x, color=color: {\n",
    "                'color': color,\n",
    "                'weight': 3,\n",
    "                'opacity': 0.7\n",
    "            },\n",
    "            tooltip=GeoJsonTooltip(\n",
    "                fields=['speedkmh', 'from_stop_id', 'to_stop_id'],\n",
    "                aliases=['Speed (km/h)', 'From Stop', 'To Stop'],\n",
    "                localize=True\n",
    "            )\n",
    "        )\n",
    "        geo_json.add_to(transport_map)\n",
    "\n",
    "    # Add the colormap to the map\n",
    "    colormap.add_to(transport_map)\n",
    "\n",
    "    return transport_map\n",
    "\n",
    "# Main script\n",
    "if __name__ == \"__main__\":\n",
    "    # Fetch the segment speed data\n",
    "    segment_speed_gdf = fetch_segment_speed_data()\n",
    "\n",
    "    # Visualize the average speed per segment on a folium map\n",
    "    speed_map = visualize_speed_map(segment_speed_gdf)\n",
    "\n",
    "    # display the map\n",
    "    display(speed_map)"
   ]
  },
  {
   "cell_type": "code",
   "execution_count": 30,
   "id": "29ed90a1",
   "metadata": {},
   "outputs": [
    {
     "data": {
      "application/vnd.plotly.v1+json": {
       "config": {
        "plotlyServerURL": "https://plot.ly"
       },
       "data": [
        {
         "hovertemplate": "Trip ID=TROL4-01-1-240920-ab-1800<br>Time=%{x}<br>Delay (minutes)=%{y}<extra></extra>",
         "legendgroup": "TROL4-01-1-240920-ab-1800",
         "line": {
          "color": "#636efa",
          "dash": "solid"
         },
         "marker": {
          "symbol": "circle"
         },
         "mode": "lines+markers",
         "name": "TROL4-01-1-240920-ab-1800",
         "orientation": "v",
         "showlegend": true,
         "type": "scatter",
         "x": [
          "2024-09-24T17:02:54.503329+02:00",
          "2024-09-24T17:04:01.781176+02:00",
          "2024-09-24T17:05:36.762695+02:00",
          "2024-09-24T17:07:15.452264+02:00",
          "2024-09-24T17:08:19.693517+02:00",
          "2024-09-24T17:10:13.670416+02:00",
          "2024-09-24T17:11:14.083237+02:00",
          "2024-09-24T17:12:21.331021+02:00",
          "2024-09-24T17:13:21.637233+02:00",
          "2024-09-24T17:16:24.973368+02:00",
          "2024-09-24T17:17:39.387443+02:00",
          "2024-09-24T17:18:11.389865+02:00",
          "2024-09-24T17:19:13.785964+02:00",
          "2024-09-24T17:20:59.749534+02:00",
          "2024-09-24T17:23:13.788034+02:00",
          "2024-09-24T17:24:52.155175+02:00",
          "2024-09-24T17:28:32.279049+02:00",
          "2024-09-24T17:29:45.186966+02:00",
          "2024-09-24T17:31:39+02:00",
          "2024-09-24T17:34:25.073199+02:00",
          "2024-09-24T17:37:04.394285+02:00",
          "2024-09-24T17:38:57+02:00",
          "2024-09-24T17:42:46.166551+02:00",
          "2024-09-24T17:44:56.361160+02:00",
          "2024-09-24T17:45:39.930082+02:00",
          "2024-09-24T17:48:17.656038+02:00",
          "2024-09-24T17:52:02.163657+02:00"
         ],
         "xaxis": "x",
         "y": [
          9.908388816666667,
          -0.9703137333333334,
          -0.3872884166666667,
          -0.7424622666666667,
          -0.6717747166666667,
          -0.7721597333333333,
          -0.7652793833333333,
          -0.6444829833333333,
          -1.63937945,
          -0.5837772,
          -0.3435426166666667,
          -0.8101689166666667,
          -0.7702339333333333,
          -1.0041744333333333,
          -0.7701994333333333,
          -1.1307470833333333,
          -0.46201585,
          -1.2468839,
          -1.35,
          -0.58211335,
          -0.9267619166666666,
          -2.05,
          -0.23055748333333334,
          -1.0606473333333333,
          -1.3344986333333333,
          -2.7057327,
          0.03606095
         ],
         "yaxis": "y"
        },
        {
         "hovertemplate": "Trip ID=TROL4-01-1-240920-ba-1640<br>Time=%{x}<br>Delay (minutes)=%{y}<extra></extra>",
         "legendgroup": "TROL4-01-1-240920-ba-1640",
         "line": {
          "color": "#EF553B",
          "dash": "solid"
         },
         "marker": {
          "symbol": "circle"
         },
         "mode": "lines+markers",
         "name": "TROL4-01-1-240920-ba-1640",
         "orientation": "v",
         "showlegend": true,
         "type": "scatter",
         "x": [
          "2024-09-24T16:52:41+02:00"
         ],
         "xaxis": "x",
         "y": [
          2.683333333333333
         ],
         "yaxis": "y"
        },
        {
         "hovertemplate": "Trip ID=TROL4-02-1-240920-ab-1810<br>Time=%{x}<br>Delay (minutes)=%{y}<extra></extra>",
         "legendgroup": "TROL4-02-1-240920-ab-1810",
         "line": {
          "color": "#00cc96",
          "dash": "solid"
         },
         "marker": {
          "symbol": "circle"
         },
         "mode": "lines+markers",
         "name": "TROL4-02-1-240920-ab-1810",
         "orientation": "v",
         "showlegend": true,
         "type": "scatter",
         "x": [
          "2024-09-24T17:11:03.068299+02:00",
          "2024-09-24T17:12:50.357165+02:00",
          "2024-09-24T17:14:07.808175+02:00",
          "2024-09-24T17:16:01.958676+02:00",
          "2024-09-24T17:17:06.034744+02:00",
          "2024-09-24T17:20:30.801779+02:00",
          "2024-09-24T17:21:30.206086+02:00",
          "2024-09-24T17:22:41.767691+02:00",
          "2024-09-24T17:23:35.495654+02:00",
          "2024-09-24T17:26:46.627541+02:00",
          "2024-09-24T17:28:40.621312+02:00",
          "2024-09-24T17:29:31.628478+02:00",
          "2024-09-24T17:31:03.346709+02:00",
          "2024-09-24T17:32:21.926562+02:00",
          "2024-09-24T17:33:50.184948+02:00",
          "2024-09-24T17:35:24.111585+02:00",
          "2024-09-24T17:37:53+02:00",
          "2024-09-24T17:39:09.445281+02:00",
          "2024-09-24T17:40:49.747102+02:00",
          "2024-09-24T17:43:01.063267+02:00",
          "2024-09-24T17:45:30+02:00",
          "2024-09-24T17:48:20.312071+02:00",
          "2024-09-24T17:51:38.381570+02:00"
         ],
         "xaxis": "x",
         "y": [
          10.051138316666666,
          -0.16071391666666668,
          0.13013625,
          0.0326446,
          0.10057906666666666,
          1.5133629833333333,
          1.5034347666666668,
          1.6961281833333333,
          0.5915942333333334,
          1.7771256833333333,
          2.6770218666666667,
          2.5271413,
          3.0557784833333335,
          2.3654427,
          1.8364158,
          1.40185975,
          0.8833333333333333,
          0.15742135,
          -0.17088163333333334,
          0.01772111666666667,
          -0.5,
          -0.6614654833333333,
          0.6396928333333334
         ],
         "yaxis": "y"
        },
        {
         "hovertemplate": "Trip ID=TROL4-02-1-240920-ba-1650<br>Time=%{x}<br>Delay (minutes)=%{y}<extra></extra>",
         "legendgroup": "TROL4-02-1-240920-ba-1650",
         "line": {
          "color": "#ab63fa",
          "dash": "solid"
         },
         "marker": {
          "symbol": "circle"
         },
         "mode": "lines+markers",
         "name": "TROL4-02-1-240920-ba-1650",
         "orientation": "v",
         "showlegend": true,
         "type": "scatter",
         "x": [
          "2024-09-24T16:52:50.489814+02:00",
          "2024-09-24T16:55:37+02:00",
          "2024-09-24T16:57:57+02:00",
          "2024-09-24T16:59:15.335624+02:00",
          "2024-09-24T17:00:51.291010+02:00",
          "2024-09-24T17:02:03.784344+02:00"
         ],
         "xaxis": "x",
         "y": [
          2.8414969,
          3.6166666666666667,
          3.95,
          4.255593733333333,
          3.8548501666666666,
          4.0630724
         ],
         "yaxis": "y"
        },
        {
         "hovertemplate": "Trip ID=TROL4-03-1-240920-ab-1820<br>Time=%{x}<br>Delay (minutes)=%{y}<extra></extra>",
         "legendgroup": "TROL4-03-1-240920-ab-1820",
         "line": {
          "color": "#FFA15A",
          "dash": "solid"
         },
         "marker": {
          "symbol": "circle"
         },
         "mode": "lines+markers",
         "name": "TROL4-03-1-240920-ab-1820",
         "orientation": "v",
         "showlegend": true,
         "type": "scatter",
         "x": [
          "2024-09-24T17:18:28.633466+02:00",
          "2024-09-24T17:20:52.138846+02:00",
          "2024-09-24T17:22:17.981552+02:00",
          "2024-09-24T17:24:04.865721+02:00",
          "2024-09-24T17:25:32.733646+02:00",
          "2024-09-24T17:26:59.611042+02:00",
          "2024-09-24T17:29:15.596944+02:00",
          "2024-09-24T17:29:57.191328+02:00",
          "2024-09-24T17:33:00.791280+02:00",
          "2024-09-24T17:34:10.246546+02:00",
          "2024-09-24T17:34:48+02:00",
          "2024-09-24T17:35:45.380099+02:00",
          "2024-09-24T17:37:39+02:00",
          "2024-09-24T17:39:51.042644+02:00",
          "2024-09-24T17:41:02.843168+02:00",
          "2024-09-24T17:43:48.147602+02:00",
          "2024-09-24T17:46:02.585861+02:00",
          "2024-09-24T17:47:42+02:00",
          "2024-09-24T17:49:58.588087+02:00"
         ],
         "xaxis": "x",
         "y": [
          9.477224433333333,
          -0.13101923333333335,
          0.29969253333333334,
          0.08109535,
          0.5455607666666666,
          -0.006482633333333333,
          0.2599490666666667,
          -1.0468112,
          0.013188,
          0.17077576666666666,
          -0.2,
          -0.24366501666666668,
          -0.35,
          -0.14928926666666667,
          -0.9526138666666667,
          -1.1975399666666666,
          -0.9569023166666667,
          -1.3,
          -1.0235318833333333
         ],
         "yaxis": "y"
        },
        {
         "hovertemplate": "Trip ID=TROL4-03-1-240920-ba-1700<br>Time=%{x}<br>Delay (minutes)=%{y}<extra></extra>",
         "legendgroup": "TROL4-03-1-240920-ba-1700",
         "line": {
          "color": "#19d3f3",
          "dash": "solid"
         },
         "marker": {
          "symbol": "circle"
         },
         "mode": "lines+markers",
         "name": "TROL4-03-1-240920-ba-1700",
         "orientation": "v",
         "showlegend": true,
         "type": "scatter",
         "x": [
          "2024-09-24T16:52:42.270669+02:00",
          "2024-09-24T16:55:17.749125+02:00",
          "2024-09-24T16:57:11.280685+02:00",
          "2024-09-24T16:58:52.523902+02:00",
          "2024-09-24T17:01:52+02:00",
          "2024-09-24T17:03:55.014752+02:00",
          "2024-09-24T17:05:10.642872+02:00",
          "2024-09-24T17:08:04.082944+02:00"
         ],
         "xaxis": "x",
         "y": [
          -1.29548885,
          -0.70418125,
          0.18801141666666665,
          0.8753983666666667,
          1.8666666666666667,
          1.9169125333333332,
          2.1773812,
          2.0680490666666667
         ],
         "yaxis": "y"
        },
        {
         "hovertemplate": "Trip ID=TROL4-04-1-240920-ab-1830<br>Time=%{x}<br>Delay (minutes)=%{y}<extra></extra>",
         "legendgroup": "TROL4-04-1-240920-ab-1830",
         "line": {
          "color": "#FF6692",
          "dash": "solid"
         },
         "marker": {
          "symbol": "circle"
         },
         "mode": "lines+markers",
         "name": "TROL4-04-1-240920-ab-1830",
         "orientation": "v",
         "showlegend": true,
         "type": "scatter",
         "x": [
          "2024-09-24T17:27:29.535650+02:00",
          "2024-09-24T17:29:26.266747+02:00",
          "2024-09-24T17:30:51.799701+02:00",
          "2024-09-24T17:32:30.403946+02:00",
          "2024-09-24T17:33:36.377079+02:00",
          "2024-09-24T17:37:49.260765+02:00",
          "2024-09-24T17:39:17.687782+02:00",
          "2024-09-24T17:40:57.286217+02:00",
          "2024-09-24T17:41:56.291050+02:00",
          "2024-09-24T17:43:00.162290+02:00",
          "2024-09-24T17:48:05.815577+02:00"
         ],
         "xaxis": "x",
         "y": [
          10.492260833333333,
          0.4377791166666667,
          0.86332835,
          0.5067324333333333,
          0.60628465,
          -1.17898725,
          -1.7052036333333334,
          -1.0452297166666666,
          -1.0618158333333334,
          -0.9972951666666666,
          0.09692628333333334
         ],
         "yaxis": "y"
        },
        {
         "hovertemplate": "Trip ID=TROL4-04-1-240920-ba-1710<br>Time=%{x}<br>Delay (minutes)=%{y}<extra></extra>",
         "legendgroup": "TROL4-04-1-240920-ba-1710",
         "line": {
          "color": "#B6E880",
          "dash": "solid"
         },
         "marker": {
          "symbol": "circle"
         },
         "mode": "lines+markers",
         "name": "TROL4-04-1-240920-ba-1710",
         "orientation": "v",
         "showlegend": true,
         "type": "scatter",
         "x": [
          "2024-09-24T16:54:46.041082+02:00",
          "2024-09-24T16:55:33.955070+02:00",
          "2024-09-24T16:56:10.346072+02:00",
          "2024-09-24T16:58:34.253070+02:00",
          "2024-09-24T17:00:29.206031+02:00",
          "2024-09-24T17:01:35.079361+02:00",
          "2024-09-24T17:02:51.696130+02:00",
          "2024-09-24T17:04:11.180837+02:00",
          "2024-09-24T17:05:27.456996+02:00",
          "2024-09-24T17:08:25.457704+02:00",
          "2024-09-24T17:12:25.006048+02:00",
          "2024-09-24T17:14:50.413949+02:00",
          "2024-09-24T17:15:55.983606+02:00"
         ],
         "xaxis": "x",
         "y": [
          0.7673513666666667,
          0.5659178333333333,
          0.17243453333333333,
          0.5708845,
          1.4867671833333334,
          1.5846560166666668,
          0.8616021666666667,
          0.18634728333333334,
          0.4576166,
          2.4242950666666667,
          2.4167674666666668,
          1.8402324833333332,
          1.9330601
         ],
         "yaxis": "y"
        },
        {
         "hovertemplate": "Trip ID=TROL4-05-1-240920-ab-1840<br>Time=%{x}<br>Delay (minutes)=%{y}<extra></extra>",
         "legendgroup": "TROL4-05-1-240920-ab-1840",
         "line": {
          "color": "#FF97FF",
          "dash": "solid"
         },
         "marker": {
          "symbol": "circle"
         },
         "mode": "lines+markers",
         "name": "TROL4-05-1-240920-ab-1840",
         "orientation": "v",
         "showlegend": true,
         "type": "scatter",
         "x": [
          "2024-09-24T17:34:16.591209+02:00",
          "2024-09-24T17:36:49.196705+02:00",
          "2024-09-24T17:38:51.067749+02:00",
          "2024-09-24T17:40:56.254503+02:00",
          "2024-09-24T17:42:29.682840+02:00",
          "2024-09-24T17:45:06.455233+02:00",
          "2024-09-24T17:46:13.601609+02:00",
          "2024-09-24T17:47:28.436599+02:00",
          "2024-09-24T17:48:16.401844+02:00",
          "2024-09-24T17:49:39.977969+02:00",
          "2024-09-24T17:51:16.719931+02:00"
         ],
         "xaxis": "x",
         "y": [
          9.27652015,
          -0.18005491666666668,
          0.85112915,
          0.93757505,
          1.494714,
          2.1075872166666665,
          2.2266934833333334,
          2.473943316666667,
          1.2733640666666668,
          0.6662994833333333,
          1.2786655166666667
         ],
         "yaxis": "y"
        },
        {
         "hovertemplate": "Trip ID=TROL4-05-1-240920-ba-1720<br>Time=%{x}<br>Delay (minutes)=%{y}<extra></extra>",
         "legendgroup": "TROL4-05-1-240920-ba-1720",
         "line": {
          "color": "#FECB52",
          "dash": "solid"
         },
         "marker": {
          "symbol": "circle"
         },
         "mode": "lines+markers",
         "name": "TROL4-05-1-240920-ba-1720",
         "orientation": "v",
         "showlegend": true,
         "type": "scatter",
         "x": [
          "2024-09-24T16:53:06.882690+02:00",
          "2024-09-24T16:54:42.896759+02:00",
          "2024-09-24T16:59:03.138910+02:00",
          "2024-09-24T17:01:21.256110+02:00",
          "2024-09-24T17:03:19.409004+02:00",
          "2024-09-24T17:04:01.715989+02:00",
          "2024-09-24T17:05:12.345080+02:00",
          "2024-09-24T17:06:39.122614+02:00",
          "2024-09-24T17:07:42.040620+02:00",
          "2024-09-24T17:09:04.834590+02:00",
          "2024-09-24T17:10:12+02:00",
          "2024-09-24T17:11:08.268648+02:00",
          "2024-09-24T17:11:56.659770+02:00",
          "2024-09-24T17:13:32.046472+02:00",
          "2024-09-24T17:16:15.818982+02:00",
          "2024-09-24T17:18:26.589591+02:00",
          "2024-09-24T17:19:37.381487+02:00",
          "2024-09-24T17:20:59.379275+02:00",
          "2024-09-24T17:22:03.375978+02:00"
         ],
         "xaxis": "x",
         "y": [
          0.1147115,
          -0.2850540166666667,
          2.052315166666667,
          1.3542685,
          1.3234834,
          1.0285998166666668,
          1.2057513333333334,
          0.6520435666666666,
          0.700677,
          1.0805765,
          0.2,
          -0.8621892,
          -1.0556705,
          -0.46589213333333335,
          0.2636497,
          0.44315985,
          0.6230247833333333,
          -0.010345416666666666,
          0.0562663
         ],
         "yaxis": "y"
        },
        {
         "hovertemplate": "Trip ID=TROL4-06-1-240920-ab-1840<br>Time=%{x}<br>Delay (minutes)=%{y}<extra></extra>",
         "legendgroup": "TROL4-06-1-240920-ab-1840",
         "line": {
          "color": "#636efa",
          "dash": "solid"
         },
         "marker": {
          "symbol": "circle"
         },
         "mode": "lines+markers",
         "name": "TROL4-06-1-240920-ab-1840",
         "orientation": "v",
         "showlegend": true,
         "type": "scatter",
         "x": [
          "2024-09-24T17:43:35.938450+02:00",
          "2024-09-24T17:46:37.039980+02:00",
          "2024-09-24T17:47:48.902958+02:00",
          "2024-09-24T17:49:32.513639+02:00",
          "2024-09-24T17:50:47.411809+02:00"
         ],
         "xaxis": "x",
         "y": [
          11.598974166666666,
          0.617333,
          0.8150493,
          0.5418939833333334,
          0.7901968166666666
         ],
         "yaxis": "y"
        },
        {
         "hovertemplate": "Trip ID=TROL4-06-1-240920-ba-1720<br>Time=%{x}<br>Delay (minutes)=%{y}<extra></extra>",
         "legendgroup": "TROL4-06-1-240920-ba-1720",
         "line": {
          "color": "#EF553B",
          "dash": "solid"
         },
         "marker": {
          "symbol": "circle"
         },
         "mode": "lines+markers",
         "name": "TROL4-06-1-240920-ba-1720",
         "orientation": "v",
         "showlegend": true,
         "type": "scatter",
         "x": [
          "2024-09-24T16:53:00.355448+02:00",
          "2024-09-24T16:54:04.338121+02:00",
          "2024-09-24T16:56:10.506422+02:00",
          "2024-09-24T16:59:35.891217+02:00",
          "2024-09-24T17:01:13.307639+02:00",
          "2024-09-24T17:03:39.908578+02:00",
          "2024-09-24T17:05:53.025362+02:00",
          "2024-09-24T17:09:17.918146+02:00",
          "2024-09-24T17:11:20.868649+02:00",
          "2024-09-24T17:12:13.357032+02:00",
          "2024-09-24T17:12:56.667851+02:00",
          "2024-09-24T17:14:38.121477+02:00",
          "2024-09-24T17:15:45.678852+02:00",
          "2024-09-24T17:17:26.304018+02:00",
          "2024-09-24T17:20:22.111014+02:00",
          "2024-09-24T17:21:20.242269+02:00",
          "2024-09-24T17:22:26.904100+02:00",
          "2024-09-24T17:23:54.310733+02:00",
          "2024-09-24T17:26:46.254341+02:00",
          "2024-09-24T17:28:57.472078+02:00",
          "2024-09-24T17:29:59.706520+02:00",
          "2024-09-24T17:31:34.981476+02:00",
          "2024-09-24T17:32:47.498218+02:00"
         ],
         "xaxis": "x",
         "y": [
          3.005924133333333,
          3.072302016666667,
          3.175107033333333,
          1.59818695,
          1.2217939833333333,
          1.6651429666666666,
          1.8837560333333332,
          2.2986357666666666,
          2.3478108166666667,
          2.2226172,
          1.9444641833333334,
          1.63535795,
          1.7613142,
          2.4384003,
          3.3685169,
          2.33737115,
          2.448401666666667,
          2.9051788833333334,
          3.7709056833333334,
          3.9578679666666665,
          3.995108666666667,
          3.5830246,
          3.7916369666666667
         ],
         "yaxis": "y"
        },
        {
         "hovertemplate": "Trip ID=TROL4-07-1-240920-ba-1730<br>Time=%{x}<br>Delay (minutes)=%{y}<extra></extra>",
         "legendgroup": "TROL4-07-1-240920-ba-1730",
         "line": {
          "color": "#00cc96",
          "dash": "solid"
         },
         "marker": {
          "symbol": "circle"
         },
         "mode": "lines+markers",
         "name": "TROL4-07-1-240920-ba-1730",
         "orientation": "v",
         "showlegend": true,
         "type": "scatter",
         "x": [
          "2024-09-24T16:56:21.199775+02:00",
          "2024-09-24T16:57:46.794223+02:00",
          "2024-09-24T16:59:07.915795+02:00",
          "2024-09-24T17:01:08.433264+02:00",
          "2024-09-24T17:03:54.889477+02:00",
          "2024-09-24T17:05:15+02:00",
          "2024-09-24T17:07:32.804077+02:00",
          "2024-09-24T17:12:05.776194+02:00",
          "2024-09-24T17:14:19.495898+02:00",
          "2024-09-24T17:15:34.823032+02:00",
          "2024-09-24T17:16:23.703238+02:00",
          "2024-09-24T17:19:12.052527+02:00",
          "2024-09-24T17:19:59.072629+02:00",
          "2024-09-24T17:21:42.135574+02:00",
          "2024-09-24T17:22:40.006524+02:00",
          "2024-09-24T17:24:42.857207+02:00",
          "2024-09-24T17:25:33.873631+02:00",
          "2024-09-24T17:26:58.105342+02:00",
          "2024-09-24T17:28:56.572552+02:00",
          "2024-09-24T17:30:58.311822+02:00",
          "2024-09-24T17:32:16.007493+02:00",
          "2024-09-24T17:33:47.207846+02:00",
          "2024-09-24T17:35:03.883755+02:00"
         ],
         "xaxis": "x",
         "y": [
          -0.6466704166666667,
          -0.22009628333333334,
          -0.8680700833333334,
          -0.8594456,
          -1.0851753833333333,
          -1.75,
          -1.4532653833333333,
          -1.9037301,
          -1.6750683666666668,
          -1.4196161333333333,
          -1.6049460333333334,
          -0.79912455,
          -1.0154561833333333,
          -0.29774043333333333,
          -1.3332246,
          -1.2857132166666667,
          -1.4354394833333333,
          -1.0315776333333333,
          -1.0571241333333332,
          -1.0281363,
          -0.73320845,
          -1.2132025666666666,
          -0.93527075
         ],
         "yaxis": "y"
        },
        {
         "hovertemplate": "Trip ID=TROL4-08-1-240920-ba-1740<br>Time=%{x}<br>Delay (minutes)=%{y}<extra></extra>",
         "legendgroup": "TROL4-08-1-240920-ba-1740",
         "line": {
          "color": "#ab63fa",
          "dash": "solid"
         },
         "marker": {
          "symbol": "circle"
         },
         "mode": "lines+markers",
         "name": "TROL4-08-1-240920-ba-1740",
         "orientation": "v",
         "showlegend": true,
         "type": "scatter",
         "x": [
          "2024-09-24T16:53:51.770603+02:00",
          "2024-09-24T16:54:45.608936+02:00",
          "2024-09-24T16:57:54.666709+02:00",
          "2024-09-24T17:00:37.704109+02:00",
          "2024-09-24T17:03:26.377593+02:00",
          "2024-09-24T17:05:05.860966+02:00",
          "2024-09-24T17:06:54+02:00",
          "2024-09-24T17:08:37.467771+02:00",
          "2024-09-24T17:11:35.166703+02:00",
          "2024-09-24T17:12:35.348819+02:00",
          "2024-09-24T17:14:09.214305+02:00",
          "2024-09-24T17:17:29.775697+02:00",
          "2024-09-24T17:19:59.800267+02:00",
          "2024-09-24T17:22:06.990742+02:00",
          "2024-09-24T17:22:59.297958+02:00",
          "2024-09-24T17:23:28.862530+02:00",
          "2024-09-24T17:25:33.590085+02:00",
          "2024-09-24T17:26:17.864640+02:00",
          "2024-09-24T17:27:52.746740+02:00",
          "2024-09-24T17:29:34.163521+02:00",
          "2024-09-24T17:31:13.161573+02:00",
          "2024-09-24T17:32:20.645731+02:00",
          "2024-09-24T17:33:37+02:00",
          "2024-09-24T17:35:32.014511+02:00",
          "2024-09-24T17:39:08.105958+02:00",
          "2024-09-24T17:40:52.360295+02:00",
          "2024-09-24T17:42:02.214914+02:00"
         ],
         "xaxis": "x",
         "y": [
          -1.1371566166666667,
          -1.2398510666666667,
          -0.08888818333333333,
          -0.37159818333333333,
          -0.56037345,
          0.09768276666666667,
          -0.1,
          -0.37553715,
          -0.41388828333333333,
          -1.4108530166666666,
          -1.84642825,
          -0.5037383833333333,
          -1.0033288833333334,
          -0.8834876333333334,
          -1.0117007,
          -1.5189578333333333,
          -1.44016525,
          -1.702256,
          -1.1208876666666667,
          -1.4306079833333334,
          -1.78064045,
          -1.6559044833333334,
          -1.3833333333333333,
          -1.4664248166666667,
          -0.8649007,
          -1.1273284166666666,
          -0.9630847666666666
         ],
         "yaxis": "y"
        },
        {
         "hovertemplate": "Trip ID=TROL4-09-1-240920-ba-1750<br>Time=%{x}<br>Delay (minutes)=%{y}<extra></extra>",
         "legendgroup": "TROL4-09-1-240920-ba-1750",
         "line": {
          "color": "#FFA15A",
          "dash": "solid"
         },
         "marker": {
          "symbol": "circle"
         },
         "mode": "lines+markers",
         "name": "TROL4-09-1-240920-ba-1750",
         "orientation": "v",
         "showlegend": true,
         "type": "scatter",
         "x": [
          "2024-09-24T16:52:40.861410+02:00",
          "2024-09-24T16:53:49.709066+02:00",
          "2024-09-24T16:56:17.726292+02:00",
          "2024-09-24T16:57:45.383876+02:00",
          "2024-09-24T16:59:09.794914+02:00",
          "2024-09-24T17:00:29.893861+02:00",
          "2024-09-24T17:01:37.261757+02:00",
          "2024-09-24T17:03:00.472412+02:00",
          "2024-09-24T17:06:13.866548+02:00",
          "2024-09-24T17:07:04+02:00",
          "2024-09-24T17:10:07.584227+02:00",
          "2024-09-24T17:12:43.205591+02:00",
          "2024-09-24T17:14:24.273494+02:00",
          "2024-09-24T17:15:40.348216+02:00",
          "2024-09-24T17:17:37+02:00",
          "2024-09-24T17:19:11.587221+02:00",
          "2024-09-24T17:22:05.655169+02:00",
          "2024-09-24T17:23:15.309180+02:00",
          "2024-09-24T17:24:58.408448+02:00",
          "2024-09-24T17:27:29.554136+02:00",
          "2024-09-24T17:30:34.461315+02:00",
          "2024-09-24T17:32:31.204559+02:00",
          "2024-09-24T17:34:16.215599+02:00",
          "2024-09-24T17:35:16.221255+02:00",
          "2024-09-24T17:37:48.814946+02:00",
          "2024-09-24T17:39:03.221822+02:00",
          "2024-09-24T17:40:20.930225+02:00",
          "2024-09-24T17:41:27.898921+02:00",
          "2024-09-24T17:43:23.803440+02:00",
          "2024-09-24T17:44:29.727116+02:00",
          "2024-09-24T17:45:35.871760+02:00",
          "2024-09-24T17:47:27.450629+02:00",
          "2024-09-24T17:48:47.866854+02:00",
          "2024-09-24T17:49:56.204387+02:00",
          "2024-09-24T17:52:18+02:00"
         ],
         "xaxis": "x",
         "y": [
          -1.3189765,
          -2.171515566666667,
          -2.7045618,
          -2.2436020666666665,
          -2.8367514333333332,
          -2.501768983333333,
          -3.3789707166666667,
          -3.9921264666666665,
          -2.7688908666666667,
          -2.933333333333333,
          -1.8735962166666666,
          -2.2799068166666667,
          -3.5954417666666667,
          -3.3275297333333334,
          -3.3833333333333333,
          -3.80687965,
          -3.9057471833333333,
          -4.744847,
          -5.026525866666667,
          -4.507431066666666,
          -4.42564475,
          -4.479924016666667,
          -3.7297400166666668,
          -3.72964575,
          -3.1864175666666665,
          -2.946302966666667,
          -2.651162916666667,
          -3.5350179833333333,
          -3.603276,
          -3.5045480666666666,
          -3.402137333333333,
          -3.5424895166666666,
          -4.2022191,
          -4.0632602166666665,
          -3.7
         ],
         "yaxis": "y"
        },
        {
         "hovertemplate": "Trip ID=TROL4-10-1-240920-ba-1800<br>Time=%{x}<br>Delay (minutes)=%{y}<extra></extra>",
         "legendgroup": "TROL4-10-1-240920-ba-1800",
         "line": {
          "color": "#19d3f3",
          "dash": "solid"
         },
         "marker": {
          "symbol": "circle"
         },
         "mode": "lines+markers",
         "name": "TROL4-10-1-240920-ba-1800",
         "orientation": "v",
         "showlegend": true,
         "type": "scatter",
         "x": [
          "2024-09-24T16:59:39.991241+02:00",
          "2024-09-24T17:01:30.075128+02:00",
          "2024-09-24T17:02:45.148921+02:00",
          "2024-09-24T17:03:54.329666+02:00",
          "2024-09-24T17:06:29.920100+02:00",
          "2024-09-24T17:07:54.082556+02:00",
          "2024-09-24T17:09:18.110941+02:00",
          "2024-09-24T17:10:32.085047+02:00",
          "2024-09-24T17:11:27.916223+02:00",
          "2024-09-24T17:13:37.735616+02:00",
          "2024-09-24T17:17:03.059212+02:00",
          "2024-09-24T17:18:02.058792+02:00",
          "2024-09-24T17:20:35.704250+02:00",
          "2024-09-24T17:22:27.479049+02:00",
          "2024-09-24T17:26:24.229126+02:00",
          "2024-09-24T17:28:17.835151+02:00",
          "2024-09-24T17:29:33.066289+02:00",
          "2024-09-24T17:31:51.356500+02:00",
          "2024-09-24T17:33:14.878860+02:00",
          "2024-09-24T17:35:37.485812+02:00",
          "2024-09-24T17:40:32.684770+02:00",
          "2024-09-24T17:42:46.486134+02:00",
          "2024-09-24T17:43:32.657256+02:00",
          "2024-09-24T17:44:49.004491+02:00",
          "2024-09-24T17:46:33.036086+02:00",
          "2024-09-24T17:48:18.637413+02:00",
          "2024-09-24T17:49:14.049990+02:00",
          "2024-09-24T17:50:03+02:00",
          "2024-09-24T17:52:07.170368+02:00"
         ],
         "xaxis": "x",
         "y": [
          11.666520683333333,
          0.5012521333333333,
          0.7524820166666667,
          -0.09450556666666667,
          0.4986683333333333,
          0.9013759333333333,
          0.3018490166666667,
          0.5347507833333334,
          -0.5347296166666666,
          -0.3710730666666667,
          1.0509868666666666,
          1.0343132,
          1.5950708333333332,
          0.45798415,
          0.40381876666666666,
          0.2972525166666667,
          -0.44889518333333334,
          -1.1440583333333334,
          -1.752019,
          -1.3752364666666668,
          -1.4552538333333334,
          -1.2252311,
          -1.4557124,
          -1.1832584833333333,
          -1.4493985666666667,
          -0.68937645,
          -0.7658335,
          -1.95,
          -1.8804938666666666
         ],
         "yaxis": "y"
        },
        {
         "hovertemplate": "Trip ID=TROL4-11-1-240920-ab-1640<br>Time=%{x}<br>Delay (minutes)=%{y}<extra></extra>",
         "legendgroup": "TROL4-11-1-240920-ab-1640",
         "line": {
          "color": "#FF6692",
          "dash": "solid"
         },
         "marker": {
          "symbol": "circle"
         },
         "mode": "lines+markers",
         "name": "TROL4-11-1-240920-ab-1640",
         "orientation": "v",
         "showlegend": true,
         "type": "scatter",
         "x": [
          "2024-09-24T16:52:28+02:00",
          "2024-09-24T16:53:59.037021+02:00"
         ],
         "xaxis": "x",
         "y": [
          2.466666666666667,
          1.98395035
         ],
         "yaxis": "y"
        },
        {
         "hovertemplate": "Trip ID=TROL4-11-1-240920-ba-1810<br>Time=%{x}<br>Delay (minutes)=%{y}<extra></extra>",
         "legendgroup": "TROL4-11-1-240920-ba-1810",
         "line": {
          "color": "#B6E880",
          "dash": "solid"
         },
         "marker": {
          "symbol": "circle"
         },
         "mode": "lines+markers",
         "name": "TROL4-11-1-240920-ba-1810",
         "orientation": "v",
         "showlegend": true,
         "type": "scatter",
         "x": [
          "2024-09-24T17:05:57.778148+02:00",
          "2024-09-24T17:07:32.470105+02:00",
          "2024-09-24T17:08:43.704028+02:00",
          "2024-09-24T17:09:58.370410+02:00",
          "2024-09-24T17:11:41.366272+02:00",
          "2024-09-24T17:13:14.335548+02:00",
          "2024-09-24T17:14:40.384322+02:00",
          "2024-09-24T17:16:25.114549+02:00",
          "2024-09-24T17:17:26.912591+02:00",
          "2024-09-24T17:19:38.883520+02:00",
          "2024-09-24T17:23:06.360941+02:00",
          "2024-09-24T17:23:54.780804+02:00",
          "2024-09-24T17:26:36.918542+02:00",
          "2024-09-24T17:32:22.933923+02:00",
          "2024-09-24T17:34:00.009703+02:00",
          "2024-09-24T17:35:02.523826+02:00",
          "2024-09-24T17:36:46.578873+02:00",
          "2024-09-24T17:39:40.807704+02:00",
          "2024-09-24T17:41:14.029888+02:00",
          "2024-09-24T17:43:03.893335+02:00",
          "2024-09-24T17:45:52.683907+02:00",
          "2024-09-24T17:48:12.099131+02:00",
          "2024-09-24T17:50:32.311926+02:00",
          "2024-09-24T17:51:38.066905+02:00",
          "2024-09-24T17:52:10.249738+02:00"
         ],
         "xaxis": "x",
         "y": [
          10.962969133333333,
          -0.45883158333333335,
          -0.2715995333333333,
          -1.0271598333333334,
          -1.3105621333333333,
          -0.7610742,
          -1.3269279666666667,
          -0.5814241833333333,
          -1.5514568166666667,
          -1.3519413333333332,
          0.10601568333333333,
          -0.0869866,
          0.6153090333333333,
          0.38223205,
          1.0001617166666668,
          0.04206376666666667,
          -0.22368545,
          -0.3198716,
          -0.7661685333333333,
          -0.9351110833333334,
          -0.12193488333333333,
          -0.7983478166666667,
          -0.4614679,
          -0.3655515833333333,
          -0.8291710333333333
         ],
         "yaxis": "y"
        },
        {
         "hovertemplate": "Trip ID=TROL4-12-1-240920-ab-1650<br>Time=%{x}<br>Delay (minutes)=%{y}<extra></extra>",
         "legendgroup": "TROL4-12-1-240920-ab-1650",
         "line": {
          "color": "#FF97FF",
          "dash": "solid"
         },
         "marker": {
          "symbol": "circle"
         },
         "mode": "lines+markers",
         "name": "TROL4-12-1-240920-ab-1650",
         "orientation": "v",
         "showlegend": true,
         "type": "scatter",
         "x": [
          "2024-09-24T16:53:49.050739+02:00",
          "2024-09-24T16:54:55.186425+02:00",
          "2024-09-24T16:57:13.369212+02:00",
          "2024-09-24T16:58:25.556671+02:00",
          "2024-09-24T16:59:21.927317+02:00",
          "2024-09-24T17:00:44.408911+02:00"
         ],
         "xaxis": "x",
         "y": [
          1.8175123166666667,
          1.91977375,
          2.2228202,
          2.4259445166666667,
          2.365455283333333,
          1.7401485166666666
         ],
         "yaxis": "y"
        },
        {
         "hovertemplate": "Trip ID=TROL4-12-1-240920-ba-1810<br>Time=%{x}<br>Delay (minutes)=%{y}<extra></extra>",
         "legendgroup": "TROL4-12-1-240920-ba-1810",
         "line": {
          "color": "#FECB52",
          "dash": "solid"
         },
         "marker": {
          "symbol": "circle"
         },
         "mode": "lines+markers",
         "name": "TROL4-12-1-240920-ba-1810",
         "orientation": "v",
         "showlegend": true,
         "type": "scatter",
         "x": [
          "2024-09-24T17:13:16.015348+02:00",
          "2024-09-24T17:15:33.514653+02:00",
          "2024-09-24T17:16:36.100345+02:00",
          "2024-09-24T17:17:44.257162+02:00",
          "2024-09-24T17:19:48.425971+02:00",
          "2024-09-24T17:21:12.507112+02:00",
          "2024-09-24T17:22:58.545551+02:00",
          "2024-09-24T17:24:27.138335+02:00",
          "2024-09-24T17:26:27.338687+02:00",
          "2024-09-24T17:27:57+02:00",
          "2024-09-24T17:31:07.427168+02:00",
          "2024-09-24T17:32:04.537108+02:00",
          "2024-09-24T17:33:51.732485+02:00",
          "2024-09-24T17:39:45.898050+02:00",
          "2024-09-24T17:41:13.130692+02:00",
          "2024-09-24T17:43:01.996400+02:00",
          "2024-09-24T17:45:25.997159+02:00",
          "2024-09-24T17:47:51.653802+02:00",
          "2024-09-24T17:49:22.381659+02:00"
         ],
         "xaxis": "x",
         "y": [
          11.266922466666667,
          -0.44142245,
          -0.39832758333333335,
          -1.2623806333333334,
          -1.1929004833333332,
          -0.7915481333333333,
          -1.0242408166666668,
          -0.5476944166666666,
          -0.5443552166666666,
          -1.05,
          0.12378613333333334,
          0.07561846666666666,
          -0.13779191666666665,
          -0.2350325,
          0.21884486666666667,
          0.033273333333333335,
          0.43328598333333335,
          -0.1391033,
          -0.62697235
         ],
         "yaxis": "y"
        },
        {
         "hovertemplate": "Trip ID=TROL4-13-1-240920-ab-1700<br>Time=%{x}<br>Delay (minutes)=%{y}<extra></extra>",
         "legendgroup": "TROL4-13-1-240920-ab-1700",
         "line": {
          "color": "#636efa",
          "dash": "solid"
         },
         "marker": {
          "symbol": "circle"
         },
         "mode": "lines+markers",
         "name": "TROL4-13-1-240920-ab-1700",
         "orientation": "v",
         "showlegend": true,
         "type": "scatter",
         "x": [
          "2024-09-24T16:52:23.842235+02:00",
          "2024-09-24T16:53:27.418362+02:00",
          "2024-09-24T16:55:17.904821+02:00",
          "2024-09-24T16:58:17.491093+02:00",
          "2024-09-24T16:59:32.339522+02:00",
          "2024-09-24T17:00:55.102636+02:00",
          "2024-09-24T17:02:59.588721+02:00",
          "2024-09-24T17:03:56.979271+02:00",
          "2024-09-24T17:05:57.076408+02:00",
          "2024-09-24T17:07:07.151682+02:00",
          "2024-09-24T17:07:42.740618+02:00",
          "2024-09-24T17:08:57.647975+02:00"
         ],
         "xaxis": "x",
         "y": [
          5.397370583333333,
          5.4569727,
          5.298413683333333,
          4.291518216666667,
          4.538992033333333,
          3.9183772666666665,
          3.99314535,
          3.9496545166666666,
          3.9512734666666667,
          4.1191947,
          3.7123436333333335,
          2.9607995833333334
         ],
         "yaxis": "y"
        },
        {
         "hovertemplate": "Trip ID=TROL4-13-1-240920-ba-1820<br>Time=%{x}<br>Delay (minutes)=%{y}<extra></extra>",
         "legendgroup": "TROL4-13-1-240920-ba-1820",
         "line": {
          "color": "#EF553B",
          "dash": "solid"
         },
         "marker": {
          "symbol": "circle"
         },
         "mode": "lines+markers",
         "name": "TROL4-13-1-240920-ba-1820",
         "orientation": "v",
         "showlegend": true,
         "type": "scatter",
         "x": [
          "2024-09-24T17:23:37.688049+02:00",
          "2024-09-24T17:25:31.489870+02:00",
          "2024-09-24T17:28:40.253975+02:00",
          "2024-09-24T17:29:49.329736+02:00",
          "2024-09-24T17:31:28+02:00",
          "2024-09-24T17:32:28.532068+02:00",
          "2024-09-24T17:39:01.427356+02:00",
          "2024-09-24T17:40:01+02:00",
          "2024-09-24T17:42:57.535474+02:00",
          "2024-09-24T17:47:11.463196+02:00",
          "2024-09-24T17:49:08.549685+02:00",
          "2024-09-24T17:51:11.745414+02:00"
         ],
         "xaxis": "x",
         "y": [
          -0.37186585,
          0.5248311666666666,
          -0.3291004166666667,
          -0.17783773333333333,
          -0.5333333333333333,
          -0.5244655333333333,
          0.023789266666666666,
          0.016666666666666666,
          0.9589245666666667,
          -0.8089467333333333,
          0.14249475,
          0.1957569
         ],
         "yaxis": "y"
        },
        {
         "hovertemplate": "Trip ID=TROL4-14-1-240920-ab-1700<br>Time=%{x}<br>Delay (minutes)=%{y}<extra></extra>",
         "legendgroup": "TROL4-14-1-240920-ab-1700",
         "line": {
          "color": "#00cc96",
          "dash": "solid"
         },
         "marker": {
          "symbol": "circle"
         },
         "mode": "lines+markers",
         "name": "TROL4-14-1-240920-ab-1700",
         "orientation": "v",
         "showlegend": true,
         "type": "scatter",
         "x": [
          "2024-09-24T16:54:11.660705+02:00",
          "2024-09-24T16:57:10.967727+02:00",
          "2024-09-24T16:58:58.079244+02:00",
          "2024-09-24T17:00:10.679060+02:00",
          "2024-09-24T17:02:10.031629+02:00",
          "2024-09-24T17:06:17.475469+02:00",
          "2024-09-24T17:07:39.181676+02:00",
          "2024-09-24T17:09:16.827912+02:00",
          "2024-09-24T17:10:57.102986+02:00",
          "2024-09-24T17:11:57.963094+02:00",
          "2024-09-24T17:14:42.282565+02:00",
          "2024-09-24T17:15:31.524167+02:00",
          "2024-09-24T17:16:24.870831+02:00",
          "2024-09-24T17:18:12.335565+02:00"
         ],
         "xaxis": "x",
         "y": [
          3.1943450833333333,
          5.18279545,
          4.9679874,
          5.177984333333334,
          5.167193816666667,
          5.291257816666667,
          5.653027933333333,
          5.2804652,
          4.951716433333333,
          4.966051566666667,
          5.704709416666667,
          5.525402783333333,
          5.41451385,
          5.20559275
         ],
         "yaxis": "y"
        },
        {
         "hovertemplate": "Trip ID=TROL4-14-1-240920-ba-1830<br>Time=%{x}<br>Delay (minutes)=%{y}<extra></extra>",
         "legendgroup": "TROL4-14-1-240920-ba-1830",
         "line": {
          "color": "#ab63fa",
          "dash": "solid"
         },
         "marker": {
          "symbol": "circle"
         },
         "mode": "lines+markers",
         "name": "TROL4-14-1-240920-ba-1830",
         "orientation": "v",
         "showlegend": true,
         "type": "scatter",
         "x": [
          "2024-09-24T17:31:54.259680+02:00",
          "2024-09-24T17:33:17.923450+02:00",
          "2024-09-24T17:34:21+02:00",
          "2024-09-24T17:37:22.228581+02:00",
          "2024-09-24T17:39:19+02:00",
          "2024-09-24T17:40:35+02:00",
          "2024-09-24T17:41:58.427715+02:00",
          "2024-09-24T17:43:08.107198+02:00",
          "2024-09-24T17:44:54+02:00",
          "2024-09-24T17:47:17.066817+02:00",
          "2024-09-24T17:48:16.487107+02:00",
          "2024-09-24T17:51:55.463408+02:00"
         ],
         "xaxis": "x",
         "y": [
          -0.095672,
          0.2987241666666667,
          -0.65,
          0.37047635,
          1.3166666666666667,
          0.5833333333333334,
          0.97379525,
          0.13511996666666667,
          -0.1,
          0.28444695,
          0.27478511666666666,
          1.9243901333333333
         ],
         "yaxis": "y"
        },
        {
         "hovertemplate": "Trip ID=TROL4-15-1-240920-ba-1740<br>Time=%{x}<br>Delay (minutes)=%{y}<extra></extra>",
         "legendgroup": "TROL4-15-1-240920-ba-1740",
         "line": {
          "color": "#FFA15A",
          "dash": "solid"
         },
         "marker": {
          "symbol": "circle"
         },
         "mode": "lines+markers",
         "name": "TROL4-15-1-240920-ba-1740",
         "orientation": "v",
         "showlegend": true,
         "type": "scatter",
         "x": [
          "2024-09-24T16:55:10.696468+02:00",
          "2024-09-24T16:56:40.115241+02:00",
          "2024-09-24T16:57:29.782050+02:00",
          "2024-09-24T17:00:09.691805+02:00",
          "2024-09-24T17:02:07+02:00",
          "2024-09-24T17:03:30.435318+02:00",
          "2024-09-24T17:04:39.631465+02:00",
          "2024-09-24T17:05:48.201851+02:00",
          "2024-09-24T17:07:16.469127+02:00",
          "2024-09-24T17:10:50.203988+02:00",
          "2024-09-24T17:11:46.715096+02:00",
          "2024-09-24T17:14:31.096957+02:00",
          "2024-09-24T17:20:10.490409+02:00",
          "2024-09-24T17:22:37.273971+02:00",
          "2024-09-24T17:24:17.346383+02:00",
          "2024-09-24T17:26:35+02:00",
          "2024-09-24T17:29:10.310722+02:00",
          "2024-09-24T17:30:34.971247+02:00",
          "2024-09-24T17:32:08.183011+02:00",
          "2024-09-24T17:34:51+02:00",
          "2024-09-24T17:37:28.681165+02:00",
          "2024-09-24T17:38:55.817774+02:00",
          "2024-09-24T17:40:26.344106+02:00",
          "2024-09-24T17:41:08.117135+02:00",
          "2024-09-24T17:42:39.310653+02:00",
          "2024-09-24T17:44:08.225290+02:00",
          "2024-09-24T17:44:56.568641+02:00",
          "2024-09-24T17:46:11.183404+02:00",
          "2024-09-24T17:47:41+02:00",
          "2024-09-24T17:48:26.202318+02:00",
          "2024-09-24T17:49:46.663575+02:00",
          "2024-09-24T17:51:37.135027+02:00"
         ],
         "xaxis": "x",
         "y": [
          10.178274466666666,
          10.66858735,
          9.4963675,
          9.161530083333334,
          10.116666666666667,
          9.5072553,
          9.660524416666666,
          8.803364183333333,
          8.27448545,
          8.836733133333333,
          8.778584933333333,
          9.518282616666667,
          9.17484015,
          10.62123285,
          10.289106383333333,
          10.583333333333334,
          10.171845366666666,
          9.582854116666667,
          9.136383516666667,
          9.85,
          9.478019416666667,
          8.930296233333333,
          9.439068433333333,
          9.135285583333333,
          8.65517755,
          9.137088166666667,
          8.942810683333333,
          8.186390066666666,
          7.683333333333334,
          7.4367053,
          7.77772625,
          7.618917116666666
         ],
         "yaxis": "y"
        },
        {
         "hovertemplate": "Trip ID=TROL4-16-1-240920-ab-1710<br>Time=%{x}<br>Delay (minutes)=%{y}<extra></extra>",
         "legendgroup": "TROL4-16-1-240920-ab-1710",
         "line": {
          "color": "#19d3f3",
          "dash": "solid"
         },
         "marker": {
          "symbol": "circle"
         },
         "mode": "lines+markers",
         "name": "TROL4-16-1-240920-ab-1710",
         "orientation": "v",
         "showlegend": true,
         "type": "scatter",
         "x": [
          "2024-09-24T16:54:33.910630+02:00",
          "2024-09-24T16:59:05.315534+02:00",
          "2024-09-24T17:01:39.396915+02:00",
          "2024-09-24T17:03:24.189537+02:00",
          "2024-09-24T17:04:32.335278+02:00",
          "2024-09-24T17:06:25.623021+02:00",
          "2024-09-24T17:08:50.252772+02:00",
          "2024-09-24T17:10:00.206796+02:00",
          "2024-09-24T17:11:52.563227+02:00",
          "2024-09-24T17:13:43.364904+02:00",
          "2024-09-24T17:14:38.478331+02:00",
          "2024-09-24T17:16:54.302870+02:00",
          "2024-09-24T17:17:33.958094+02:00",
          "2024-09-24T17:18:54.299230+02:00",
          "2024-09-24T17:20:00+02:00"
         ],
         "xaxis": "x",
         "y": [
          1.5651771666666667,
          1.0885922333333333,
          2.65661525,
          2.40315895,
          2.5389213,
          2.42705035,
          1.8375462,
          2.0034466,
          1.8760537833333333,
          1.7227484,
          1.6413055166666668,
          1.9050478333333334,
          1.5659682333333333,
          1.9049871666666667,
          1
         ],
         "yaxis": "y"
        },
        {
         "hovertemplate": "Trip ID=TROL4-16-1-240920-ba-1850<br>Time=%{x}<br>Delay (minutes)=%{y}<extra></extra>",
         "legendgroup": "TROL4-16-1-240920-ba-1850",
         "line": {
          "color": "#FF6692",
          "dash": "solid"
         },
         "marker": {
          "symbol": "circle"
         },
         "mode": "lines+markers",
         "name": "TROL4-16-1-240920-ba-1850",
         "orientation": "v",
         "showlegend": true,
         "type": "scatter",
         "x": [
          "2024-09-24T17:48:21.736183+02:00",
          "2024-09-24T17:49:39.893898+02:00",
          "2024-09-24T17:51:14.792104+02:00"
         ],
         "xaxis": "x",
         "y": [
          0.3622697166666667,
          0.6648983,
          0.24653506666666666
         ],
         "yaxis": "y"
        },
        {
         "hovertemplate": "Trip ID=TROL4-17-1-240920-ab-1720<br>Time=%{x}<br>Delay (minutes)=%{y}<extra></extra>",
         "legendgroup": "TROL4-17-1-240920-ab-1720",
         "line": {
          "color": "#B6E880",
          "dash": "solid"
         },
         "marker": {
          "symbol": "circle"
         },
         "mode": "lines+markers",
         "name": "TROL4-17-1-240920-ab-1720",
         "orientation": "v",
         "showlegend": true,
         "type": "scatter",
         "x": [
          "2024-09-24T16:52:32.562417+02:00",
          "2024-09-24T16:56:13.231621+02:00",
          "2024-09-24T16:58:28.373218+02:00",
          "2024-09-24T17:01:26.641027+02:00",
          "2024-09-24T17:04:22+02:00",
          "2024-09-24T17:05:48.670571+02:00",
          "2024-09-24T17:09:19.968871+02:00",
          "2024-09-24T17:12:08.591131+02:00",
          "2024-09-24T17:14:04.467494+02:00",
          "2024-09-24T17:15:05.900680+02:00",
          "2024-09-24T17:17:09.955989+02:00",
          "2024-09-24T17:21:06.208417+02:00",
          "2024-09-24T17:22:15.566218+02:00",
          "2024-09-24T17:23:40.989144+02:00",
          "2024-09-24T17:25:54+02:00",
          "2024-09-24T17:27:03.986502+02:00",
          "2024-09-24T17:29:19.666741+02:00",
          "2024-09-24T17:30:18.376079+02:00",
          "2024-09-24T17:31:37.459968+02:00",
          "2024-09-24T17:33:16.323419+02:00"
         ],
         "xaxis": "x",
         "y": [
          3.54270695,
          4.220527016666667,
          3.4728869666666666,
          4.444017116666667,
          4.366666666666667,
          4.811176183333333,
          4.332814516666667,
          6.143185516666667,
          6.074458233333333,
          6.098344666666667,
          6.16593315,
          7.103473616666666,
          7.259436966666667,
          6.6831524,
          6.9,
          7.0664417,
          7.327779016666667,
          7.306267983333333,
          7.6243328,
          7.272056983333333
         ],
         "yaxis": "y"
        },
        {
         "hovertemplate": "Trip ID=TROL4-17-1-240920-ba-1840<br>Time=%{x}<br>Delay (minutes)=%{y}<extra></extra>",
         "legendgroup": "TROL4-17-1-240920-ba-1840",
         "line": {
          "color": "#FF97FF",
          "dash": "solid"
         },
         "marker": {
          "symbol": "circle"
         },
         "mode": "lines+markers",
         "name": "TROL4-17-1-240920-ba-1840",
         "orientation": "v",
         "showlegend": true,
         "type": "scatter",
         "x": [
          "2024-09-24T17:37:47.977596+02:00",
          "2024-09-24T17:40:03.124408+02:00",
          "2024-09-24T17:41:27.861697+02:00",
          "2024-09-24T17:42:28.495091+02:00",
          "2024-09-24T17:44:24+02:00",
          "2024-09-24T17:45:55.490485+02:00",
          "2024-09-24T17:47:42.958565+02:00",
          "2024-09-24T17:49:08.855460+02:00",
          "2024-09-24T17:51:30.758968+02:00"
         ],
         "xaxis": "x",
         "y": [
          8.7996266,
          0.052073466666666665,
          0.46436161666666664,
          -0.5250818166666666,
          -0.6,
          -0.07515858333333333,
          -0.28402391666666665,
          0.147591,
          0.5126494666666667
         ],
         "yaxis": "y"
        },
        {
         "hovertemplate": "Trip ID=TROL4-18-1-240920-ab-1720<br>Time=%{x}<br>Delay (minutes)=%{y}<extra></extra>",
         "legendgroup": "TROL4-18-1-240920-ab-1720",
         "line": {
          "color": "#FECB52",
          "dash": "solid"
         },
         "marker": {
          "symbol": "circle"
         },
         "mode": "lines+markers",
         "name": "TROL4-18-1-240920-ab-1720",
         "orientation": "v",
         "showlegend": true,
         "type": "scatter",
         "x": [
          "2024-09-24T16:53:04.767008+02:00",
          "2024-09-24T16:55:05.771118+02:00",
          "2024-09-24T16:58:14.248371+02:00",
          "2024-09-24T17:00:52.706912+02:00",
          "2024-09-24T17:03:18.508971+02:00",
          "2024-09-24T17:05:55+02:00",
          "2024-09-24T17:07:37.211896+02:00",
          "2024-09-24T17:10:31.480868+02:00",
          "2024-09-24T17:13:33.697445+02:00",
          "2024-09-24T17:15:13.375363+02:00",
          "2024-09-24T17:16:07.281940+02:00",
          "2024-09-24T17:18:32.759461+02:00",
          "2024-09-24T17:21:48.108886+02:00",
          "2024-09-24T17:23:01.283158+02:00",
          "2024-09-24T17:24:25.824526+02:00",
          "2024-09-24T17:27:12.527450+02:00",
          "2024-09-24T17:28:36.919980+02:00",
          "2024-09-24T17:31:36.696536+02:00",
          "2024-09-24T17:32:25.182235+02:00",
          "2024-09-24T17:33:12.252966+02:00",
          "2024-09-24T17:34:42.102603+02:00"
         ],
         "xaxis": "x",
         "y": [
          -0.9205498666666667,
          -0.9038147,
          -0.76252715,
          -1.1215514666666666,
          -0.69151715,
          -1.0833333333333333,
          -0.37980173333333334,
          -1.4753188666666668,
          0.5616240833333334,
          0.22292271666666666,
          0.12136566666666666,
          0.5459910166666667,
          0.8018147666666666,
          1.0213859666666667,
          0.43040876666666666,
          1.2087908333333333,
          1.615333,
          2.611608933333333,
          2.4197039166666667,
          2.2042161,
          1.70171005
         ],
         "yaxis": "y"
        },
        {
         "hovertemplate": "Trip ID=TROL4-19-1-240920-ab-1730<br>Time=%{x}<br>Delay (minutes)=%{y}<extra></extra>",
         "legendgroup": "TROL4-19-1-240920-ab-1730",
         "line": {
          "color": "#636efa",
          "dash": "solid"
         },
         "marker": {
          "symbol": "circle"
         },
         "mode": "lines+markers",
         "name": "TROL4-19-1-240920-ab-1730",
         "orientation": "v",
         "showlegend": true,
         "type": "scatter",
         "x": [
          "2024-09-24T16:53:48.819374+02:00",
          "2024-09-24T16:56:37.870125+02:00",
          "2024-09-24T16:58:08.219423+02:00",
          "2024-09-24T17:00:08+02:00",
          "2024-09-24T17:02:06.007061+02:00",
          "2024-09-24T17:05:05.024911+02:00",
          "2024-09-24T17:07:17.303481+02:00",
          "2024-09-24T17:09:38.226455+02:00",
          "2024-09-24T17:11:44+02:00",
          "2024-09-24T17:13:04.409401+02:00",
          "2024-09-24T17:16:23.821112+02:00",
          "2024-09-24T17:18:13.128993+02:00",
          "2024-09-24T17:19:58.816351+02:00",
          "2024-09-24T17:21:16.780359+02:00",
          "2024-09-24T17:23:10.944558+02:00",
          "2024-09-24T17:26:59.181437+02:00",
          "2024-09-24T17:28:01.402711+02:00",
          "2024-09-24T17:29:34.044796+02:00",
          "2024-09-24T17:32:02.889192+02:00",
          "2024-09-24T17:33:58.673648+02:00",
          "2024-09-24T17:36:34.477361+02:00",
          "2024-09-24T17:37:11+02:00",
          "2024-09-24T17:38:26.860195+02:00",
          "2024-09-24T17:39:51+02:00"
         ],
         "xaxis": "x",
         "y": [
          -0.18634376666666666,
          -0.36883125,
          -0.8630096166666666,
          -0.8666666666666667,
          -0.8998823166666666,
          -0.9162514833333333,
          -1.71160865,
          -1.3628924166666667,
          -2.2666666666666666,
          -1.9265099833333332,
          -2.602981466666667,
          -1.78118345,
          -2.0197274833333334,
          -1.72032735,
          -1.8175907,
          -1.0136427166666666,
          -0.9766214833333333,
          -1.4325867333333333,
          -0.9518468,
          -0.022105866666666668,
          0.5746226833333333,
          0.18333333333333332,
          0.44766991666666667,
          -0.15
         ],
         "yaxis": "y"
        },
        {
         "hovertemplate": "Trip ID=TROL4-22-1-240920-ab-1800<br>Time=%{x}<br>Delay (minutes)=%{y}<extra></extra>",
         "legendgroup": "TROL4-22-1-240920-ab-1800",
         "line": {
          "color": "#EF553B",
          "dash": "solid"
         },
         "marker": {
          "symbol": "circle"
         },
         "mode": "lines+markers",
         "name": "TROL4-22-1-240920-ab-1800",
         "orientation": "v",
         "showlegend": true,
         "type": "scatter",
         "x": [
          "2024-09-24T17:00:06.556909+02:00",
          "2024-09-24T17:01:25.151399+02:00",
          "2024-09-24T17:03:02.328960+02:00",
          "2024-09-24T17:04:15.806459+02:00",
          "2024-09-24T17:05:57.961149+02:00",
          "2024-09-24T17:06:55.206919+02:00",
          "2024-09-24T17:08:17.100903+02:00",
          "2024-09-24T17:09:01.417915+02:00",
          "2024-09-24T17:12:17.192931+02:00",
          "2024-09-24T17:13:10.563731+02:00",
          "2024-09-24T17:13:44.375403+02:00",
          "2024-09-24T17:14:51.110818+02:00",
          "2024-09-24T17:16:41.466813+02:00",
          "2024-09-24T17:18:54.682727+02:00",
          "2024-09-24T17:20:08.797881+02:00",
          "2024-09-24T17:22:58.086374+02:00",
          "2024-09-24T17:24:14.393869+02:00",
          "2024-09-24T17:25:24.796881+02:00",
          "2024-09-24T17:27:02.329664+02:00",
          "2024-09-24T17:29:41.102561+02:00",
          "2024-09-24T17:33:48.069279+02:00",
          "2024-09-24T17:36:28.520791+02:00",
          "2024-09-24T17:38:05.178810+02:00",
          "2024-09-24T17:40:22.850680+02:00",
          "2024-09-24T17:43:49.830390+02:00",
          "2024-09-24T17:45:20.481650+02:00",
          "2024-09-24T17:46:23.585259+02:00",
          "2024-09-24T17:48:18.270202+02:00",
          "2024-09-24T17:51:52.827298+02:00"
         ],
         "xaxis": "x",
         "y": [
          3.109281816666667,
          3.4191899833333332,
          3.038816,
          3.263440983333333,
          2.96601915,
          2.9201153166666667,
          3.28501505,
          2.0236319166666665,
          3.28654885,
          3.1760621833333333,
          2.73959005,
          2.851846966666667,
          2.69111355,
          2.9113787833333333,
          2.14663135,
          1.9681062333333332,
          1.2398978166666668,
          0.41328135,
          0.038827733333333336,
          -0.31495731666666665,
          -1.19884535,
          -1.5246534833333334,
          -0.9136865,
          -2.6191553333333335,
          -0.1694935,
          -0.6586391666666667,
          -0.60691235,
          -0.6954966333333333,
          -0.11954503333333333
         ],
         "yaxis": "y"
        }
       ],
       "layout": {
        "legend": {
         "title": {
          "text": "Trip ID"
         },
         "tracegroupgap": 0
        },
        "margin": {
         "t": 60
        },
        "template": {
         "data": {
          "bar": [
           {
            "error_x": {
             "color": "#2a3f5f"
            },
            "error_y": {
             "color": "#2a3f5f"
            },
            "marker": {
             "line": {
              "color": "white",
              "width": 0.5
             },
             "pattern": {
              "fillmode": "overlay",
              "size": 10,
              "solidity": 0.2
             }
            },
            "type": "bar"
           }
          ],
          "barpolar": [
           {
            "marker": {
             "line": {
              "color": "white",
              "width": 0.5
             },
             "pattern": {
              "fillmode": "overlay",
              "size": 10,
              "solidity": 0.2
             }
            },
            "type": "barpolar"
           }
          ],
          "carpet": [
           {
            "aaxis": {
             "endlinecolor": "#2a3f5f",
             "gridcolor": "#C8D4E3",
             "linecolor": "#C8D4E3",
             "minorgridcolor": "#C8D4E3",
             "startlinecolor": "#2a3f5f"
            },
            "baxis": {
             "endlinecolor": "#2a3f5f",
             "gridcolor": "#C8D4E3",
             "linecolor": "#C8D4E3",
             "minorgridcolor": "#C8D4E3",
             "startlinecolor": "#2a3f5f"
            },
            "type": "carpet"
           }
          ],
          "choropleth": [
           {
            "colorbar": {
             "outlinewidth": 0,
             "ticks": ""
            },
            "type": "choropleth"
           }
          ],
          "contour": [
           {
            "colorbar": {
             "outlinewidth": 0,
             "ticks": ""
            },
            "colorscale": [
             [
              0,
              "#0d0887"
             ],
             [
              0.1111111111111111,
              "#46039f"
             ],
             [
              0.2222222222222222,
              "#7201a8"
             ],
             [
              0.3333333333333333,
              "#9c179e"
             ],
             [
              0.4444444444444444,
              "#bd3786"
             ],
             [
              0.5555555555555556,
              "#d8576b"
             ],
             [
              0.6666666666666666,
              "#ed7953"
             ],
             [
              0.7777777777777778,
              "#fb9f3a"
             ],
             [
              0.8888888888888888,
              "#fdca26"
             ],
             [
              1,
              "#f0f921"
             ]
            ],
            "type": "contour"
           }
          ],
          "contourcarpet": [
           {
            "colorbar": {
             "outlinewidth": 0,
             "ticks": ""
            },
            "type": "contourcarpet"
           }
          ],
          "heatmap": [
           {
            "colorbar": {
             "outlinewidth": 0,
             "ticks": ""
            },
            "colorscale": [
             [
              0,
              "#0d0887"
             ],
             [
              0.1111111111111111,
              "#46039f"
             ],
             [
              0.2222222222222222,
              "#7201a8"
             ],
             [
              0.3333333333333333,
              "#9c179e"
             ],
             [
              0.4444444444444444,
              "#bd3786"
             ],
             [
              0.5555555555555556,
              "#d8576b"
             ],
             [
              0.6666666666666666,
              "#ed7953"
             ],
             [
              0.7777777777777778,
              "#fb9f3a"
             ],
             [
              0.8888888888888888,
              "#fdca26"
             ],
             [
              1,
              "#f0f921"
             ]
            ],
            "type": "heatmap"
           }
          ],
          "heatmapgl": [
           {
            "colorbar": {
             "outlinewidth": 0,
             "ticks": ""
            },
            "colorscale": [
             [
              0,
              "#0d0887"
             ],
             [
              0.1111111111111111,
              "#46039f"
             ],
             [
              0.2222222222222222,
              "#7201a8"
             ],
             [
              0.3333333333333333,
              "#9c179e"
             ],
             [
              0.4444444444444444,
              "#bd3786"
             ],
             [
              0.5555555555555556,
              "#d8576b"
             ],
             [
              0.6666666666666666,
              "#ed7953"
             ],
             [
              0.7777777777777778,
              "#fb9f3a"
             ],
             [
              0.8888888888888888,
              "#fdca26"
             ],
             [
              1,
              "#f0f921"
             ]
            ],
            "type": "heatmapgl"
           }
          ],
          "histogram": [
           {
            "marker": {
             "pattern": {
              "fillmode": "overlay",
              "size": 10,
              "solidity": 0.2
             }
            },
            "type": "histogram"
           }
          ],
          "histogram2d": [
           {
            "colorbar": {
             "outlinewidth": 0,
             "ticks": ""
            },
            "colorscale": [
             [
              0,
              "#0d0887"
             ],
             [
              0.1111111111111111,
              "#46039f"
             ],
             [
              0.2222222222222222,
              "#7201a8"
             ],
             [
              0.3333333333333333,
              "#9c179e"
             ],
             [
              0.4444444444444444,
              "#bd3786"
             ],
             [
              0.5555555555555556,
              "#d8576b"
             ],
             [
              0.6666666666666666,
              "#ed7953"
             ],
             [
              0.7777777777777778,
              "#fb9f3a"
             ],
             [
              0.8888888888888888,
              "#fdca26"
             ],
             [
              1,
              "#f0f921"
             ]
            ],
            "type": "histogram2d"
           }
          ],
          "histogram2dcontour": [
           {
            "colorbar": {
             "outlinewidth": 0,
             "ticks": ""
            },
            "colorscale": [
             [
              0,
              "#0d0887"
             ],
             [
              0.1111111111111111,
              "#46039f"
             ],
             [
              0.2222222222222222,
              "#7201a8"
             ],
             [
              0.3333333333333333,
              "#9c179e"
             ],
             [
              0.4444444444444444,
              "#bd3786"
             ],
             [
              0.5555555555555556,
              "#d8576b"
             ],
             [
              0.6666666666666666,
              "#ed7953"
             ],
             [
              0.7777777777777778,
              "#fb9f3a"
             ],
             [
              0.8888888888888888,
              "#fdca26"
             ],
             [
              1,
              "#f0f921"
             ]
            ],
            "type": "histogram2dcontour"
           }
          ],
          "mesh3d": [
           {
            "colorbar": {
             "outlinewidth": 0,
             "ticks": ""
            },
            "type": "mesh3d"
           }
          ],
          "parcoords": [
           {
            "line": {
             "colorbar": {
              "outlinewidth": 0,
              "ticks": ""
             }
            },
            "type": "parcoords"
           }
          ],
          "pie": [
           {
            "automargin": true,
            "type": "pie"
           }
          ],
          "scatter": [
           {
            "fillpattern": {
             "fillmode": "overlay",
             "size": 10,
             "solidity": 0.2
            },
            "type": "scatter"
           }
          ],
          "scatter3d": [
           {
            "line": {
             "colorbar": {
              "outlinewidth": 0,
              "ticks": ""
             }
            },
            "marker": {
             "colorbar": {
              "outlinewidth": 0,
              "ticks": ""
             }
            },
            "type": "scatter3d"
           }
          ],
          "scattercarpet": [
           {
            "marker": {
             "colorbar": {
              "outlinewidth": 0,
              "ticks": ""
             }
            },
            "type": "scattercarpet"
           }
          ],
          "scattergeo": [
           {
            "marker": {
             "colorbar": {
              "outlinewidth": 0,
              "ticks": ""
             }
            },
            "type": "scattergeo"
           }
          ],
          "scattergl": [
           {
            "marker": {
             "colorbar": {
              "outlinewidth": 0,
              "ticks": ""
             }
            },
            "type": "scattergl"
           }
          ],
          "scattermapbox": [
           {
            "marker": {
             "colorbar": {
              "outlinewidth": 0,
              "ticks": ""
             }
            },
            "type": "scattermapbox"
           }
          ],
          "scatterpolar": [
           {
            "marker": {
             "colorbar": {
              "outlinewidth": 0,
              "ticks": ""
             }
            },
            "type": "scatterpolar"
           }
          ],
          "scatterpolargl": [
           {
            "marker": {
             "colorbar": {
              "outlinewidth": 0,
              "ticks": ""
             }
            },
            "type": "scatterpolargl"
           }
          ],
          "scatterternary": [
           {
            "marker": {
             "colorbar": {
              "outlinewidth": 0,
              "ticks": ""
             }
            },
            "type": "scatterternary"
           }
          ],
          "surface": [
           {
            "colorbar": {
             "outlinewidth": 0,
             "ticks": ""
            },
            "colorscale": [
             [
              0,
              "#0d0887"
             ],
             [
              0.1111111111111111,
              "#46039f"
             ],
             [
              0.2222222222222222,
              "#7201a8"
             ],
             [
              0.3333333333333333,
              "#9c179e"
             ],
             [
              0.4444444444444444,
              "#bd3786"
             ],
             [
              0.5555555555555556,
              "#d8576b"
             ],
             [
              0.6666666666666666,
              "#ed7953"
             ],
             [
              0.7777777777777778,
              "#fb9f3a"
             ],
             [
              0.8888888888888888,
              "#fdca26"
             ],
             [
              1,
              "#f0f921"
             ]
            ],
            "type": "surface"
           }
          ],
          "table": [
           {
            "cells": {
             "fill": {
              "color": "#EBF0F8"
             },
             "line": {
              "color": "white"
             }
            },
            "header": {
             "fill": {
              "color": "#C8D4E3"
             },
             "line": {
              "color": "white"
             }
            },
            "type": "table"
           }
          ]
         },
         "layout": {
          "annotationdefaults": {
           "arrowcolor": "#2a3f5f",
           "arrowhead": 0,
           "arrowwidth": 1
          },
          "autotypenumbers": "strict",
          "coloraxis": {
           "colorbar": {
            "outlinewidth": 0,
            "ticks": ""
           }
          },
          "colorscale": {
           "diverging": [
            [
             0,
             "#8e0152"
            ],
            [
             0.1,
             "#c51b7d"
            ],
            [
             0.2,
             "#de77ae"
            ],
            [
             0.3,
             "#f1b6da"
            ],
            [
             0.4,
             "#fde0ef"
            ],
            [
             0.5,
             "#f7f7f7"
            ],
            [
             0.6,
             "#e6f5d0"
            ],
            [
             0.7,
             "#b8e186"
            ],
            [
             0.8,
             "#7fbc41"
            ],
            [
             0.9,
             "#4d9221"
            ],
            [
             1,
             "#276419"
            ]
           ],
           "sequential": [
            [
             0,
             "#0d0887"
            ],
            [
             0.1111111111111111,
             "#46039f"
            ],
            [
             0.2222222222222222,
             "#7201a8"
            ],
            [
             0.3333333333333333,
             "#9c179e"
            ],
            [
             0.4444444444444444,
             "#bd3786"
            ],
            [
             0.5555555555555556,
             "#d8576b"
            ],
            [
             0.6666666666666666,
             "#ed7953"
            ],
            [
             0.7777777777777778,
             "#fb9f3a"
            ],
            [
             0.8888888888888888,
             "#fdca26"
            ],
            [
             1,
             "#f0f921"
            ]
           ],
           "sequentialminus": [
            [
             0,
             "#0d0887"
            ],
            [
             0.1111111111111111,
             "#46039f"
            ],
            [
             0.2222222222222222,
             "#7201a8"
            ],
            [
             0.3333333333333333,
             "#9c179e"
            ],
            [
             0.4444444444444444,
             "#bd3786"
            ],
            [
             0.5555555555555556,
             "#d8576b"
            ],
            [
             0.6666666666666666,
             "#ed7953"
            ],
            [
             0.7777777777777778,
             "#fb9f3a"
            ],
            [
             0.8888888888888888,
             "#fdca26"
            ],
            [
             1,
             "#f0f921"
            ]
           ]
          },
          "colorway": [
           "#636efa",
           "#EF553B",
           "#00cc96",
           "#ab63fa",
           "#FFA15A",
           "#19d3f3",
           "#FF6692",
           "#B6E880",
           "#FF97FF",
           "#FECB52"
          ],
          "font": {
           "color": "#2a3f5f"
          },
          "geo": {
           "bgcolor": "white",
           "lakecolor": "white",
           "landcolor": "white",
           "showlakes": true,
           "showland": true,
           "subunitcolor": "#C8D4E3"
          },
          "hoverlabel": {
           "align": "left"
          },
          "hovermode": "closest",
          "mapbox": {
           "style": "light"
          },
          "paper_bgcolor": "white",
          "plot_bgcolor": "white",
          "polar": {
           "angularaxis": {
            "gridcolor": "#EBF0F8",
            "linecolor": "#EBF0F8",
            "ticks": ""
           },
           "bgcolor": "white",
           "radialaxis": {
            "gridcolor": "#EBF0F8",
            "linecolor": "#EBF0F8",
            "ticks": ""
           }
          },
          "scene": {
           "xaxis": {
            "backgroundcolor": "white",
            "gridcolor": "#DFE8F3",
            "gridwidth": 2,
            "linecolor": "#EBF0F8",
            "showbackground": true,
            "ticks": "",
            "zerolinecolor": "#EBF0F8"
           },
           "yaxis": {
            "backgroundcolor": "white",
            "gridcolor": "#DFE8F3",
            "gridwidth": 2,
            "linecolor": "#EBF0F8",
            "showbackground": true,
            "ticks": "",
            "zerolinecolor": "#EBF0F8"
           },
           "zaxis": {
            "backgroundcolor": "white",
            "gridcolor": "#DFE8F3",
            "gridwidth": 2,
            "linecolor": "#EBF0F8",
            "showbackground": true,
            "ticks": "",
            "zerolinecolor": "#EBF0F8"
           }
          },
          "shapedefaults": {
           "line": {
            "color": "#2a3f5f"
           }
          },
          "ternary": {
           "aaxis": {
            "gridcolor": "#DFE8F3",
            "linecolor": "#A2B1C6",
            "ticks": ""
           },
           "baxis": {
            "gridcolor": "#DFE8F3",
            "linecolor": "#A2B1C6",
            "ticks": ""
           },
           "bgcolor": "white",
           "caxis": {
            "gridcolor": "#DFE8F3",
            "linecolor": "#A2B1C6",
            "ticks": ""
           }
          },
          "title": {
           "x": 0.05
          },
          "xaxis": {
           "automargin": true,
           "gridcolor": "#EBF0F8",
           "linecolor": "#EBF0F8",
           "ticks": "",
           "title": {
            "standoff": 15
           },
           "zerolinecolor": "#EBF0F8",
           "zerolinewidth": 2
          },
          "yaxis": {
           "automargin": true,
           "gridcolor": "#EBF0F8",
           "linecolor": "#EBF0F8",
           "ticks": "",
           "title": {
            "standoff": 15
           },
           "zerolinecolor": "#EBF0F8",
           "zerolinewidth": 2
          }
         }
        },
        "xaxis": {
         "anchor": "y",
         "domain": [
          0,
          1
         ],
         "tickformat": "%H:%M:%S",
         "title": {
          "text": "Time"
         }
        },
        "yaxis": {
         "anchor": "x",
         "domain": [
          0,
          1
         ],
         "title": {
          "text": "Delay (minutes)"
         }
        }
       }
      },
      "text/html": [
       "<div>                            <div id=\"7949e513-d965-42d7-a86c-82c8cc7831af\" class=\"plotly-graph-div\" style=\"height:525px; width:100%;\"></div>            <script type=\"text/javascript\">                require([\"plotly\"], function(Plotly) {                    window.PLOTLYENV=window.PLOTLYENV || {};                                    if (document.getElementById(\"7949e513-d965-42d7-a86c-82c8cc7831af\")) {                    Plotly.newPlot(                        \"7949e513-d965-42d7-a86c-82c8cc7831af\",                        [{\"hovertemplate\":\"Trip ID=TROL4-01-1-240920-ab-1800\\u003cbr\\u003eTime=%{x}\\u003cbr\\u003eDelay (minutes)=%{y}\\u003cextra\\u003e\\u003c\\u002fextra\\u003e\",\"legendgroup\":\"TROL4-01-1-240920-ab-1800\",\"line\":{\"color\":\"#636efa\",\"dash\":\"solid\"},\"marker\":{\"symbol\":\"circle\"},\"mode\":\"lines+markers\",\"name\":\"TROL4-01-1-240920-ab-1800\",\"orientation\":\"v\",\"showlegend\":true,\"x\":[\"2024-09-24T17:02:54.503329+02:00\",\"2024-09-24T17:04:01.781176+02:00\",\"2024-09-24T17:05:36.762695+02:00\",\"2024-09-24T17:07:15.452264+02:00\",\"2024-09-24T17:08:19.693517+02:00\",\"2024-09-24T17:10:13.670416+02:00\",\"2024-09-24T17:11:14.083237+02:00\",\"2024-09-24T17:12:21.331021+02:00\",\"2024-09-24T17:13:21.637233+02:00\",\"2024-09-24T17:16:24.973368+02:00\",\"2024-09-24T17:17:39.387443+02:00\",\"2024-09-24T17:18:11.389865+02:00\",\"2024-09-24T17:19:13.785964+02:00\",\"2024-09-24T17:20:59.749534+02:00\",\"2024-09-24T17:23:13.788034+02:00\",\"2024-09-24T17:24:52.155175+02:00\",\"2024-09-24T17:28:32.279049+02:00\",\"2024-09-24T17:29:45.186966+02:00\",\"2024-09-24T17:31:39+02:00\",\"2024-09-24T17:34:25.073199+02:00\",\"2024-09-24T17:37:04.394285+02:00\",\"2024-09-24T17:38:57+02:00\",\"2024-09-24T17:42:46.166551+02:00\",\"2024-09-24T17:44:56.361160+02:00\",\"2024-09-24T17:45:39.930082+02:00\",\"2024-09-24T17:48:17.656038+02:00\",\"2024-09-24T17:52:02.163657+02:00\"],\"xaxis\":\"x\",\"y\":[9.908388816666667,-0.9703137333333334,-0.3872884166666667,-0.7424622666666667,-0.6717747166666667,-0.7721597333333333,-0.7652793833333333,-0.6444829833333333,-1.63937945,-0.5837772,-0.3435426166666667,-0.8101689166666667,-0.7702339333333333,-1.0041744333333333,-0.7701994333333333,-1.1307470833333333,-0.46201585,-1.2468839,-1.35,-0.58211335,-0.9267619166666666,-2.05,-0.23055748333333334,-1.0606473333333333,-1.3344986333333333,-2.7057327,0.03606095],\"yaxis\":\"y\",\"type\":\"scatter\"},{\"hovertemplate\":\"Trip ID=TROL4-01-1-240920-ba-1640\\u003cbr\\u003eTime=%{x}\\u003cbr\\u003eDelay (minutes)=%{y}\\u003cextra\\u003e\\u003c\\u002fextra\\u003e\",\"legendgroup\":\"TROL4-01-1-240920-ba-1640\",\"line\":{\"color\":\"#EF553B\",\"dash\":\"solid\"},\"marker\":{\"symbol\":\"circle\"},\"mode\":\"lines+markers\",\"name\":\"TROL4-01-1-240920-ba-1640\",\"orientation\":\"v\",\"showlegend\":true,\"x\":[\"2024-09-24T16:52:41+02:00\"],\"xaxis\":\"x\",\"y\":[2.683333333333333],\"yaxis\":\"y\",\"type\":\"scatter\"},{\"hovertemplate\":\"Trip ID=TROL4-02-1-240920-ab-1810\\u003cbr\\u003eTime=%{x}\\u003cbr\\u003eDelay (minutes)=%{y}\\u003cextra\\u003e\\u003c\\u002fextra\\u003e\",\"legendgroup\":\"TROL4-02-1-240920-ab-1810\",\"line\":{\"color\":\"#00cc96\",\"dash\":\"solid\"},\"marker\":{\"symbol\":\"circle\"},\"mode\":\"lines+markers\",\"name\":\"TROL4-02-1-240920-ab-1810\",\"orientation\":\"v\",\"showlegend\":true,\"x\":[\"2024-09-24T17:11:03.068299+02:00\",\"2024-09-24T17:12:50.357165+02:00\",\"2024-09-24T17:14:07.808175+02:00\",\"2024-09-24T17:16:01.958676+02:00\",\"2024-09-24T17:17:06.034744+02:00\",\"2024-09-24T17:20:30.801779+02:00\",\"2024-09-24T17:21:30.206086+02:00\",\"2024-09-24T17:22:41.767691+02:00\",\"2024-09-24T17:23:35.495654+02:00\",\"2024-09-24T17:26:46.627541+02:00\",\"2024-09-24T17:28:40.621312+02:00\",\"2024-09-24T17:29:31.628478+02:00\",\"2024-09-24T17:31:03.346709+02:00\",\"2024-09-24T17:32:21.926562+02:00\",\"2024-09-24T17:33:50.184948+02:00\",\"2024-09-24T17:35:24.111585+02:00\",\"2024-09-24T17:37:53+02:00\",\"2024-09-24T17:39:09.445281+02:00\",\"2024-09-24T17:40:49.747102+02:00\",\"2024-09-24T17:43:01.063267+02:00\",\"2024-09-24T17:45:30+02:00\",\"2024-09-24T17:48:20.312071+02:00\",\"2024-09-24T17:51:38.381570+02:00\"],\"xaxis\":\"x\",\"y\":[10.051138316666666,-0.16071391666666668,0.13013625,0.0326446,0.10057906666666666,1.5133629833333333,1.5034347666666668,1.6961281833333333,0.5915942333333334,1.7771256833333333,2.6770218666666667,2.5271413,3.0557784833333335,2.3654427,1.8364158,1.40185975,0.8833333333333333,0.15742135,-0.17088163333333334,0.01772111666666667,-0.5,-0.6614654833333333,0.6396928333333334],\"yaxis\":\"y\",\"type\":\"scatter\"},{\"hovertemplate\":\"Trip ID=TROL4-02-1-240920-ba-1650\\u003cbr\\u003eTime=%{x}\\u003cbr\\u003eDelay (minutes)=%{y}\\u003cextra\\u003e\\u003c\\u002fextra\\u003e\",\"legendgroup\":\"TROL4-02-1-240920-ba-1650\",\"line\":{\"color\":\"#ab63fa\",\"dash\":\"solid\"},\"marker\":{\"symbol\":\"circle\"},\"mode\":\"lines+markers\",\"name\":\"TROL4-02-1-240920-ba-1650\",\"orientation\":\"v\",\"showlegend\":true,\"x\":[\"2024-09-24T16:52:50.489814+02:00\",\"2024-09-24T16:55:37+02:00\",\"2024-09-24T16:57:57+02:00\",\"2024-09-24T16:59:15.335624+02:00\",\"2024-09-24T17:00:51.291010+02:00\",\"2024-09-24T17:02:03.784344+02:00\"],\"xaxis\":\"x\",\"y\":[2.8414969,3.6166666666666667,3.95,4.255593733333333,3.8548501666666666,4.0630724],\"yaxis\":\"y\",\"type\":\"scatter\"},{\"hovertemplate\":\"Trip ID=TROL4-03-1-240920-ab-1820\\u003cbr\\u003eTime=%{x}\\u003cbr\\u003eDelay (minutes)=%{y}\\u003cextra\\u003e\\u003c\\u002fextra\\u003e\",\"legendgroup\":\"TROL4-03-1-240920-ab-1820\",\"line\":{\"color\":\"#FFA15A\",\"dash\":\"solid\"},\"marker\":{\"symbol\":\"circle\"},\"mode\":\"lines+markers\",\"name\":\"TROL4-03-1-240920-ab-1820\",\"orientation\":\"v\",\"showlegend\":true,\"x\":[\"2024-09-24T17:18:28.633466+02:00\",\"2024-09-24T17:20:52.138846+02:00\",\"2024-09-24T17:22:17.981552+02:00\",\"2024-09-24T17:24:04.865721+02:00\",\"2024-09-24T17:25:32.733646+02:00\",\"2024-09-24T17:26:59.611042+02:00\",\"2024-09-24T17:29:15.596944+02:00\",\"2024-09-24T17:29:57.191328+02:00\",\"2024-09-24T17:33:00.791280+02:00\",\"2024-09-24T17:34:10.246546+02:00\",\"2024-09-24T17:34:48+02:00\",\"2024-09-24T17:35:45.380099+02:00\",\"2024-09-24T17:37:39+02:00\",\"2024-09-24T17:39:51.042644+02:00\",\"2024-09-24T17:41:02.843168+02:00\",\"2024-09-24T17:43:48.147602+02:00\",\"2024-09-24T17:46:02.585861+02:00\",\"2024-09-24T17:47:42+02:00\",\"2024-09-24T17:49:58.588087+02:00\"],\"xaxis\":\"x\",\"y\":[9.477224433333333,-0.13101923333333335,0.29969253333333334,0.08109535,0.5455607666666666,-0.006482633333333333,0.2599490666666667,-1.0468112,0.013188,0.17077576666666666,-0.2,-0.24366501666666668,-0.35,-0.14928926666666667,-0.9526138666666667,-1.1975399666666666,-0.9569023166666667,-1.3,-1.0235318833333333],\"yaxis\":\"y\",\"type\":\"scatter\"},{\"hovertemplate\":\"Trip ID=TROL4-03-1-240920-ba-1700\\u003cbr\\u003eTime=%{x}\\u003cbr\\u003eDelay (minutes)=%{y}\\u003cextra\\u003e\\u003c\\u002fextra\\u003e\",\"legendgroup\":\"TROL4-03-1-240920-ba-1700\",\"line\":{\"color\":\"#19d3f3\",\"dash\":\"solid\"},\"marker\":{\"symbol\":\"circle\"},\"mode\":\"lines+markers\",\"name\":\"TROL4-03-1-240920-ba-1700\",\"orientation\":\"v\",\"showlegend\":true,\"x\":[\"2024-09-24T16:52:42.270669+02:00\",\"2024-09-24T16:55:17.749125+02:00\",\"2024-09-24T16:57:11.280685+02:00\",\"2024-09-24T16:58:52.523902+02:00\",\"2024-09-24T17:01:52+02:00\",\"2024-09-24T17:03:55.014752+02:00\",\"2024-09-24T17:05:10.642872+02:00\",\"2024-09-24T17:08:04.082944+02:00\"],\"xaxis\":\"x\",\"y\":[-1.29548885,-0.70418125,0.18801141666666665,0.8753983666666667,1.8666666666666667,1.9169125333333332,2.1773812,2.0680490666666667],\"yaxis\":\"y\",\"type\":\"scatter\"},{\"hovertemplate\":\"Trip ID=TROL4-04-1-240920-ab-1830\\u003cbr\\u003eTime=%{x}\\u003cbr\\u003eDelay (minutes)=%{y}\\u003cextra\\u003e\\u003c\\u002fextra\\u003e\",\"legendgroup\":\"TROL4-04-1-240920-ab-1830\",\"line\":{\"color\":\"#FF6692\",\"dash\":\"solid\"},\"marker\":{\"symbol\":\"circle\"},\"mode\":\"lines+markers\",\"name\":\"TROL4-04-1-240920-ab-1830\",\"orientation\":\"v\",\"showlegend\":true,\"x\":[\"2024-09-24T17:27:29.535650+02:00\",\"2024-09-24T17:29:26.266747+02:00\",\"2024-09-24T17:30:51.799701+02:00\",\"2024-09-24T17:32:30.403946+02:00\",\"2024-09-24T17:33:36.377079+02:00\",\"2024-09-24T17:37:49.260765+02:00\",\"2024-09-24T17:39:17.687782+02:00\",\"2024-09-24T17:40:57.286217+02:00\",\"2024-09-24T17:41:56.291050+02:00\",\"2024-09-24T17:43:00.162290+02:00\",\"2024-09-24T17:48:05.815577+02:00\"],\"xaxis\":\"x\",\"y\":[10.492260833333333,0.4377791166666667,0.86332835,0.5067324333333333,0.60628465,-1.17898725,-1.7052036333333334,-1.0452297166666666,-1.0618158333333334,-0.9972951666666666,0.09692628333333334],\"yaxis\":\"y\",\"type\":\"scatter\"},{\"hovertemplate\":\"Trip ID=TROL4-04-1-240920-ba-1710\\u003cbr\\u003eTime=%{x}\\u003cbr\\u003eDelay (minutes)=%{y}\\u003cextra\\u003e\\u003c\\u002fextra\\u003e\",\"legendgroup\":\"TROL4-04-1-240920-ba-1710\",\"line\":{\"color\":\"#B6E880\",\"dash\":\"solid\"},\"marker\":{\"symbol\":\"circle\"},\"mode\":\"lines+markers\",\"name\":\"TROL4-04-1-240920-ba-1710\",\"orientation\":\"v\",\"showlegend\":true,\"x\":[\"2024-09-24T16:54:46.041082+02:00\",\"2024-09-24T16:55:33.955070+02:00\",\"2024-09-24T16:56:10.346072+02:00\",\"2024-09-24T16:58:34.253070+02:00\",\"2024-09-24T17:00:29.206031+02:00\",\"2024-09-24T17:01:35.079361+02:00\",\"2024-09-24T17:02:51.696130+02:00\",\"2024-09-24T17:04:11.180837+02:00\",\"2024-09-24T17:05:27.456996+02:00\",\"2024-09-24T17:08:25.457704+02:00\",\"2024-09-24T17:12:25.006048+02:00\",\"2024-09-24T17:14:50.413949+02:00\",\"2024-09-24T17:15:55.983606+02:00\"],\"xaxis\":\"x\",\"y\":[0.7673513666666667,0.5659178333333333,0.17243453333333333,0.5708845,1.4867671833333334,1.5846560166666668,0.8616021666666667,0.18634728333333334,0.4576166,2.4242950666666667,2.4167674666666668,1.8402324833333332,1.9330601],\"yaxis\":\"y\",\"type\":\"scatter\"},{\"hovertemplate\":\"Trip ID=TROL4-05-1-240920-ab-1840\\u003cbr\\u003eTime=%{x}\\u003cbr\\u003eDelay (minutes)=%{y}\\u003cextra\\u003e\\u003c\\u002fextra\\u003e\",\"legendgroup\":\"TROL4-05-1-240920-ab-1840\",\"line\":{\"color\":\"#FF97FF\",\"dash\":\"solid\"},\"marker\":{\"symbol\":\"circle\"},\"mode\":\"lines+markers\",\"name\":\"TROL4-05-1-240920-ab-1840\",\"orientation\":\"v\",\"showlegend\":true,\"x\":[\"2024-09-24T17:34:16.591209+02:00\",\"2024-09-24T17:36:49.196705+02:00\",\"2024-09-24T17:38:51.067749+02:00\",\"2024-09-24T17:40:56.254503+02:00\",\"2024-09-24T17:42:29.682840+02:00\",\"2024-09-24T17:45:06.455233+02:00\",\"2024-09-24T17:46:13.601609+02:00\",\"2024-09-24T17:47:28.436599+02:00\",\"2024-09-24T17:48:16.401844+02:00\",\"2024-09-24T17:49:39.977969+02:00\",\"2024-09-24T17:51:16.719931+02:00\"],\"xaxis\":\"x\",\"y\":[9.27652015,-0.18005491666666668,0.85112915,0.93757505,1.494714,2.1075872166666665,2.2266934833333334,2.473943316666667,1.2733640666666668,0.6662994833333333,1.2786655166666667],\"yaxis\":\"y\",\"type\":\"scatter\"},{\"hovertemplate\":\"Trip ID=TROL4-05-1-240920-ba-1720\\u003cbr\\u003eTime=%{x}\\u003cbr\\u003eDelay (minutes)=%{y}\\u003cextra\\u003e\\u003c\\u002fextra\\u003e\",\"legendgroup\":\"TROL4-05-1-240920-ba-1720\",\"line\":{\"color\":\"#FECB52\",\"dash\":\"solid\"},\"marker\":{\"symbol\":\"circle\"},\"mode\":\"lines+markers\",\"name\":\"TROL4-05-1-240920-ba-1720\",\"orientation\":\"v\",\"showlegend\":true,\"x\":[\"2024-09-24T16:53:06.882690+02:00\",\"2024-09-24T16:54:42.896759+02:00\",\"2024-09-24T16:59:03.138910+02:00\",\"2024-09-24T17:01:21.256110+02:00\",\"2024-09-24T17:03:19.409004+02:00\",\"2024-09-24T17:04:01.715989+02:00\",\"2024-09-24T17:05:12.345080+02:00\",\"2024-09-24T17:06:39.122614+02:00\",\"2024-09-24T17:07:42.040620+02:00\",\"2024-09-24T17:09:04.834590+02:00\",\"2024-09-24T17:10:12+02:00\",\"2024-09-24T17:11:08.268648+02:00\",\"2024-09-24T17:11:56.659770+02:00\",\"2024-09-24T17:13:32.046472+02:00\",\"2024-09-24T17:16:15.818982+02:00\",\"2024-09-24T17:18:26.589591+02:00\",\"2024-09-24T17:19:37.381487+02:00\",\"2024-09-24T17:20:59.379275+02:00\",\"2024-09-24T17:22:03.375978+02:00\"],\"xaxis\":\"x\",\"y\":[0.1147115,-0.2850540166666667,2.052315166666667,1.3542685,1.3234834,1.0285998166666668,1.2057513333333334,0.6520435666666666,0.700677,1.0805765,0.2,-0.8621892,-1.0556705,-0.46589213333333335,0.2636497,0.44315985,0.6230247833333333,-0.010345416666666666,0.0562663],\"yaxis\":\"y\",\"type\":\"scatter\"},{\"hovertemplate\":\"Trip ID=TROL4-06-1-240920-ab-1840\\u003cbr\\u003eTime=%{x}\\u003cbr\\u003eDelay (minutes)=%{y}\\u003cextra\\u003e\\u003c\\u002fextra\\u003e\",\"legendgroup\":\"TROL4-06-1-240920-ab-1840\",\"line\":{\"color\":\"#636efa\",\"dash\":\"solid\"},\"marker\":{\"symbol\":\"circle\"},\"mode\":\"lines+markers\",\"name\":\"TROL4-06-1-240920-ab-1840\",\"orientation\":\"v\",\"showlegend\":true,\"x\":[\"2024-09-24T17:43:35.938450+02:00\",\"2024-09-24T17:46:37.039980+02:00\",\"2024-09-24T17:47:48.902958+02:00\",\"2024-09-24T17:49:32.513639+02:00\",\"2024-09-24T17:50:47.411809+02:00\"],\"xaxis\":\"x\",\"y\":[11.598974166666666,0.617333,0.8150493,0.5418939833333334,0.7901968166666666],\"yaxis\":\"y\",\"type\":\"scatter\"},{\"hovertemplate\":\"Trip ID=TROL4-06-1-240920-ba-1720\\u003cbr\\u003eTime=%{x}\\u003cbr\\u003eDelay (minutes)=%{y}\\u003cextra\\u003e\\u003c\\u002fextra\\u003e\",\"legendgroup\":\"TROL4-06-1-240920-ba-1720\",\"line\":{\"color\":\"#EF553B\",\"dash\":\"solid\"},\"marker\":{\"symbol\":\"circle\"},\"mode\":\"lines+markers\",\"name\":\"TROL4-06-1-240920-ba-1720\",\"orientation\":\"v\",\"showlegend\":true,\"x\":[\"2024-09-24T16:53:00.355448+02:00\",\"2024-09-24T16:54:04.338121+02:00\",\"2024-09-24T16:56:10.506422+02:00\",\"2024-09-24T16:59:35.891217+02:00\",\"2024-09-24T17:01:13.307639+02:00\",\"2024-09-24T17:03:39.908578+02:00\",\"2024-09-24T17:05:53.025362+02:00\",\"2024-09-24T17:09:17.918146+02:00\",\"2024-09-24T17:11:20.868649+02:00\",\"2024-09-24T17:12:13.357032+02:00\",\"2024-09-24T17:12:56.667851+02:00\",\"2024-09-24T17:14:38.121477+02:00\",\"2024-09-24T17:15:45.678852+02:00\",\"2024-09-24T17:17:26.304018+02:00\",\"2024-09-24T17:20:22.111014+02:00\",\"2024-09-24T17:21:20.242269+02:00\",\"2024-09-24T17:22:26.904100+02:00\",\"2024-09-24T17:23:54.310733+02:00\",\"2024-09-24T17:26:46.254341+02:00\",\"2024-09-24T17:28:57.472078+02:00\",\"2024-09-24T17:29:59.706520+02:00\",\"2024-09-24T17:31:34.981476+02:00\",\"2024-09-24T17:32:47.498218+02:00\"],\"xaxis\":\"x\",\"y\":[3.005924133333333,3.072302016666667,3.175107033333333,1.59818695,1.2217939833333333,1.6651429666666666,1.8837560333333332,2.2986357666666666,2.3478108166666667,2.2226172,1.9444641833333334,1.63535795,1.7613142,2.4384003,3.3685169,2.33737115,2.448401666666667,2.9051788833333334,3.7709056833333334,3.9578679666666665,3.995108666666667,3.5830246,3.7916369666666667],\"yaxis\":\"y\",\"type\":\"scatter\"},{\"hovertemplate\":\"Trip ID=TROL4-07-1-240920-ba-1730\\u003cbr\\u003eTime=%{x}\\u003cbr\\u003eDelay (minutes)=%{y}\\u003cextra\\u003e\\u003c\\u002fextra\\u003e\",\"legendgroup\":\"TROL4-07-1-240920-ba-1730\",\"line\":{\"color\":\"#00cc96\",\"dash\":\"solid\"},\"marker\":{\"symbol\":\"circle\"},\"mode\":\"lines+markers\",\"name\":\"TROL4-07-1-240920-ba-1730\",\"orientation\":\"v\",\"showlegend\":true,\"x\":[\"2024-09-24T16:56:21.199775+02:00\",\"2024-09-24T16:57:46.794223+02:00\",\"2024-09-24T16:59:07.915795+02:00\",\"2024-09-24T17:01:08.433264+02:00\",\"2024-09-24T17:03:54.889477+02:00\",\"2024-09-24T17:05:15+02:00\",\"2024-09-24T17:07:32.804077+02:00\",\"2024-09-24T17:12:05.776194+02:00\",\"2024-09-24T17:14:19.495898+02:00\",\"2024-09-24T17:15:34.823032+02:00\",\"2024-09-24T17:16:23.703238+02:00\",\"2024-09-24T17:19:12.052527+02:00\",\"2024-09-24T17:19:59.072629+02:00\",\"2024-09-24T17:21:42.135574+02:00\",\"2024-09-24T17:22:40.006524+02:00\",\"2024-09-24T17:24:42.857207+02:00\",\"2024-09-24T17:25:33.873631+02:00\",\"2024-09-24T17:26:58.105342+02:00\",\"2024-09-24T17:28:56.572552+02:00\",\"2024-09-24T17:30:58.311822+02:00\",\"2024-09-24T17:32:16.007493+02:00\",\"2024-09-24T17:33:47.207846+02:00\",\"2024-09-24T17:35:03.883755+02:00\"],\"xaxis\":\"x\",\"y\":[-0.6466704166666667,-0.22009628333333334,-0.8680700833333334,-0.8594456,-1.0851753833333333,-1.75,-1.4532653833333333,-1.9037301,-1.6750683666666668,-1.4196161333333333,-1.6049460333333334,-0.79912455,-1.0154561833333333,-0.29774043333333333,-1.3332246,-1.2857132166666667,-1.4354394833333333,-1.0315776333333333,-1.0571241333333332,-1.0281363,-0.73320845,-1.2132025666666666,-0.93527075],\"yaxis\":\"y\",\"type\":\"scatter\"},{\"hovertemplate\":\"Trip ID=TROL4-08-1-240920-ba-1740\\u003cbr\\u003eTime=%{x}\\u003cbr\\u003eDelay (minutes)=%{y}\\u003cextra\\u003e\\u003c\\u002fextra\\u003e\",\"legendgroup\":\"TROL4-08-1-240920-ba-1740\",\"line\":{\"color\":\"#ab63fa\",\"dash\":\"solid\"},\"marker\":{\"symbol\":\"circle\"},\"mode\":\"lines+markers\",\"name\":\"TROL4-08-1-240920-ba-1740\",\"orientation\":\"v\",\"showlegend\":true,\"x\":[\"2024-09-24T16:53:51.770603+02:00\",\"2024-09-24T16:54:45.608936+02:00\",\"2024-09-24T16:57:54.666709+02:00\",\"2024-09-24T17:00:37.704109+02:00\",\"2024-09-24T17:03:26.377593+02:00\",\"2024-09-24T17:05:05.860966+02:00\",\"2024-09-24T17:06:54+02:00\",\"2024-09-24T17:08:37.467771+02:00\",\"2024-09-24T17:11:35.166703+02:00\",\"2024-09-24T17:12:35.348819+02:00\",\"2024-09-24T17:14:09.214305+02:00\",\"2024-09-24T17:17:29.775697+02:00\",\"2024-09-24T17:19:59.800267+02:00\",\"2024-09-24T17:22:06.990742+02:00\",\"2024-09-24T17:22:59.297958+02:00\",\"2024-09-24T17:23:28.862530+02:00\",\"2024-09-24T17:25:33.590085+02:00\",\"2024-09-24T17:26:17.864640+02:00\",\"2024-09-24T17:27:52.746740+02:00\",\"2024-09-24T17:29:34.163521+02:00\",\"2024-09-24T17:31:13.161573+02:00\",\"2024-09-24T17:32:20.645731+02:00\",\"2024-09-24T17:33:37+02:00\",\"2024-09-24T17:35:32.014511+02:00\",\"2024-09-24T17:39:08.105958+02:00\",\"2024-09-24T17:40:52.360295+02:00\",\"2024-09-24T17:42:02.214914+02:00\"],\"xaxis\":\"x\",\"y\":[-1.1371566166666667,-1.2398510666666667,-0.08888818333333333,-0.37159818333333333,-0.56037345,0.09768276666666667,-0.1,-0.37553715,-0.41388828333333333,-1.4108530166666666,-1.84642825,-0.5037383833333333,-1.0033288833333334,-0.8834876333333334,-1.0117007,-1.5189578333333333,-1.44016525,-1.702256,-1.1208876666666667,-1.4306079833333334,-1.78064045,-1.6559044833333334,-1.3833333333333333,-1.4664248166666667,-0.8649007,-1.1273284166666666,-0.9630847666666666],\"yaxis\":\"y\",\"type\":\"scatter\"},{\"hovertemplate\":\"Trip ID=TROL4-09-1-240920-ba-1750\\u003cbr\\u003eTime=%{x}\\u003cbr\\u003eDelay (minutes)=%{y}\\u003cextra\\u003e\\u003c\\u002fextra\\u003e\",\"legendgroup\":\"TROL4-09-1-240920-ba-1750\",\"line\":{\"color\":\"#FFA15A\",\"dash\":\"solid\"},\"marker\":{\"symbol\":\"circle\"},\"mode\":\"lines+markers\",\"name\":\"TROL4-09-1-240920-ba-1750\",\"orientation\":\"v\",\"showlegend\":true,\"x\":[\"2024-09-24T16:52:40.861410+02:00\",\"2024-09-24T16:53:49.709066+02:00\",\"2024-09-24T16:56:17.726292+02:00\",\"2024-09-24T16:57:45.383876+02:00\",\"2024-09-24T16:59:09.794914+02:00\",\"2024-09-24T17:00:29.893861+02:00\",\"2024-09-24T17:01:37.261757+02:00\",\"2024-09-24T17:03:00.472412+02:00\",\"2024-09-24T17:06:13.866548+02:00\",\"2024-09-24T17:07:04+02:00\",\"2024-09-24T17:10:07.584227+02:00\",\"2024-09-24T17:12:43.205591+02:00\",\"2024-09-24T17:14:24.273494+02:00\",\"2024-09-24T17:15:40.348216+02:00\",\"2024-09-24T17:17:37+02:00\",\"2024-09-24T17:19:11.587221+02:00\",\"2024-09-24T17:22:05.655169+02:00\",\"2024-09-24T17:23:15.309180+02:00\",\"2024-09-24T17:24:58.408448+02:00\",\"2024-09-24T17:27:29.554136+02:00\",\"2024-09-24T17:30:34.461315+02:00\",\"2024-09-24T17:32:31.204559+02:00\",\"2024-09-24T17:34:16.215599+02:00\",\"2024-09-24T17:35:16.221255+02:00\",\"2024-09-24T17:37:48.814946+02:00\",\"2024-09-24T17:39:03.221822+02:00\",\"2024-09-24T17:40:20.930225+02:00\",\"2024-09-24T17:41:27.898921+02:00\",\"2024-09-24T17:43:23.803440+02:00\",\"2024-09-24T17:44:29.727116+02:00\",\"2024-09-24T17:45:35.871760+02:00\",\"2024-09-24T17:47:27.450629+02:00\",\"2024-09-24T17:48:47.866854+02:00\",\"2024-09-24T17:49:56.204387+02:00\",\"2024-09-24T17:52:18+02:00\"],\"xaxis\":\"x\",\"y\":[-1.3189765,-2.171515566666667,-2.7045618,-2.2436020666666665,-2.8367514333333332,-2.501768983333333,-3.3789707166666667,-3.9921264666666665,-2.7688908666666667,-2.933333333333333,-1.8735962166666666,-2.2799068166666667,-3.5954417666666667,-3.3275297333333334,-3.3833333333333333,-3.80687965,-3.9057471833333333,-4.744847,-5.026525866666667,-4.507431066666666,-4.42564475,-4.479924016666667,-3.7297400166666668,-3.72964575,-3.1864175666666665,-2.946302966666667,-2.651162916666667,-3.5350179833333333,-3.603276,-3.5045480666666666,-3.402137333333333,-3.5424895166666666,-4.2022191,-4.0632602166666665,-3.7],\"yaxis\":\"y\",\"type\":\"scatter\"},{\"hovertemplate\":\"Trip ID=TROL4-10-1-240920-ba-1800\\u003cbr\\u003eTime=%{x}\\u003cbr\\u003eDelay (minutes)=%{y}\\u003cextra\\u003e\\u003c\\u002fextra\\u003e\",\"legendgroup\":\"TROL4-10-1-240920-ba-1800\",\"line\":{\"color\":\"#19d3f3\",\"dash\":\"solid\"},\"marker\":{\"symbol\":\"circle\"},\"mode\":\"lines+markers\",\"name\":\"TROL4-10-1-240920-ba-1800\",\"orientation\":\"v\",\"showlegend\":true,\"x\":[\"2024-09-24T16:59:39.991241+02:00\",\"2024-09-24T17:01:30.075128+02:00\",\"2024-09-24T17:02:45.148921+02:00\",\"2024-09-24T17:03:54.329666+02:00\",\"2024-09-24T17:06:29.920100+02:00\",\"2024-09-24T17:07:54.082556+02:00\",\"2024-09-24T17:09:18.110941+02:00\",\"2024-09-24T17:10:32.085047+02:00\",\"2024-09-24T17:11:27.916223+02:00\",\"2024-09-24T17:13:37.735616+02:00\",\"2024-09-24T17:17:03.059212+02:00\",\"2024-09-24T17:18:02.058792+02:00\",\"2024-09-24T17:20:35.704250+02:00\",\"2024-09-24T17:22:27.479049+02:00\",\"2024-09-24T17:26:24.229126+02:00\",\"2024-09-24T17:28:17.835151+02:00\",\"2024-09-24T17:29:33.066289+02:00\",\"2024-09-24T17:31:51.356500+02:00\",\"2024-09-24T17:33:14.878860+02:00\",\"2024-09-24T17:35:37.485812+02:00\",\"2024-09-24T17:40:32.684770+02:00\",\"2024-09-24T17:42:46.486134+02:00\",\"2024-09-24T17:43:32.657256+02:00\",\"2024-09-24T17:44:49.004491+02:00\",\"2024-09-24T17:46:33.036086+02:00\",\"2024-09-24T17:48:18.637413+02:00\",\"2024-09-24T17:49:14.049990+02:00\",\"2024-09-24T17:50:03+02:00\",\"2024-09-24T17:52:07.170368+02:00\"],\"xaxis\":\"x\",\"y\":[11.666520683333333,0.5012521333333333,0.7524820166666667,-0.09450556666666667,0.4986683333333333,0.9013759333333333,0.3018490166666667,0.5347507833333334,-0.5347296166666666,-0.3710730666666667,1.0509868666666666,1.0343132,1.5950708333333332,0.45798415,0.40381876666666666,0.2972525166666667,-0.44889518333333334,-1.1440583333333334,-1.752019,-1.3752364666666668,-1.4552538333333334,-1.2252311,-1.4557124,-1.1832584833333333,-1.4493985666666667,-0.68937645,-0.7658335,-1.95,-1.8804938666666666],\"yaxis\":\"y\",\"type\":\"scatter\"},{\"hovertemplate\":\"Trip ID=TROL4-11-1-240920-ab-1640\\u003cbr\\u003eTime=%{x}\\u003cbr\\u003eDelay (minutes)=%{y}\\u003cextra\\u003e\\u003c\\u002fextra\\u003e\",\"legendgroup\":\"TROL4-11-1-240920-ab-1640\",\"line\":{\"color\":\"#FF6692\",\"dash\":\"solid\"},\"marker\":{\"symbol\":\"circle\"},\"mode\":\"lines+markers\",\"name\":\"TROL4-11-1-240920-ab-1640\",\"orientation\":\"v\",\"showlegend\":true,\"x\":[\"2024-09-24T16:52:28+02:00\",\"2024-09-24T16:53:59.037021+02:00\"],\"xaxis\":\"x\",\"y\":[2.466666666666667,1.98395035],\"yaxis\":\"y\",\"type\":\"scatter\"},{\"hovertemplate\":\"Trip ID=TROL4-11-1-240920-ba-1810\\u003cbr\\u003eTime=%{x}\\u003cbr\\u003eDelay (minutes)=%{y}\\u003cextra\\u003e\\u003c\\u002fextra\\u003e\",\"legendgroup\":\"TROL4-11-1-240920-ba-1810\",\"line\":{\"color\":\"#B6E880\",\"dash\":\"solid\"},\"marker\":{\"symbol\":\"circle\"},\"mode\":\"lines+markers\",\"name\":\"TROL4-11-1-240920-ba-1810\",\"orientation\":\"v\",\"showlegend\":true,\"x\":[\"2024-09-24T17:05:57.778148+02:00\",\"2024-09-24T17:07:32.470105+02:00\",\"2024-09-24T17:08:43.704028+02:00\",\"2024-09-24T17:09:58.370410+02:00\",\"2024-09-24T17:11:41.366272+02:00\",\"2024-09-24T17:13:14.335548+02:00\",\"2024-09-24T17:14:40.384322+02:00\",\"2024-09-24T17:16:25.114549+02:00\",\"2024-09-24T17:17:26.912591+02:00\",\"2024-09-24T17:19:38.883520+02:00\",\"2024-09-24T17:23:06.360941+02:00\",\"2024-09-24T17:23:54.780804+02:00\",\"2024-09-24T17:26:36.918542+02:00\",\"2024-09-24T17:32:22.933923+02:00\",\"2024-09-24T17:34:00.009703+02:00\",\"2024-09-24T17:35:02.523826+02:00\",\"2024-09-24T17:36:46.578873+02:00\",\"2024-09-24T17:39:40.807704+02:00\",\"2024-09-24T17:41:14.029888+02:00\",\"2024-09-24T17:43:03.893335+02:00\",\"2024-09-24T17:45:52.683907+02:00\",\"2024-09-24T17:48:12.099131+02:00\",\"2024-09-24T17:50:32.311926+02:00\",\"2024-09-24T17:51:38.066905+02:00\",\"2024-09-24T17:52:10.249738+02:00\"],\"xaxis\":\"x\",\"y\":[10.962969133333333,-0.45883158333333335,-0.2715995333333333,-1.0271598333333334,-1.3105621333333333,-0.7610742,-1.3269279666666667,-0.5814241833333333,-1.5514568166666667,-1.3519413333333332,0.10601568333333333,-0.0869866,0.6153090333333333,0.38223205,1.0001617166666668,0.04206376666666667,-0.22368545,-0.3198716,-0.7661685333333333,-0.9351110833333334,-0.12193488333333333,-0.7983478166666667,-0.4614679,-0.3655515833333333,-0.8291710333333333],\"yaxis\":\"y\",\"type\":\"scatter\"},{\"hovertemplate\":\"Trip ID=TROL4-12-1-240920-ab-1650\\u003cbr\\u003eTime=%{x}\\u003cbr\\u003eDelay (minutes)=%{y}\\u003cextra\\u003e\\u003c\\u002fextra\\u003e\",\"legendgroup\":\"TROL4-12-1-240920-ab-1650\",\"line\":{\"color\":\"#FF97FF\",\"dash\":\"solid\"},\"marker\":{\"symbol\":\"circle\"},\"mode\":\"lines+markers\",\"name\":\"TROL4-12-1-240920-ab-1650\",\"orientation\":\"v\",\"showlegend\":true,\"x\":[\"2024-09-24T16:53:49.050739+02:00\",\"2024-09-24T16:54:55.186425+02:00\",\"2024-09-24T16:57:13.369212+02:00\",\"2024-09-24T16:58:25.556671+02:00\",\"2024-09-24T16:59:21.927317+02:00\",\"2024-09-24T17:00:44.408911+02:00\"],\"xaxis\":\"x\",\"y\":[1.8175123166666667,1.91977375,2.2228202,2.4259445166666667,2.365455283333333,1.7401485166666666],\"yaxis\":\"y\",\"type\":\"scatter\"},{\"hovertemplate\":\"Trip ID=TROL4-12-1-240920-ba-1810\\u003cbr\\u003eTime=%{x}\\u003cbr\\u003eDelay (minutes)=%{y}\\u003cextra\\u003e\\u003c\\u002fextra\\u003e\",\"legendgroup\":\"TROL4-12-1-240920-ba-1810\",\"line\":{\"color\":\"#FECB52\",\"dash\":\"solid\"},\"marker\":{\"symbol\":\"circle\"},\"mode\":\"lines+markers\",\"name\":\"TROL4-12-1-240920-ba-1810\",\"orientation\":\"v\",\"showlegend\":true,\"x\":[\"2024-09-24T17:13:16.015348+02:00\",\"2024-09-24T17:15:33.514653+02:00\",\"2024-09-24T17:16:36.100345+02:00\",\"2024-09-24T17:17:44.257162+02:00\",\"2024-09-24T17:19:48.425971+02:00\",\"2024-09-24T17:21:12.507112+02:00\",\"2024-09-24T17:22:58.545551+02:00\",\"2024-09-24T17:24:27.138335+02:00\",\"2024-09-24T17:26:27.338687+02:00\",\"2024-09-24T17:27:57+02:00\",\"2024-09-24T17:31:07.427168+02:00\",\"2024-09-24T17:32:04.537108+02:00\",\"2024-09-24T17:33:51.732485+02:00\",\"2024-09-24T17:39:45.898050+02:00\",\"2024-09-24T17:41:13.130692+02:00\",\"2024-09-24T17:43:01.996400+02:00\",\"2024-09-24T17:45:25.997159+02:00\",\"2024-09-24T17:47:51.653802+02:00\",\"2024-09-24T17:49:22.381659+02:00\"],\"xaxis\":\"x\",\"y\":[11.266922466666667,-0.44142245,-0.39832758333333335,-1.2623806333333334,-1.1929004833333332,-0.7915481333333333,-1.0242408166666668,-0.5476944166666666,-0.5443552166666666,-1.05,0.12378613333333334,0.07561846666666666,-0.13779191666666665,-0.2350325,0.21884486666666667,0.033273333333333335,0.43328598333333335,-0.1391033,-0.62697235],\"yaxis\":\"y\",\"type\":\"scatter\"},{\"hovertemplate\":\"Trip ID=TROL4-13-1-240920-ab-1700\\u003cbr\\u003eTime=%{x}\\u003cbr\\u003eDelay (minutes)=%{y}\\u003cextra\\u003e\\u003c\\u002fextra\\u003e\",\"legendgroup\":\"TROL4-13-1-240920-ab-1700\",\"line\":{\"color\":\"#636efa\",\"dash\":\"solid\"},\"marker\":{\"symbol\":\"circle\"},\"mode\":\"lines+markers\",\"name\":\"TROL4-13-1-240920-ab-1700\",\"orientation\":\"v\",\"showlegend\":true,\"x\":[\"2024-09-24T16:52:23.842235+02:00\",\"2024-09-24T16:53:27.418362+02:00\",\"2024-09-24T16:55:17.904821+02:00\",\"2024-09-24T16:58:17.491093+02:00\",\"2024-09-24T16:59:32.339522+02:00\",\"2024-09-24T17:00:55.102636+02:00\",\"2024-09-24T17:02:59.588721+02:00\",\"2024-09-24T17:03:56.979271+02:00\",\"2024-09-24T17:05:57.076408+02:00\",\"2024-09-24T17:07:07.151682+02:00\",\"2024-09-24T17:07:42.740618+02:00\",\"2024-09-24T17:08:57.647975+02:00\"],\"xaxis\":\"x\",\"y\":[5.397370583333333,5.4569727,5.298413683333333,4.291518216666667,4.538992033333333,3.9183772666666665,3.99314535,3.9496545166666666,3.9512734666666667,4.1191947,3.7123436333333335,2.9607995833333334],\"yaxis\":\"y\",\"type\":\"scatter\"},{\"hovertemplate\":\"Trip ID=TROL4-13-1-240920-ba-1820\\u003cbr\\u003eTime=%{x}\\u003cbr\\u003eDelay (minutes)=%{y}\\u003cextra\\u003e\\u003c\\u002fextra\\u003e\",\"legendgroup\":\"TROL4-13-1-240920-ba-1820\",\"line\":{\"color\":\"#EF553B\",\"dash\":\"solid\"},\"marker\":{\"symbol\":\"circle\"},\"mode\":\"lines+markers\",\"name\":\"TROL4-13-1-240920-ba-1820\",\"orientation\":\"v\",\"showlegend\":true,\"x\":[\"2024-09-24T17:23:37.688049+02:00\",\"2024-09-24T17:25:31.489870+02:00\",\"2024-09-24T17:28:40.253975+02:00\",\"2024-09-24T17:29:49.329736+02:00\",\"2024-09-24T17:31:28+02:00\",\"2024-09-24T17:32:28.532068+02:00\",\"2024-09-24T17:39:01.427356+02:00\",\"2024-09-24T17:40:01+02:00\",\"2024-09-24T17:42:57.535474+02:00\",\"2024-09-24T17:47:11.463196+02:00\",\"2024-09-24T17:49:08.549685+02:00\",\"2024-09-24T17:51:11.745414+02:00\"],\"xaxis\":\"x\",\"y\":[-0.37186585,0.5248311666666666,-0.3291004166666667,-0.17783773333333333,-0.5333333333333333,-0.5244655333333333,0.023789266666666666,0.016666666666666666,0.9589245666666667,-0.8089467333333333,0.14249475,0.1957569],\"yaxis\":\"y\",\"type\":\"scatter\"},{\"hovertemplate\":\"Trip ID=TROL4-14-1-240920-ab-1700\\u003cbr\\u003eTime=%{x}\\u003cbr\\u003eDelay (minutes)=%{y}\\u003cextra\\u003e\\u003c\\u002fextra\\u003e\",\"legendgroup\":\"TROL4-14-1-240920-ab-1700\",\"line\":{\"color\":\"#00cc96\",\"dash\":\"solid\"},\"marker\":{\"symbol\":\"circle\"},\"mode\":\"lines+markers\",\"name\":\"TROL4-14-1-240920-ab-1700\",\"orientation\":\"v\",\"showlegend\":true,\"x\":[\"2024-09-24T16:54:11.660705+02:00\",\"2024-09-24T16:57:10.967727+02:00\",\"2024-09-24T16:58:58.079244+02:00\",\"2024-09-24T17:00:10.679060+02:00\",\"2024-09-24T17:02:10.031629+02:00\",\"2024-09-24T17:06:17.475469+02:00\",\"2024-09-24T17:07:39.181676+02:00\",\"2024-09-24T17:09:16.827912+02:00\",\"2024-09-24T17:10:57.102986+02:00\",\"2024-09-24T17:11:57.963094+02:00\",\"2024-09-24T17:14:42.282565+02:00\",\"2024-09-24T17:15:31.524167+02:00\",\"2024-09-24T17:16:24.870831+02:00\",\"2024-09-24T17:18:12.335565+02:00\"],\"xaxis\":\"x\",\"y\":[3.1943450833333333,5.18279545,4.9679874,5.177984333333334,5.167193816666667,5.291257816666667,5.653027933333333,5.2804652,4.951716433333333,4.966051566666667,5.704709416666667,5.525402783333333,5.41451385,5.20559275],\"yaxis\":\"y\",\"type\":\"scatter\"},{\"hovertemplate\":\"Trip ID=TROL4-14-1-240920-ba-1830\\u003cbr\\u003eTime=%{x}\\u003cbr\\u003eDelay (minutes)=%{y}\\u003cextra\\u003e\\u003c\\u002fextra\\u003e\",\"legendgroup\":\"TROL4-14-1-240920-ba-1830\",\"line\":{\"color\":\"#ab63fa\",\"dash\":\"solid\"},\"marker\":{\"symbol\":\"circle\"},\"mode\":\"lines+markers\",\"name\":\"TROL4-14-1-240920-ba-1830\",\"orientation\":\"v\",\"showlegend\":true,\"x\":[\"2024-09-24T17:31:54.259680+02:00\",\"2024-09-24T17:33:17.923450+02:00\",\"2024-09-24T17:34:21+02:00\",\"2024-09-24T17:37:22.228581+02:00\",\"2024-09-24T17:39:19+02:00\",\"2024-09-24T17:40:35+02:00\",\"2024-09-24T17:41:58.427715+02:00\",\"2024-09-24T17:43:08.107198+02:00\",\"2024-09-24T17:44:54+02:00\",\"2024-09-24T17:47:17.066817+02:00\",\"2024-09-24T17:48:16.487107+02:00\",\"2024-09-24T17:51:55.463408+02:00\"],\"xaxis\":\"x\",\"y\":[-0.095672,0.2987241666666667,-0.65,0.37047635,1.3166666666666667,0.5833333333333334,0.97379525,0.13511996666666667,-0.1,0.28444695,0.27478511666666666,1.9243901333333333],\"yaxis\":\"y\",\"type\":\"scatter\"},{\"hovertemplate\":\"Trip ID=TROL4-15-1-240920-ba-1740\\u003cbr\\u003eTime=%{x}\\u003cbr\\u003eDelay (minutes)=%{y}\\u003cextra\\u003e\\u003c\\u002fextra\\u003e\",\"legendgroup\":\"TROL4-15-1-240920-ba-1740\",\"line\":{\"color\":\"#FFA15A\",\"dash\":\"solid\"},\"marker\":{\"symbol\":\"circle\"},\"mode\":\"lines+markers\",\"name\":\"TROL4-15-1-240920-ba-1740\",\"orientation\":\"v\",\"showlegend\":true,\"x\":[\"2024-09-24T16:55:10.696468+02:00\",\"2024-09-24T16:56:40.115241+02:00\",\"2024-09-24T16:57:29.782050+02:00\",\"2024-09-24T17:00:09.691805+02:00\",\"2024-09-24T17:02:07+02:00\",\"2024-09-24T17:03:30.435318+02:00\",\"2024-09-24T17:04:39.631465+02:00\",\"2024-09-24T17:05:48.201851+02:00\",\"2024-09-24T17:07:16.469127+02:00\",\"2024-09-24T17:10:50.203988+02:00\",\"2024-09-24T17:11:46.715096+02:00\",\"2024-09-24T17:14:31.096957+02:00\",\"2024-09-24T17:20:10.490409+02:00\",\"2024-09-24T17:22:37.273971+02:00\",\"2024-09-24T17:24:17.346383+02:00\",\"2024-09-24T17:26:35+02:00\",\"2024-09-24T17:29:10.310722+02:00\",\"2024-09-24T17:30:34.971247+02:00\",\"2024-09-24T17:32:08.183011+02:00\",\"2024-09-24T17:34:51+02:00\",\"2024-09-24T17:37:28.681165+02:00\",\"2024-09-24T17:38:55.817774+02:00\",\"2024-09-24T17:40:26.344106+02:00\",\"2024-09-24T17:41:08.117135+02:00\",\"2024-09-24T17:42:39.310653+02:00\",\"2024-09-24T17:44:08.225290+02:00\",\"2024-09-24T17:44:56.568641+02:00\",\"2024-09-24T17:46:11.183404+02:00\",\"2024-09-24T17:47:41+02:00\",\"2024-09-24T17:48:26.202318+02:00\",\"2024-09-24T17:49:46.663575+02:00\",\"2024-09-24T17:51:37.135027+02:00\"],\"xaxis\":\"x\",\"y\":[10.178274466666666,10.66858735,9.4963675,9.161530083333334,10.116666666666667,9.5072553,9.660524416666666,8.803364183333333,8.27448545,8.836733133333333,8.778584933333333,9.518282616666667,9.17484015,10.62123285,10.289106383333333,10.583333333333334,10.171845366666666,9.582854116666667,9.136383516666667,9.85,9.478019416666667,8.930296233333333,9.439068433333333,9.135285583333333,8.65517755,9.137088166666667,8.942810683333333,8.186390066666666,7.683333333333334,7.4367053,7.77772625,7.618917116666666],\"yaxis\":\"y\",\"type\":\"scatter\"},{\"hovertemplate\":\"Trip ID=TROL4-16-1-240920-ab-1710\\u003cbr\\u003eTime=%{x}\\u003cbr\\u003eDelay (minutes)=%{y}\\u003cextra\\u003e\\u003c\\u002fextra\\u003e\",\"legendgroup\":\"TROL4-16-1-240920-ab-1710\",\"line\":{\"color\":\"#19d3f3\",\"dash\":\"solid\"},\"marker\":{\"symbol\":\"circle\"},\"mode\":\"lines+markers\",\"name\":\"TROL4-16-1-240920-ab-1710\",\"orientation\":\"v\",\"showlegend\":true,\"x\":[\"2024-09-24T16:54:33.910630+02:00\",\"2024-09-24T16:59:05.315534+02:00\",\"2024-09-24T17:01:39.396915+02:00\",\"2024-09-24T17:03:24.189537+02:00\",\"2024-09-24T17:04:32.335278+02:00\",\"2024-09-24T17:06:25.623021+02:00\",\"2024-09-24T17:08:50.252772+02:00\",\"2024-09-24T17:10:00.206796+02:00\",\"2024-09-24T17:11:52.563227+02:00\",\"2024-09-24T17:13:43.364904+02:00\",\"2024-09-24T17:14:38.478331+02:00\",\"2024-09-24T17:16:54.302870+02:00\",\"2024-09-24T17:17:33.958094+02:00\",\"2024-09-24T17:18:54.299230+02:00\",\"2024-09-24T17:20:00+02:00\"],\"xaxis\":\"x\",\"y\":[1.5651771666666667,1.0885922333333333,2.65661525,2.40315895,2.5389213,2.42705035,1.8375462,2.0034466,1.8760537833333333,1.7227484,1.6413055166666668,1.9050478333333334,1.5659682333333333,1.9049871666666667,1.0],\"yaxis\":\"y\",\"type\":\"scatter\"},{\"hovertemplate\":\"Trip ID=TROL4-16-1-240920-ba-1850\\u003cbr\\u003eTime=%{x}\\u003cbr\\u003eDelay (minutes)=%{y}\\u003cextra\\u003e\\u003c\\u002fextra\\u003e\",\"legendgroup\":\"TROL4-16-1-240920-ba-1850\",\"line\":{\"color\":\"#FF6692\",\"dash\":\"solid\"},\"marker\":{\"symbol\":\"circle\"},\"mode\":\"lines+markers\",\"name\":\"TROL4-16-1-240920-ba-1850\",\"orientation\":\"v\",\"showlegend\":true,\"x\":[\"2024-09-24T17:48:21.736183+02:00\",\"2024-09-24T17:49:39.893898+02:00\",\"2024-09-24T17:51:14.792104+02:00\"],\"xaxis\":\"x\",\"y\":[0.3622697166666667,0.6648983,0.24653506666666666],\"yaxis\":\"y\",\"type\":\"scatter\"},{\"hovertemplate\":\"Trip ID=TROL4-17-1-240920-ab-1720\\u003cbr\\u003eTime=%{x}\\u003cbr\\u003eDelay (minutes)=%{y}\\u003cextra\\u003e\\u003c\\u002fextra\\u003e\",\"legendgroup\":\"TROL4-17-1-240920-ab-1720\",\"line\":{\"color\":\"#B6E880\",\"dash\":\"solid\"},\"marker\":{\"symbol\":\"circle\"},\"mode\":\"lines+markers\",\"name\":\"TROL4-17-1-240920-ab-1720\",\"orientation\":\"v\",\"showlegend\":true,\"x\":[\"2024-09-24T16:52:32.562417+02:00\",\"2024-09-24T16:56:13.231621+02:00\",\"2024-09-24T16:58:28.373218+02:00\",\"2024-09-24T17:01:26.641027+02:00\",\"2024-09-24T17:04:22+02:00\",\"2024-09-24T17:05:48.670571+02:00\",\"2024-09-24T17:09:19.968871+02:00\",\"2024-09-24T17:12:08.591131+02:00\",\"2024-09-24T17:14:04.467494+02:00\",\"2024-09-24T17:15:05.900680+02:00\",\"2024-09-24T17:17:09.955989+02:00\",\"2024-09-24T17:21:06.208417+02:00\",\"2024-09-24T17:22:15.566218+02:00\",\"2024-09-24T17:23:40.989144+02:00\",\"2024-09-24T17:25:54+02:00\",\"2024-09-24T17:27:03.986502+02:00\",\"2024-09-24T17:29:19.666741+02:00\",\"2024-09-24T17:30:18.376079+02:00\",\"2024-09-24T17:31:37.459968+02:00\",\"2024-09-24T17:33:16.323419+02:00\"],\"xaxis\":\"x\",\"y\":[3.54270695,4.220527016666667,3.4728869666666666,4.444017116666667,4.366666666666667,4.811176183333333,4.332814516666667,6.143185516666667,6.074458233333333,6.098344666666667,6.16593315,7.103473616666666,7.259436966666667,6.6831524,6.9,7.0664417,7.327779016666667,7.306267983333333,7.6243328,7.272056983333333],\"yaxis\":\"y\",\"type\":\"scatter\"},{\"hovertemplate\":\"Trip ID=TROL4-17-1-240920-ba-1840\\u003cbr\\u003eTime=%{x}\\u003cbr\\u003eDelay (minutes)=%{y}\\u003cextra\\u003e\\u003c\\u002fextra\\u003e\",\"legendgroup\":\"TROL4-17-1-240920-ba-1840\",\"line\":{\"color\":\"#FF97FF\",\"dash\":\"solid\"},\"marker\":{\"symbol\":\"circle\"},\"mode\":\"lines+markers\",\"name\":\"TROL4-17-1-240920-ba-1840\",\"orientation\":\"v\",\"showlegend\":true,\"x\":[\"2024-09-24T17:37:47.977596+02:00\",\"2024-09-24T17:40:03.124408+02:00\",\"2024-09-24T17:41:27.861697+02:00\",\"2024-09-24T17:42:28.495091+02:00\",\"2024-09-24T17:44:24+02:00\",\"2024-09-24T17:45:55.490485+02:00\",\"2024-09-24T17:47:42.958565+02:00\",\"2024-09-24T17:49:08.855460+02:00\",\"2024-09-24T17:51:30.758968+02:00\"],\"xaxis\":\"x\",\"y\":[8.7996266,0.052073466666666665,0.46436161666666664,-0.5250818166666666,-0.6,-0.07515858333333333,-0.28402391666666665,0.147591,0.5126494666666667],\"yaxis\":\"y\",\"type\":\"scatter\"},{\"hovertemplate\":\"Trip ID=TROL4-18-1-240920-ab-1720\\u003cbr\\u003eTime=%{x}\\u003cbr\\u003eDelay (minutes)=%{y}\\u003cextra\\u003e\\u003c\\u002fextra\\u003e\",\"legendgroup\":\"TROL4-18-1-240920-ab-1720\",\"line\":{\"color\":\"#FECB52\",\"dash\":\"solid\"},\"marker\":{\"symbol\":\"circle\"},\"mode\":\"lines+markers\",\"name\":\"TROL4-18-1-240920-ab-1720\",\"orientation\":\"v\",\"showlegend\":true,\"x\":[\"2024-09-24T16:53:04.767008+02:00\",\"2024-09-24T16:55:05.771118+02:00\",\"2024-09-24T16:58:14.248371+02:00\",\"2024-09-24T17:00:52.706912+02:00\",\"2024-09-24T17:03:18.508971+02:00\",\"2024-09-24T17:05:55+02:00\",\"2024-09-24T17:07:37.211896+02:00\",\"2024-09-24T17:10:31.480868+02:00\",\"2024-09-24T17:13:33.697445+02:00\",\"2024-09-24T17:15:13.375363+02:00\",\"2024-09-24T17:16:07.281940+02:00\",\"2024-09-24T17:18:32.759461+02:00\",\"2024-09-24T17:21:48.108886+02:00\",\"2024-09-24T17:23:01.283158+02:00\",\"2024-09-24T17:24:25.824526+02:00\",\"2024-09-24T17:27:12.527450+02:00\",\"2024-09-24T17:28:36.919980+02:00\",\"2024-09-24T17:31:36.696536+02:00\",\"2024-09-24T17:32:25.182235+02:00\",\"2024-09-24T17:33:12.252966+02:00\",\"2024-09-24T17:34:42.102603+02:00\"],\"xaxis\":\"x\",\"y\":[-0.9205498666666667,-0.9038147,-0.76252715,-1.1215514666666666,-0.69151715,-1.0833333333333333,-0.37980173333333334,-1.4753188666666668,0.5616240833333334,0.22292271666666666,0.12136566666666666,0.5459910166666667,0.8018147666666666,1.0213859666666667,0.43040876666666666,1.2087908333333333,1.615333,2.611608933333333,2.4197039166666667,2.2042161,1.70171005],\"yaxis\":\"y\",\"type\":\"scatter\"},{\"hovertemplate\":\"Trip ID=TROL4-19-1-240920-ab-1730\\u003cbr\\u003eTime=%{x}\\u003cbr\\u003eDelay (minutes)=%{y}\\u003cextra\\u003e\\u003c\\u002fextra\\u003e\",\"legendgroup\":\"TROL4-19-1-240920-ab-1730\",\"line\":{\"color\":\"#636efa\",\"dash\":\"solid\"},\"marker\":{\"symbol\":\"circle\"},\"mode\":\"lines+markers\",\"name\":\"TROL4-19-1-240920-ab-1730\",\"orientation\":\"v\",\"showlegend\":true,\"x\":[\"2024-09-24T16:53:48.819374+02:00\",\"2024-09-24T16:56:37.870125+02:00\",\"2024-09-24T16:58:08.219423+02:00\",\"2024-09-24T17:00:08+02:00\",\"2024-09-24T17:02:06.007061+02:00\",\"2024-09-24T17:05:05.024911+02:00\",\"2024-09-24T17:07:17.303481+02:00\",\"2024-09-24T17:09:38.226455+02:00\",\"2024-09-24T17:11:44+02:00\",\"2024-09-24T17:13:04.409401+02:00\",\"2024-09-24T17:16:23.821112+02:00\",\"2024-09-24T17:18:13.128993+02:00\",\"2024-09-24T17:19:58.816351+02:00\",\"2024-09-24T17:21:16.780359+02:00\",\"2024-09-24T17:23:10.944558+02:00\",\"2024-09-24T17:26:59.181437+02:00\",\"2024-09-24T17:28:01.402711+02:00\",\"2024-09-24T17:29:34.044796+02:00\",\"2024-09-24T17:32:02.889192+02:00\",\"2024-09-24T17:33:58.673648+02:00\",\"2024-09-24T17:36:34.477361+02:00\",\"2024-09-24T17:37:11+02:00\",\"2024-09-24T17:38:26.860195+02:00\",\"2024-09-24T17:39:51+02:00\"],\"xaxis\":\"x\",\"y\":[-0.18634376666666666,-0.36883125,-0.8630096166666666,-0.8666666666666667,-0.8998823166666666,-0.9162514833333333,-1.71160865,-1.3628924166666667,-2.2666666666666666,-1.9265099833333332,-2.602981466666667,-1.78118345,-2.0197274833333334,-1.72032735,-1.8175907,-1.0136427166666666,-0.9766214833333333,-1.4325867333333333,-0.9518468,-0.022105866666666668,0.5746226833333333,0.18333333333333332,0.44766991666666667,-0.15],\"yaxis\":\"y\",\"type\":\"scatter\"},{\"hovertemplate\":\"Trip ID=TROL4-22-1-240920-ab-1800\\u003cbr\\u003eTime=%{x}\\u003cbr\\u003eDelay (minutes)=%{y}\\u003cextra\\u003e\\u003c\\u002fextra\\u003e\",\"legendgroup\":\"TROL4-22-1-240920-ab-1800\",\"line\":{\"color\":\"#EF553B\",\"dash\":\"solid\"},\"marker\":{\"symbol\":\"circle\"},\"mode\":\"lines+markers\",\"name\":\"TROL4-22-1-240920-ab-1800\",\"orientation\":\"v\",\"showlegend\":true,\"x\":[\"2024-09-24T17:00:06.556909+02:00\",\"2024-09-24T17:01:25.151399+02:00\",\"2024-09-24T17:03:02.328960+02:00\",\"2024-09-24T17:04:15.806459+02:00\",\"2024-09-24T17:05:57.961149+02:00\",\"2024-09-24T17:06:55.206919+02:00\",\"2024-09-24T17:08:17.100903+02:00\",\"2024-09-24T17:09:01.417915+02:00\",\"2024-09-24T17:12:17.192931+02:00\",\"2024-09-24T17:13:10.563731+02:00\",\"2024-09-24T17:13:44.375403+02:00\",\"2024-09-24T17:14:51.110818+02:00\",\"2024-09-24T17:16:41.466813+02:00\",\"2024-09-24T17:18:54.682727+02:00\",\"2024-09-24T17:20:08.797881+02:00\",\"2024-09-24T17:22:58.086374+02:00\",\"2024-09-24T17:24:14.393869+02:00\",\"2024-09-24T17:25:24.796881+02:00\",\"2024-09-24T17:27:02.329664+02:00\",\"2024-09-24T17:29:41.102561+02:00\",\"2024-09-24T17:33:48.069279+02:00\",\"2024-09-24T17:36:28.520791+02:00\",\"2024-09-24T17:38:05.178810+02:00\",\"2024-09-24T17:40:22.850680+02:00\",\"2024-09-24T17:43:49.830390+02:00\",\"2024-09-24T17:45:20.481650+02:00\",\"2024-09-24T17:46:23.585259+02:00\",\"2024-09-24T17:48:18.270202+02:00\",\"2024-09-24T17:51:52.827298+02:00\"],\"xaxis\":\"x\",\"y\":[3.109281816666667,3.4191899833333332,3.038816,3.263440983333333,2.96601915,2.9201153166666667,3.28501505,2.0236319166666665,3.28654885,3.1760621833333333,2.73959005,2.851846966666667,2.69111355,2.9113787833333333,2.14663135,1.9681062333333332,1.2398978166666668,0.41328135,0.038827733333333336,-0.31495731666666665,-1.19884535,-1.5246534833333334,-0.9136865,-2.6191553333333335,-0.1694935,-0.6586391666666667,-0.60691235,-0.6954966333333333,-0.11954503333333333],\"yaxis\":\"y\",\"type\":\"scatter\"}],                        {\"template\":{\"data\":{\"barpolar\":[{\"marker\":{\"line\":{\"color\":\"white\",\"width\":0.5},\"pattern\":{\"fillmode\":\"overlay\",\"size\":10,\"solidity\":0.2}},\"type\":\"barpolar\"}],\"bar\":[{\"error_x\":{\"color\":\"#2a3f5f\"},\"error_y\":{\"color\":\"#2a3f5f\"},\"marker\":{\"line\":{\"color\":\"white\",\"width\":0.5},\"pattern\":{\"fillmode\":\"overlay\",\"size\":10,\"solidity\":0.2}},\"type\":\"bar\"}],\"carpet\":[{\"aaxis\":{\"endlinecolor\":\"#2a3f5f\",\"gridcolor\":\"#C8D4E3\",\"linecolor\":\"#C8D4E3\",\"minorgridcolor\":\"#C8D4E3\",\"startlinecolor\":\"#2a3f5f\"},\"baxis\":{\"endlinecolor\":\"#2a3f5f\",\"gridcolor\":\"#C8D4E3\",\"linecolor\":\"#C8D4E3\",\"minorgridcolor\":\"#C8D4E3\",\"startlinecolor\":\"#2a3f5f\"},\"type\":\"carpet\"}],\"choropleth\":[{\"colorbar\":{\"outlinewidth\":0,\"ticks\":\"\"},\"type\":\"choropleth\"}],\"contourcarpet\":[{\"colorbar\":{\"outlinewidth\":0,\"ticks\":\"\"},\"type\":\"contourcarpet\"}],\"contour\":[{\"colorbar\":{\"outlinewidth\":0,\"ticks\":\"\"},\"colorscale\":[[0.0,\"#0d0887\"],[0.1111111111111111,\"#46039f\"],[0.2222222222222222,\"#7201a8\"],[0.3333333333333333,\"#9c179e\"],[0.4444444444444444,\"#bd3786\"],[0.5555555555555556,\"#d8576b\"],[0.6666666666666666,\"#ed7953\"],[0.7777777777777778,\"#fb9f3a\"],[0.8888888888888888,\"#fdca26\"],[1.0,\"#f0f921\"]],\"type\":\"contour\"}],\"heatmapgl\":[{\"colorbar\":{\"outlinewidth\":0,\"ticks\":\"\"},\"colorscale\":[[0.0,\"#0d0887\"],[0.1111111111111111,\"#46039f\"],[0.2222222222222222,\"#7201a8\"],[0.3333333333333333,\"#9c179e\"],[0.4444444444444444,\"#bd3786\"],[0.5555555555555556,\"#d8576b\"],[0.6666666666666666,\"#ed7953\"],[0.7777777777777778,\"#fb9f3a\"],[0.8888888888888888,\"#fdca26\"],[1.0,\"#f0f921\"]],\"type\":\"heatmapgl\"}],\"heatmap\":[{\"colorbar\":{\"outlinewidth\":0,\"ticks\":\"\"},\"colorscale\":[[0.0,\"#0d0887\"],[0.1111111111111111,\"#46039f\"],[0.2222222222222222,\"#7201a8\"],[0.3333333333333333,\"#9c179e\"],[0.4444444444444444,\"#bd3786\"],[0.5555555555555556,\"#d8576b\"],[0.6666666666666666,\"#ed7953\"],[0.7777777777777778,\"#fb9f3a\"],[0.8888888888888888,\"#fdca26\"],[1.0,\"#f0f921\"]],\"type\":\"heatmap\"}],\"histogram2dcontour\":[{\"colorbar\":{\"outlinewidth\":0,\"ticks\":\"\"},\"colorscale\":[[0.0,\"#0d0887\"],[0.1111111111111111,\"#46039f\"],[0.2222222222222222,\"#7201a8\"],[0.3333333333333333,\"#9c179e\"],[0.4444444444444444,\"#bd3786\"],[0.5555555555555556,\"#d8576b\"],[0.6666666666666666,\"#ed7953\"],[0.7777777777777778,\"#fb9f3a\"],[0.8888888888888888,\"#fdca26\"],[1.0,\"#f0f921\"]],\"type\":\"histogram2dcontour\"}],\"histogram2d\":[{\"colorbar\":{\"outlinewidth\":0,\"ticks\":\"\"},\"colorscale\":[[0.0,\"#0d0887\"],[0.1111111111111111,\"#46039f\"],[0.2222222222222222,\"#7201a8\"],[0.3333333333333333,\"#9c179e\"],[0.4444444444444444,\"#bd3786\"],[0.5555555555555556,\"#d8576b\"],[0.6666666666666666,\"#ed7953\"],[0.7777777777777778,\"#fb9f3a\"],[0.8888888888888888,\"#fdca26\"],[1.0,\"#f0f921\"]],\"type\":\"histogram2d\"}],\"histogram\":[{\"marker\":{\"pattern\":{\"fillmode\":\"overlay\",\"size\":10,\"solidity\":0.2}},\"type\":\"histogram\"}],\"mesh3d\":[{\"colorbar\":{\"outlinewidth\":0,\"ticks\":\"\"},\"type\":\"mesh3d\"}],\"parcoords\":[{\"line\":{\"colorbar\":{\"outlinewidth\":0,\"ticks\":\"\"}},\"type\":\"parcoords\"}],\"pie\":[{\"automargin\":true,\"type\":\"pie\"}],\"scatter3d\":[{\"line\":{\"colorbar\":{\"outlinewidth\":0,\"ticks\":\"\"}},\"marker\":{\"colorbar\":{\"outlinewidth\":0,\"ticks\":\"\"}},\"type\":\"scatter3d\"}],\"scattercarpet\":[{\"marker\":{\"colorbar\":{\"outlinewidth\":0,\"ticks\":\"\"}},\"type\":\"scattercarpet\"}],\"scattergeo\":[{\"marker\":{\"colorbar\":{\"outlinewidth\":0,\"ticks\":\"\"}},\"type\":\"scattergeo\"}],\"scattergl\":[{\"marker\":{\"colorbar\":{\"outlinewidth\":0,\"ticks\":\"\"}},\"type\":\"scattergl\"}],\"scattermapbox\":[{\"marker\":{\"colorbar\":{\"outlinewidth\":0,\"ticks\":\"\"}},\"type\":\"scattermapbox\"}],\"scatterpolargl\":[{\"marker\":{\"colorbar\":{\"outlinewidth\":0,\"ticks\":\"\"}},\"type\":\"scatterpolargl\"}],\"scatterpolar\":[{\"marker\":{\"colorbar\":{\"outlinewidth\":0,\"ticks\":\"\"}},\"type\":\"scatterpolar\"}],\"scatter\":[{\"fillpattern\":{\"fillmode\":\"overlay\",\"size\":10,\"solidity\":0.2},\"type\":\"scatter\"}],\"scatterternary\":[{\"marker\":{\"colorbar\":{\"outlinewidth\":0,\"ticks\":\"\"}},\"type\":\"scatterternary\"}],\"surface\":[{\"colorbar\":{\"outlinewidth\":0,\"ticks\":\"\"},\"colorscale\":[[0.0,\"#0d0887\"],[0.1111111111111111,\"#46039f\"],[0.2222222222222222,\"#7201a8\"],[0.3333333333333333,\"#9c179e\"],[0.4444444444444444,\"#bd3786\"],[0.5555555555555556,\"#d8576b\"],[0.6666666666666666,\"#ed7953\"],[0.7777777777777778,\"#fb9f3a\"],[0.8888888888888888,\"#fdca26\"],[1.0,\"#f0f921\"]],\"type\":\"surface\"}],\"table\":[{\"cells\":{\"fill\":{\"color\":\"#EBF0F8\"},\"line\":{\"color\":\"white\"}},\"header\":{\"fill\":{\"color\":\"#C8D4E3\"},\"line\":{\"color\":\"white\"}},\"type\":\"table\"}]},\"layout\":{\"annotationdefaults\":{\"arrowcolor\":\"#2a3f5f\",\"arrowhead\":0,\"arrowwidth\":1},\"autotypenumbers\":\"strict\",\"coloraxis\":{\"colorbar\":{\"outlinewidth\":0,\"ticks\":\"\"}},\"colorscale\":{\"diverging\":[[0,\"#8e0152\"],[0.1,\"#c51b7d\"],[0.2,\"#de77ae\"],[0.3,\"#f1b6da\"],[0.4,\"#fde0ef\"],[0.5,\"#f7f7f7\"],[0.6,\"#e6f5d0\"],[0.7,\"#b8e186\"],[0.8,\"#7fbc41\"],[0.9,\"#4d9221\"],[1,\"#276419\"]],\"sequential\":[[0.0,\"#0d0887\"],[0.1111111111111111,\"#46039f\"],[0.2222222222222222,\"#7201a8\"],[0.3333333333333333,\"#9c179e\"],[0.4444444444444444,\"#bd3786\"],[0.5555555555555556,\"#d8576b\"],[0.6666666666666666,\"#ed7953\"],[0.7777777777777778,\"#fb9f3a\"],[0.8888888888888888,\"#fdca26\"],[1.0,\"#f0f921\"]],\"sequentialminus\":[[0.0,\"#0d0887\"],[0.1111111111111111,\"#46039f\"],[0.2222222222222222,\"#7201a8\"],[0.3333333333333333,\"#9c179e\"],[0.4444444444444444,\"#bd3786\"],[0.5555555555555556,\"#d8576b\"],[0.6666666666666666,\"#ed7953\"],[0.7777777777777778,\"#fb9f3a\"],[0.8888888888888888,\"#fdca26\"],[1.0,\"#f0f921\"]]},\"colorway\":[\"#636efa\",\"#EF553B\",\"#00cc96\",\"#ab63fa\",\"#FFA15A\",\"#19d3f3\",\"#FF6692\",\"#B6E880\",\"#FF97FF\",\"#FECB52\"],\"font\":{\"color\":\"#2a3f5f\"},\"geo\":{\"bgcolor\":\"white\",\"lakecolor\":\"white\",\"landcolor\":\"white\",\"showlakes\":true,\"showland\":true,\"subunitcolor\":\"#C8D4E3\"},\"hoverlabel\":{\"align\":\"left\"},\"hovermode\":\"closest\",\"mapbox\":{\"style\":\"light\"},\"paper_bgcolor\":\"white\",\"plot_bgcolor\":\"white\",\"polar\":{\"angularaxis\":{\"gridcolor\":\"#EBF0F8\",\"linecolor\":\"#EBF0F8\",\"ticks\":\"\"},\"bgcolor\":\"white\",\"radialaxis\":{\"gridcolor\":\"#EBF0F8\",\"linecolor\":\"#EBF0F8\",\"ticks\":\"\"}},\"scene\":{\"xaxis\":{\"backgroundcolor\":\"white\",\"gridcolor\":\"#DFE8F3\",\"gridwidth\":2,\"linecolor\":\"#EBF0F8\",\"showbackground\":true,\"ticks\":\"\",\"zerolinecolor\":\"#EBF0F8\"},\"yaxis\":{\"backgroundcolor\":\"white\",\"gridcolor\":\"#DFE8F3\",\"gridwidth\":2,\"linecolor\":\"#EBF0F8\",\"showbackground\":true,\"ticks\":\"\",\"zerolinecolor\":\"#EBF0F8\"},\"zaxis\":{\"backgroundcolor\":\"white\",\"gridcolor\":\"#DFE8F3\",\"gridwidth\":2,\"linecolor\":\"#EBF0F8\",\"showbackground\":true,\"ticks\":\"\",\"zerolinecolor\":\"#EBF0F8\"}},\"shapedefaults\":{\"line\":{\"color\":\"#2a3f5f\"}},\"ternary\":{\"aaxis\":{\"gridcolor\":\"#DFE8F3\",\"linecolor\":\"#A2B1C6\",\"ticks\":\"\"},\"baxis\":{\"gridcolor\":\"#DFE8F3\",\"linecolor\":\"#A2B1C6\",\"ticks\":\"\"},\"bgcolor\":\"white\",\"caxis\":{\"gridcolor\":\"#DFE8F3\",\"linecolor\":\"#A2B1C6\",\"ticks\":\"\"}},\"title\":{\"x\":0.05},\"xaxis\":{\"automargin\":true,\"gridcolor\":\"#EBF0F8\",\"linecolor\":\"#EBF0F8\",\"ticks\":\"\",\"title\":{\"standoff\":15},\"zerolinecolor\":\"#EBF0F8\",\"zerolinewidth\":2},\"yaxis\":{\"automargin\":true,\"gridcolor\":\"#EBF0F8\",\"linecolor\":\"#EBF0F8\",\"ticks\":\"\",\"title\":{\"standoff\":15},\"zerolinecolor\":\"#EBF0F8\",\"zerolinewidth\":2}}},\"xaxis\":{\"anchor\":\"y\",\"domain\":[0.0,1.0],\"title\":{\"text\":\"Time\"},\"tickformat\":\"%H:%M:%S\"},\"yaxis\":{\"anchor\":\"x\",\"domain\":[0.0,1.0],\"title\":{\"text\":\"Delay (minutes)\"}},\"legend\":{\"title\":{\"text\":\"Trip ID\"},\"tracegroupgap\":0},\"margin\":{\"t\":60}},                        {\"responsive\": true}                    ).then(function(){\n",
       "                            \n",
       "var gd = document.getElementById('7949e513-d965-42d7-a86c-82c8cc7831af');\n",
       "var x = new MutationObserver(function (mutations, observer) {{\n",
       "        var display = window.getComputedStyle(gd).display;\n",
       "        if (!display || display === 'none') {{\n",
       "            console.log([gd, 'removed!']);\n",
       "            Plotly.purge(gd);\n",
       "            observer.disconnect();\n",
       "        }}\n",
       "}});\n",
       "\n",
       "// Listen for the removal of the full notebook cells\n",
       "var notebookContainer = gd.closest('#notebook-container');\n",
       "if (notebookContainer) {{\n",
       "    x.observe(notebookContainer, {childList: true});\n",
       "}}\n",
       "\n",
       "// Listen for the clearing of the current output cell\n",
       "var outputEl = gd.closest('.output');\n",
       "if (outputEl) {{\n",
       "    x.observe(outputEl, {childList: true});\n",
       "}}\n",
       "\n",
       "                        })                };                });            </script>        </div>"
      ]
     },
     "metadata": {},
     "output_type": "display_data"
    }
   ],
   "source": [
    "# 11.5.3 Delay Analysis in Public Transport\n",
    "\n",
    "import psycopg2\n",
    "import pandas as pd\n",
    "import plotly.express as px\n",
    "\n",
    "# Function to connect to the PostgreSQL database\n",
    "def connect_to_postgres():\n",
    "    try:\n",
    "        conn = psycopg2.connect(\n",
    "            host=db_host,\n",
    "            port=db_port,\n",
    "            dbname=db_name,\n",
    "            user=db_user,\n",
    "            password=db_pass\n",
    "        )\n",
    "        cur = conn.cursor()\n",
    "        return conn, cur\n",
    "    except Exception as e:\n",
    "        print(f\"Error connecting to PostgreSQL: {e}\")\n",
    "        return None, None\n",
    "\n",
    "# Function to fetch the delay data from the database\n",
    "def fetch_delay_data():\n",
    "    conn, cur = connect_to_postgres()\n",
    "    if conn is None or cur is None:\n",
    "        return pd.DataFrame()\n",
    "\n",
    "    query = \"\"\"\n",
    "    WITH noduptrip AS(\n",
    "\t  SELECT distinct(t.*) \n",
    "\t  FROM tripStops t),\n",
    "   tripDelay AS(\n",
    "        SELECT actual_trip_id, schedule_trip_id,\n",
    "            tgeompoint_Seq(array_agg(tgeompoint_inst(stop_loc, schedule_time) ORDER BY schedule_time)) AS schedule_trip,\n",
    "            tgeompoint_Seq(array_agg(tgeompoint_inst(trip_Geom, actual_time) ORDER BY actual_time)) AS actual_trip\n",
    "        FROM noduptrip\n",
    "        WHERE actual_trip_id like 'TROL4-%'\n",
    "        GROUP BY actual_trip_id, schedule_trip_id),\n",
    "    Final AS (SELECT actual_trip_id, schedule_trip_id, extract(EPOCH FROM actual - schedule)/60 as delay, actual AS t\n",
    "    FROM  (\n",
    "      SELECT actual_trip_id, schedule_trip_id,\n",
    "        unnest(timestamps(actual_trip)) AS actual,\n",
    "        unnest(timestamps(schedule_trip)) AS schedule\n",
    "      FROM tripDelay\n",
    "    ) x)\n",
    "    SELECT * \n",
    "    FROM Final\n",
    "    WHERE delay < 12;\n",
    "    \"\"\"\n",
    "    \n",
    "    cur.execute(query)\n",
    "    delay_data = pd.DataFrame(cur.fetchall(), columns=['actual_trip_id', 'schedule_trip_id', 'delay', 't'])\n",
    "    cur.close()\n",
    "    conn.close()\n",
    "    \n",
    "    return delay_data\n",
    "\n",
    "# Function to plot all trips on the same plot\n",
    "def plot_all_trips(delay_data):\n",
    "    \"\"\"\n",
    "    Plots all delay functions for each trip in one plot.\n",
    "    \n",
    "    Parameters:\n",
    "    - delay_data: DataFrame containing delay data for all trips\n",
    "    \"\"\"\n",
    "    # Create a line plot where color represents each trip\n",
    "    fig = px.line(delay_data, x='t', y='delay', color='actual_trip_id',\n",
    "                  title=\"\",\n",
    "                  labels={\"t\": \"Time\", \"delay\": \"Delay (minutes)\", \"actual_trip_id\": \"Trip ID\"},\n",
    "                  markers=True)\n",
    "    \n",
    "    # Customize the layout\n",
    "    fig.update_layout(xaxis_title=\"Time\", yaxis_title=\"Delay (minutes)\",\n",
    "                      xaxis=dict(tickformat=\"%H:%M:%S\"),\n",
    "                      template=\"plotly_white\")\n",
    "\n",
    "    # Show the plot\n",
    "    fig.show()\n",
    "\n",
    "# Main script\n",
    "if __name__ == \"__main__\":\n",
    "    # Step 1: Fetch the delay data\n",
    "    delay_data = fetch_delay_data()\n",
    "    \n",
    "    if delay_data.empty:\n",
    "        print(\"No delay data found.\")\n",
    "    else:\n",
    "        # Step 2: Plot all delay functions in one plot\n",
    "        plot_all_trips(delay_data)"
   ]
  },
  {
   "cell_type": "code",
   "execution_count": null,
   "id": "7a873897",
   "metadata": {},
   "outputs": [],
   "source": []
  }
 ],
 "metadata": {
  "kernelspec": {
   "display_name": "Python 3 (ipykernel)",
   "language": "python",
   "name": "python3"
  },
  "language_info": {
   "codemirror_mode": {
    "name": "ipython",
    "version": 3
   },
   "file_extension": ".py",
   "mimetype": "text/x-python",
   "name": "python",
   "nbconvert_exporter": "python",
   "pygments_lexer": "ipython3",
   "version": "3.11.5"
  }
 },
 "nbformat": 4,
 "nbformat_minor": 5
}
